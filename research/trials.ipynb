{
 "cells": [
  {
   "cell_type": "code",
   "execution_count": 1,
   "id": "71424548",
   "metadata": {},
   "outputs": [
    {
     "name": "stdout",
     "output_type": "stream",
     "text": [
      "ok\n"
     ]
    }
   ],
   "source": [
    "print(\"ok\")"
   ]
  },
  {
   "cell_type": "code",
   "execution_count": 2,
   "id": "14eac732",
   "metadata": {},
   "outputs": [
    {
     "data": {
      "text/plain": [
       "'/Users/pasindudilshan/Documents/project/Medical-Chatbot/research'"
      ]
     },
     "execution_count": 2,
     "metadata": {},
     "output_type": "execute_result"
    }
   ],
   "source": [
    "%pwd"
   ]
  },
  {
   "cell_type": "code",
   "execution_count": 3,
   "id": "c5b9b108",
   "metadata": {},
   "outputs": [],
   "source": [
    "import os\n",
    "os.chdir(\"../\")"
   ]
  },
  {
   "cell_type": "code",
   "execution_count": 4,
   "id": "50e37fe5",
   "metadata": {},
   "outputs": [
    {
     "data": {
      "text/plain": [
       "'/Users/pasindudilshan/Documents/project/Medical-Chatbot'"
      ]
     },
     "execution_count": 4,
     "metadata": {},
     "output_type": "execute_result"
    }
   ],
   "source": [
    "%pwd"
   ]
  },
  {
   "cell_type": "code",
   "execution_count": 5,
   "id": "4367b199",
   "metadata": {},
   "outputs": [
    {
     "name": "stdout",
     "output_type": "stream",
     "text": [
      "Requirement already satisfied: langchain in /Users/pasindudilshan/miniconda3/envs/medibot/lib/python3.10/site-packages (0.3.26)\n",
      "Requirement already satisfied: langchain-core<1.0.0,>=0.3.66 in /Users/pasindudilshan/miniconda3/envs/medibot/lib/python3.10/site-packages (from langchain) (0.3.67)\n",
      "Requirement already satisfied: langchain-text-splitters<1.0.0,>=0.3.8 in /Users/pasindudilshan/miniconda3/envs/medibot/lib/python3.10/site-packages (from langchain) (0.3.8)\n",
      "Requirement already satisfied: langsmith>=0.1.17 in /Users/pasindudilshan/miniconda3/envs/medibot/lib/python3.10/site-packages (from langchain) (0.4.4)\n",
      "Requirement already satisfied: pydantic<3.0.0,>=2.7.4 in /Users/pasindudilshan/miniconda3/envs/medibot/lib/python3.10/site-packages (from langchain) (2.11.7)\n",
      "Requirement already satisfied: SQLAlchemy<3,>=1.4 in /Users/pasindudilshan/miniconda3/envs/medibot/lib/python3.10/site-packages (from langchain) (2.0.41)\n",
      "Requirement already satisfied: requests<3,>=2 in /Users/pasindudilshan/miniconda3/envs/medibot/lib/python3.10/site-packages (from langchain) (2.32.4)\n",
      "Requirement already satisfied: PyYAML>=5.3 in /Users/pasindudilshan/miniconda3/envs/medibot/lib/python3.10/site-packages (from langchain) (6.0.2)\n",
      "Requirement already satisfied: async-timeout<5.0.0,>=4.0.0 in /Users/pasindudilshan/miniconda3/envs/medibot/lib/python3.10/site-packages (from langchain) (4.0.3)\n",
      "Requirement already satisfied: tenacity!=8.4.0,<10.0.0,>=8.1.0 in /Users/pasindudilshan/miniconda3/envs/medibot/lib/python3.10/site-packages (from langchain-core<1.0.0,>=0.3.66->langchain) (9.1.2)\n",
      "Requirement already satisfied: jsonpatch<2.0,>=1.33 in /Users/pasindudilshan/miniconda3/envs/medibot/lib/python3.10/site-packages (from langchain-core<1.0.0,>=0.3.66->langchain) (1.33)\n",
      "Requirement already satisfied: packaging<25,>=23.2 in /Users/pasindudilshan/miniconda3/envs/medibot/lib/python3.10/site-packages (from langchain-core<1.0.0,>=0.3.66->langchain) (24.2)\n",
      "Requirement already satisfied: typing-extensions>=4.7 in /Users/pasindudilshan/miniconda3/envs/medibot/lib/python3.10/site-packages (from langchain-core<1.0.0,>=0.3.66->langchain) (4.14.0)\n",
      "Requirement already satisfied: jsonpointer>=1.9 in /Users/pasindudilshan/miniconda3/envs/medibot/lib/python3.10/site-packages (from jsonpatch<2.0,>=1.33->langchain-core<1.0.0,>=0.3.66->langchain) (3.0.0)\n",
      "Requirement already satisfied: annotated-types>=0.6.0 in /Users/pasindudilshan/miniconda3/envs/medibot/lib/python3.10/site-packages (from pydantic<3.0.0,>=2.7.4->langchain) (0.7.0)\n",
      "Requirement already satisfied: pydantic-core==2.33.2 in /Users/pasindudilshan/miniconda3/envs/medibot/lib/python3.10/site-packages (from pydantic<3.0.0,>=2.7.4->langchain) (2.33.2)\n",
      "Requirement already satisfied: typing-inspection>=0.4.0 in /Users/pasindudilshan/miniconda3/envs/medibot/lib/python3.10/site-packages (from pydantic<3.0.0,>=2.7.4->langchain) (0.4.1)\n",
      "Requirement already satisfied: charset_normalizer<4,>=2 in /Users/pasindudilshan/miniconda3/envs/medibot/lib/python3.10/site-packages (from requests<3,>=2->langchain) (3.4.2)\n",
      "Requirement already satisfied: idna<4,>=2.5 in /Users/pasindudilshan/miniconda3/envs/medibot/lib/python3.10/site-packages (from requests<3,>=2->langchain) (3.10)\n",
      "Requirement already satisfied: urllib3<3,>=1.21.1 in /Users/pasindudilshan/miniconda3/envs/medibot/lib/python3.10/site-packages (from requests<3,>=2->langchain) (2.5.0)\n",
      "Requirement already satisfied: certifi>=2017.4.17 in /Users/pasindudilshan/miniconda3/envs/medibot/lib/python3.10/site-packages (from requests<3,>=2->langchain) (2025.6.15)\n",
      "Requirement already satisfied: httpx<1,>=0.23.0 in /Users/pasindudilshan/miniconda3/envs/medibot/lib/python3.10/site-packages (from langsmith>=0.1.17->langchain) (0.28.1)\n",
      "Requirement already satisfied: orjson<4.0.0,>=3.9.14 in /Users/pasindudilshan/miniconda3/envs/medibot/lib/python3.10/site-packages (from langsmith>=0.1.17->langchain) (3.10.18)\n",
      "Requirement already satisfied: requests-toolbelt<2.0.0,>=1.0.0 in /Users/pasindudilshan/miniconda3/envs/medibot/lib/python3.10/site-packages (from langsmith>=0.1.17->langchain) (1.0.0)\n",
      "Requirement already satisfied: zstandard<0.24.0,>=0.23.0 in /Users/pasindudilshan/miniconda3/envs/medibot/lib/python3.10/site-packages (from langsmith>=0.1.17->langchain) (0.23.0)\n",
      "Requirement already satisfied: anyio in /Users/pasindudilshan/miniconda3/envs/medibot/lib/python3.10/site-packages (from httpx<1,>=0.23.0->langsmith>=0.1.17->langchain) (4.9.0)\n",
      "Requirement already satisfied: httpcore==1.* in /Users/pasindudilshan/miniconda3/envs/medibot/lib/python3.10/site-packages (from httpx<1,>=0.23.0->langsmith>=0.1.17->langchain) (1.0.9)\n",
      "Requirement already satisfied: h11>=0.16 in /Users/pasindudilshan/miniconda3/envs/medibot/lib/python3.10/site-packages (from httpcore==1.*->httpx<1,>=0.23.0->langsmith>=0.1.17->langchain) (0.16.0)\n",
      "Requirement already satisfied: exceptiongroup>=1.0.2 in /Users/pasindudilshan/miniconda3/envs/medibot/lib/python3.10/site-packages (from anyio->httpx<1,>=0.23.0->langsmith>=0.1.17->langchain) (1.3.0)\n",
      "Requirement already satisfied: sniffio>=1.1 in /Users/pasindudilshan/miniconda3/envs/medibot/lib/python3.10/site-packages (from anyio->httpx<1,>=0.23.0->langsmith>=0.1.17->langchain) (1.3.1)\n",
      "Requirement already satisfied: langchain-community in /Users/pasindudilshan/miniconda3/envs/medibot/lib/python3.10/site-packages (0.3.26)\n",
      "Requirement already satisfied: langchain-core<1.0.0,>=0.3.66 in /Users/pasindudilshan/miniconda3/envs/medibot/lib/python3.10/site-packages (from langchain-community) (0.3.67)\n",
      "Requirement already satisfied: langchain<1.0.0,>=0.3.26 in /Users/pasindudilshan/miniconda3/envs/medibot/lib/python3.10/site-packages (from langchain-community) (0.3.26)\n",
      "Requirement already satisfied: SQLAlchemy<3,>=1.4 in /Users/pasindudilshan/miniconda3/envs/medibot/lib/python3.10/site-packages (from langchain-community) (2.0.41)\n",
      "Requirement already satisfied: requests<3,>=2 in /Users/pasindudilshan/miniconda3/envs/medibot/lib/python3.10/site-packages (from langchain-community) (2.32.4)\n",
      "Requirement already satisfied: PyYAML>=5.3 in /Users/pasindudilshan/miniconda3/envs/medibot/lib/python3.10/site-packages (from langchain-community) (6.0.2)\n",
      "Requirement already satisfied: aiohttp<4.0.0,>=3.8.3 in /Users/pasindudilshan/miniconda3/envs/medibot/lib/python3.10/site-packages (from langchain-community) (3.12.13)\n",
      "Requirement already satisfied: tenacity!=8.4.0,<10,>=8.1.0 in /Users/pasindudilshan/miniconda3/envs/medibot/lib/python3.10/site-packages (from langchain-community) (9.1.2)\n",
      "Requirement already satisfied: dataclasses-json<0.7,>=0.5.7 in /Users/pasindudilshan/miniconda3/envs/medibot/lib/python3.10/site-packages (from langchain-community) (0.6.7)\n",
      "Requirement already satisfied: pydantic-settings<3.0.0,>=2.4.0 in /Users/pasindudilshan/miniconda3/envs/medibot/lib/python3.10/site-packages (from langchain-community) (2.10.1)\n",
      "Requirement already satisfied: langsmith>=0.1.125 in /Users/pasindudilshan/miniconda3/envs/medibot/lib/python3.10/site-packages (from langchain-community) (0.4.4)\n",
      "Requirement already satisfied: httpx-sse<1.0.0,>=0.4.0 in /Users/pasindudilshan/miniconda3/envs/medibot/lib/python3.10/site-packages (from langchain-community) (0.4.1)\n",
      "Requirement already satisfied: numpy>=1.26.2 in /Users/pasindudilshan/miniconda3/envs/medibot/lib/python3.10/site-packages (from langchain-community) (2.2.6)\n",
      "Requirement already satisfied: aiohappyeyeballs>=2.5.0 in /Users/pasindudilshan/miniconda3/envs/medibot/lib/python3.10/site-packages (from aiohttp<4.0.0,>=3.8.3->langchain-community) (2.6.1)\n",
      "Requirement already satisfied: aiosignal>=1.1.2 in /Users/pasindudilshan/miniconda3/envs/medibot/lib/python3.10/site-packages (from aiohttp<4.0.0,>=3.8.3->langchain-community) (1.3.2)\n",
      "Requirement already satisfied: async-timeout<6.0,>=4.0 in /Users/pasindudilshan/miniconda3/envs/medibot/lib/python3.10/site-packages (from aiohttp<4.0.0,>=3.8.3->langchain-community) (4.0.3)\n",
      "Requirement already satisfied: attrs>=17.3.0 in /Users/pasindudilshan/miniconda3/envs/medibot/lib/python3.10/site-packages (from aiohttp<4.0.0,>=3.8.3->langchain-community) (25.3.0)\n",
      "Requirement already satisfied: frozenlist>=1.1.1 in /Users/pasindudilshan/miniconda3/envs/medibot/lib/python3.10/site-packages (from aiohttp<4.0.0,>=3.8.3->langchain-community) (1.7.0)\n",
      "Requirement already satisfied: multidict<7.0,>=4.5 in /Users/pasindudilshan/miniconda3/envs/medibot/lib/python3.10/site-packages (from aiohttp<4.0.0,>=3.8.3->langchain-community) (6.6.3)\n",
      "Requirement already satisfied: propcache>=0.2.0 in /Users/pasindudilshan/miniconda3/envs/medibot/lib/python3.10/site-packages (from aiohttp<4.0.0,>=3.8.3->langchain-community) (0.3.2)\n",
      "Requirement already satisfied: yarl<2.0,>=1.17.0 in /Users/pasindudilshan/miniconda3/envs/medibot/lib/python3.10/site-packages (from aiohttp<4.0.0,>=3.8.3->langchain-community) (1.20.1)\n",
      "Requirement already satisfied: marshmallow<4.0.0,>=3.18.0 in /Users/pasindudilshan/miniconda3/envs/medibot/lib/python3.10/site-packages (from dataclasses-json<0.7,>=0.5.7->langchain-community) (3.26.1)\n",
      "Requirement already satisfied: typing-inspect<1,>=0.4.0 in /Users/pasindudilshan/miniconda3/envs/medibot/lib/python3.10/site-packages (from dataclasses-json<0.7,>=0.5.7->langchain-community) (0.9.0)\n",
      "Requirement already satisfied: langchain-text-splitters<1.0.0,>=0.3.8 in /Users/pasindudilshan/miniconda3/envs/medibot/lib/python3.10/site-packages (from langchain<1.0.0,>=0.3.26->langchain-community) (0.3.8)\n",
      "Requirement already satisfied: pydantic<3.0.0,>=2.7.4 in /Users/pasindudilshan/miniconda3/envs/medibot/lib/python3.10/site-packages (from langchain<1.0.0,>=0.3.26->langchain-community) (2.11.7)\n",
      "Requirement already satisfied: jsonpatch<2.0,>=1.33 in /Users/pasindudilshan/miniconda3/envs/medibot/lib/python3.10/site-packages (from langchain-core<1.0.0,>=0.3.66->langchain-community) (1.33)\n",
      "Requirement already satisfied: packaging<25,>=23.2 in /Users/pasindudilshan/miniconda3/envs/medibot/lib/python3.10/site-packages (from langchain-core<1.0.0,>=0.3.66->langchain-community) (24.2)\n",
      "Requirement already satisfied: typing-extensions>=4.7 in /Users/pasindudilshan/miniconda3/envs/medibot/lib/python3.10/site-packages (from langchain-core<1.0.0,>=0.3.66->langchain-community) (4.14.0)\n",
      "Requirement already satisfied: jsonpointer>=1.9 in /Users/pasindudilshan/miniconda3/envs/medibot/lib/python3.10/site-packages (from jsonpatch<2.0,>=1.33->langchain-core<1.0.0,>=0.3.66->langchain-community) (3.0.0)\n",
      "Requirement already satisfied: annotated-types>=0.6.0 in /Users/pasindudilshan/miniconda3/envs/medibot/lib/python3.10/site-packages (from pydantic<3.0.0,>=2.7.4->langchain<1.0.0,>=0.3.26->langchain-community) (0.7.0)\n",
      "Requirement already satisfied: pydantic-core==2.33.2 in /Users/pasindudilshan/miniconda3/envs/medibot/lib/python3.10/site-packages (from pydantic<3.0.0,>=2.7.4->langchain<1.0.0,>=0.3.26->langchain-community) (2.33.2)\n",
      "Requirement already satisfied: typing-inspection>=0.4.0 in /Users/pasindudilshan/miniconda3/envs/medibot/lib/python3.10/site-packages (from pydantic<3.0.0,>=2.7.4->langchain<1.0.0,>=0.3.26->langchain-community) (0.4.1)\n",
      "Requirement already satisfied: python-dotenv>=0.21.0 in /Users/pasindudilshan/miniconda3/envs/medibot/lib/python3.10/site-packages (from pydantic-settings<3.0.0,>=2.4.0->langchain-community) (1.1.1)\n",
      "Requirement already satisfied: charset_normalizer<4,>=2 in /Users/pasindudilshan/miniconda3/envs/medibot/lib/python3.10/site-packages (from requests<3,>=2->langchain-community) (3.4.2)\n",
      "Requirement already satisfied: idna<4,>=2.5 in /Users/pasindudilshan/miniconda3/envs/medibot/lib/python3.10/site-packages (from requests<3,>=2->langchain-community) (3.10)\n",
      "Requirement already satisfied: urllib3<3,>=1.21.1 in /Users/pasindudilshan/miniconda3/envs/medibot/lib/python3.10/site-packages (from requests<3,>=2->langchain-community) (2.5.0)\n",
      "Requirement already satisfied: certifi>=2017.4.17 in /Users/pasindudilshan/miniconda3/envs/medibot/lib/python3.10/site-packages (from requests<3,>=2->langchain-community) (2025.6.15)\n",
      "Requirement already satisfied: mypy-extensions>=0.3.0 in /Users/pasindudilshan/miniconda3/envs/medibot/lib/python3.10/site-packages (from typing-inspect<1,>=0.4.0->dataclasses-json<0.7,>=0.5.7->langchain-community) (1.1.0)\n",
      "Requirement already satisfied: httpx<1,>=0.23.0 in /Users/pasindudilshan/miniconda3/envs/medibot/lib/python3.10/site-packages (from langsmith>=0.1.125->langchain-community) (0.28.1)\n",
      "Requirement already satisfied: orjson<4.0.0,>=3.9.14 in /Users/pasindudilshan/miniconda3/envs/medibot/lib/python3.10/site-packages (from langsmith>=0.1.125->langchain-community) (3.10.18)\n",
      "Requirement already satisfied: requests-toolbelt<2.0.0,>=1.0.0 in /Users/pasindudilshan/miniconda3/envs/medibot/lib/python3.10/site-packages (from langsmith>=0.1.125->langchain-community) (1.0.0)\n",
      "Requirement already satisfied: zstandard<0.24.0,>=0.23.0 in /Users/pasindudilshan/miniconda3/envs/medibot/lib/python3.10/site-packages (from langsmith>=0.1.125->langchain-community) (0.23.0)\n",
      "Requirement already satisfied: anyio in /Users/pasindudilshan/miniconda3/envs/medibot/lib/python3.10/site-packages (from httpx<1,>=0.23.0->langsmith>=0.1.125->langchain-community) (4.9.0)\n",
      "Requirement already satisfied: httpcore==1.* in /Users/pasindudilshan/miniconda3/envs/medibot/lib/python3.10/site-packages (from httpx<1,>=0.23.0->langsmith>=0.1.125->langchain-community) (1.0.9)\n",
      "Requirement already satisfied: h11>=0.16 in /Users/pasindudilshan/miniconda3/envs/medibot/lib/python3.10/site-packages (from httpcore==1.*->httpx<1,>=0.23.0->langsmith>=0.1.125->langchain-community) (0.16.0)\n",
      "Requirement already satisfied: exceptiongroup>=1.0.2 in /Users/pasindudilshan/miniconda3/envs/medibot/lib/python3.10/site-packages (from anyio->httpx<1,>=0.23.0->langsmith>=0.1.125->langchain-community) (1.3.0)\n",
      "Requirement already satisfied: sniffio>=1.1 in /Users/pasindudilshan/miniconda3/envs/medibot/lib/python3.10/site-packages (from anyio->httpx<1,>=0.23.0->langsmith>=0.1.125->langchain-community) (1.3.1)\n"
     ]
    }
   ],
   "source": [
    "!pip install langchain\n",
    "!pip install -U langchain-community"
   ]
  },
  {
   "cell_type": "code",
   "execution_count": 6,
   "id": "20cb22b8",
   "metadata": {},
   "outputs": [],
   "source": [
    "from langchain.document_loaders import PyPDFLoader, DirectoryLoader\n",
    "from langchain.text_splitter import RecursiveCharacterTextSplitter"
   ]
  },
  {
   "cell_type": "code",
   "execution_count": 7,
   "id": "9936be8e",
   "metadata": {},
   "outputs": [],
   "source": [
    "#Extract Data From the PDF File\n",
    "def load_pdf_file(data):\n",
    "    loader= DirectoryLoader(data,\n",
    "                            glob=\"*.pdf\",\n",
    "                            loader_cls=PyPDFLoader)\n",
    "\n",
    "    documents=loader.load()\n",
    "\n",
    "    return documents"
   ]
  },
  {
   "cell_type": "code",
   "execution_count": 8,
   "id": "0578f922",
   "metadata": {},
   "outputs": [
    {
     "name": "stdout",
     "output_type": "stream",
     "text": [
      "Requirement already satisfied: pypdf in /Users/pasindudilshan/miniconda3/envs/medibot/lib/python3.10/site-packages (5.7.0)\n",
      "Requirement already satisfied: typing_extensions>=4.0 in /Users/pasindudilshan/miniconda3/envs/medibot/lib/python3.10/site-packages (from pypdf) (4.14.0)\n"
     ]
    }
   ],
   "source": [
    "!pip install pypdf"
   ]
  },
  {
   "cell_type": "code",
   "execution_count": 9,
   "id": "564c7794",
   "metadata": {},
   "outputs": [],
   "source": [
    "extracted_data = load_pdf_file(data=\"Data/\")"
   ]
  },
  {
   "cell_type": "code",
   "execution_count": 10,
   "id": "2093844f",
   "metadata": {},
   "outputs": [
    {
     "data": {
      "text/plain": [
       "[Document(metadata={'producer': 'Skia/PDF m137', 'creator': 'Mozilla/5.0 (Macintosh; Intel Mac OS X 10_15_7) AppleWebKit/537.36 (KHTML, like Gecko) Chrome/137.0.0.0 Safari/537.36', 'creationdate': '2025-07-01T09:04:33+00:00', 'title': 'Complete Home Remedies Guide for Common Health Conditions', 'moddate': '2025-07-01T09:04:33+00:00', 'source': 'Data/medical book.pdf', 'total_pages': 16, 'page': 0, 'page_label': '1'}, page_content='Complete Home Remedies Guide for Common Health Conditions\\n⚠  Important Disclaimer: These home remedies are for informational purposes only and should not\\nreplace professional medical treatment. Always consult healthcare providers for proper diagnosis and\\ntreatment, especially for serious conditions.\\n1. Fungal Infection\\nTopical Remedies:\\nTea Tree Oil: Dilute 2-3 drops in coconut oil, apply twice daily\\nApple Cider Vinegar: Mix equal parts with water, apply with cotton ball\\nGarlic Paste: Crush fresh garlic, apply for 10-15 minutes\\nTurmeric Paste: Mix turmeric powder with water or coconut oil\\nYogurt: Apply plain, unsweetened yogurt to affected areas\\nDietary Support:\\nIncrease probiotic foods (yogurt, kefir, fermented vegetables)\\nReduce sugar and refined carbohydrates\\nAdd antifungal foods: oregano, coconut oil, ginger\\n2. Allergy\\nNatural Antihistamines:\\nQuercetin: Found in onions, apples, berries - natural antihistamine\\nLocal Honey: 1 tablespoon daily to build immunity to local pollens\\nNettle Tea: 2-3 cups daily during allergy season\\nButterbur Extract: Follow package instructions\\nEnvironmental Management:\\nUse HEPA air filters\\nKeep windows closed during high pollen days\\nShower after outdoor activities\\nWash bedding in hot water weekly\\nNasal Relief:\\nSaline nasal rinse using neti pot\\nSteam inhalation with eucalyptus oil'),\n",
       " Document(metadata={'producer': 'Skia/PDF m137', 'creator': 'Mozilla/5.0 (Macintosh; Intel Mac OS X 10_15_7) AppleWebKit/537.36 (KHTML, like Gecko) Chrome/137.0.0.0 Safari/537.36', 'creationdate': '2025-07-01T09:04:33+00:00', 'title': 'Complete Home Remedies Guide for Common Health Conditions', 'moddate': '2025-07-01T09:04:33+00:00', 'source': 'Data/medical book.pdf', 'total_pages': 16, 'page': 1, 'page_label': '2'}, page_content=\"Cold compress over sinuses\\n3. GERD (Gastroesophageal Reflux Disease)\\nImmediate Relief:\\nBaking Soda: 1/2 teaspoon in water (use sparingly)\\nAloe Vera Juice: 1/4 cup before meals\\nGinger Tea: Fresh ginger steeped in hot water\\nChamomile Tea: 30 minutes before meals\\nLifestyle Modifications:\\nEat smaller, frequent meals\\nAvoid trigger foods (spicy, fatty, acidic)\\nSleep with head elevated 6-8 inches\\nDon't eat 3 hours before bedtime\\nMaintain healthy weight\\nNatural Remedies:\\nChew gum after meals to increase saliva production\\nApple cider vinegar: 1 tablespoon in water before meals\\nSlippery elm bark tea\\n4. Chronic Cholestasis\\nLiver Support:\\nMilk Thistle: 200-400mg daily\\nDandelion Root Tea: 2-3 cups daily\\nTurmeric: 1 teaspoon with black pepper in warm milk\\nLemon Water: First thing in morning\\nDietary Recommendations:\\nIncrease fiber intake\\nEat bitter greens (arugula, dandelion, endive)\\nAvoid alcohol and processed foods\\nInclude healthy fats (olive oil, avocado)\\n5. Drug Reaction\"),\n",
       " Document(metadata={'producer': 'Skia/PDF m137', 'creator': 'Mozilla/5.0 (Macintosh; Intel Mac OS X 10_15_7) AppleWebKit/537.36 (KHTML, like Gecko) Chrome/137.0.0.0 Safari/537.36', 'creationdate': '2025-07-01T09:04:33+00:00', 'title': 'Complete Home Remedies Guide for Common Health Conditions', 'moddate': '2025-07-01T09:04:33+00:00', 'source': 'Data/medical book.pdf', 'total_pages': 16, 'page': 2, 'page_label': '3'}, page_content='Immediate Care:\\nDiscontinue suspected medication (consult doctor first)\\nActivated Charcoal: If recently ingested (medical supervision)\\nCool Compresses: For skin reactions\\nOatmeal Baths: For widespread skin irritation\\nNatural Detox Support:\\nDrink plenty of water\\nGreen tea for antioxidants\\nCilantro and parsley for natural detox\\nProbiotics to restore gut health\\n6. Peptic Ulcer Disease\\nHealing Remedies:\\nCabbage Juice: 1/2 cup twice daily\\nHoney: 1 tablespoon on empty stomach\\nLicorice Root: DGL (deglycyrrhizinated) supplements\\nAloe Vera Gel: 2 tablespoons before meals\\nDietary Guidelines:\\nAvoid NSAIDs, alcohol, and smoking\\nEat smaller, frequent meals\\nInclude probiotics\\nAvoid spicy, acidic foods during flare-ups\\nIncrease fiber gradually\\n7. AIDS\\nImmune System Support:\\nElderberry: Natural immune booster\\nEchinacea: Short-term immune support\\nAstragalus: Adaptogenic herb for immunity\\nVitamin C: High doses from natural sources\\nNutritional Support:'),\n",
       " Document(metadata={'producer': 'Skia/PDF m137', 'creator': 'Mozilla/5.0 (Macintosh; Intel Mac OS X 10_15_7) AppleWebKit/537.36 (KHTML, like Gecko) Chrome/137.0.0.0 Safari/537.36', 'creationdate': '2025-07-01T09:04:33+00:00', 'title': 'Complete Home Remedies Guide for Common Health Conditions', 'moddate': '2025-07-01T09:04:33+00:00', 'source': 'Data/medical book.pdf', 'total_pages': 16, 'page': 3, 'page_label': '4'}, page_content='High-protein, nutrient-dense foods\\nOmega-3 fatty acids\\nZinc-rich foods\\nAvoid raw or undercooked foods\\n8. Diabetes\\nBlood Sugar Management:\\nCinnamon: 1-2 teaspoons daily\\nBitter Melon: Juice or cooked vegetable\\nFenugreek Seeds: Soak overnight, drink water in morning\\nApple Cider Vinegar: 1-2 tablespoons before meals\\nLifestyle Measures:\\nRegular exercise (30 minutes daily)\\nLow glycemic index foods\\nPortion control\\nStress management\\nRegular blood sugar monitoring\\n9. Gastroenteritis\\nHydration and Recovery:\\nOral Rehydration Solution: 1 tsp salt + 2 tbsp sugar in 1 liter water\\nBRAT Diet: Bananas, Rice, Applesauce, Toast\\nGinger Tea: For nausea relief\\nChamomile Tea: Anti-inflammatory\\nProbiotics:\\nPlain yogurt\\nKefir\\nFermented foods\\nProbiotic supplements\\n10. Bronchial Asthma\\nRespiratory Support:'),\n",
       " Document(metadata={'producer': 'Skia/PDF m137', 'creator': 'Mozilla/5.0 (Macintosh; Intel Mac OS X 10_15_7) AppleWebKit/537.36 (KHTML, like Gecko) Chrome/137.0.0.0 Safari/537.36', 'creationdate': '2025-07-01T09:04:33+00:00', 'title': 'Complete Home Remedies Guide for Common Health Conditions', 'moddate': '2025-07-01T09:04:33+00:00', 'source': 'Data/medical book.pdf', 'total_pages': 16, 'page': 4, 'page_label': '5'}, page_content='Steam Inhalation: With eucalyptus or peppermint oil\\nHoney: 1 tablespoon with warm water\\nGinger: Fresh ginger tea or juice\\nTurmeric: With warm milk before bed\\nEnvironmental Control:\\nRemove allergens and irritants\\nUse air purifiers\\nMaintain optimal humidity (30-50%)\\nRegular cleaning to reduce dust mites\\n11. Hypertension\\nNatural Blood Pressure Reducers:\\nGarlic: 2-3 cloves daily or supplements\\nHibiscus Tea: 2-3 cups daily\\nBeetroot Juice: 1 glass daily\\nCelery: 4 stalks daily or celery seed extract\\nLifestyle Modifications:\\nDASH diet (low sodium, high potassium)\\nRegular exercise\\nStress reduction techniques\\nLimit alcohol and caffeine\\nMaintain healthy weight\\n12. Migraine\\nNatural Pain Relief:\\nPeppermint Oil: Apply to temples (diluted)\\nLavender Oil: Inhale or apply to forehead\\nGinger: Fresh ginger tea or capsules\\nFeverfew: Herbal supplement\\nPrevention Strategies:\\nIdentify and avoid triggers\\nRegular sleep schedule'),\n",
       " Document(metadata={'producer': 'Skia/PDF m137', 'creator': 'Mozilla/5.0 (Macintosh; Intel Mac OS X 10_15_7) AppleWebKit/537.36 (KHTML, like Gecko) Chrome/137.0.0.0 Safari/537.36', 'creationdate': '2025-07-01T09:04:33+00:00', 'title': 'Complete Home Remedies Guide for Common Health Conditions', 'moddate': '2025-07-01T09:04:33+00:00', 'source': 'Data/medical book.pdf', 'total_pages': 16, 'page': 5, 'page_label': '6'}, page_content='Stay hydrated\\nMagnesium supplements\\nRiboflavin (Vitamin B2)\\n13. Cervical Spondylosis\\nNatural Pain Management:\\nHot/Cold Therapy: Alternate heat and ice packs\\nTurmeric: Anti-inflammatory properties\\nGinger: Natural pain reliever\\nEpsom Salt Baths: Muscle relaxation\\nExercises and Posture:\\nNeck stretches and strengthening exercises\\nProper posture maintenance\\nErgonomic workspace setup\\nRegular movement breaks\\n14. Paralysis (Brain Hemorrhage)\\nRecovery Support:\\nGinkgo Biloba: May improve circulation\\nTurmeric: Anti-inflammatory for brain health\\nOmega-3 Fatty Acids: Fish oil or flaxseed\\nMassage Therapy: Improve circulation\\nRehabilitation Support:\\nPhysical therapy exercises\\nSpeech therapy activities\\nOccupational therapy techniques\\nNutritional support for brain health\\n15. Jaundice\\nLiver Detox:\\nLemon Water: First thing in morning\\nSugarcane Juice: Fresh, 2-3 glasses daily'),\n",
       " Document(metadata={'producer': 'Skia/PDF m137', 'creator': 'Mozilla/5.0 (Macintosh; Intel Mac OS X 10_15_7) AppleWebKit/537.36 (KHTML, like Gecko) Chrome/137.0.0.0 Safari/537.36', 'creationdate': '2025-07-01T09:04:33+00:00', 'title': 'Complete Home Remedies Guide for Common Health Conditions', 'moddate': '2025-07-01T09:04:33+00:00', 'source': 'Data/medical book.pdf', 'total_pages': 16, 'page': 6, 'page_label': '7'}, page_content='Turmeric: With warm milk\\nDandelion Tea: 2-3 cups daily\\nDietary Guidelines:\\nLight, easily digestible foods\\nAvoid fatty and fried foods\\nIncrease water intake\\nFresh fruits and vegetables\\n16. Malaria\\nFever Management:\\nWillow Bark: Natural aspirin alternative\\nGinger: Anti-inflammatory and fever reducer\\nCold Compresses: For high fever\\nHydration: Plenty of fluids\\nPrevention:\\nNeem oil as natural mosquito repellent\\nKeep surroundings clean\\nUse mosquito nets\\nEliminate standing water\\n17. Chicken Pox\\nSymptom Relief:\\nOatmeal Baths: Soothing for itchy skin\\nCalamine Lotion: Traditional itch relief\\nHoney: Natural antiseptic for blisters\\nAloe Vera: Cooling and healing\\nCare Measures:\\nKeep fingernails short\\nWear loose, breathable clothing\\nStay hydrated\\nRest and isolation'),\n",
       " Document(metadata={'producer': 'Skia/PDF m137', 'creator': 'Mozilla/5.0 (Macintosh; Intel Mac OS X 10_15_7) AppleWebKit/537.36 (KHTML, like Gecko) Chrome/137.0.0.0 Safari/537.36', 'creationdate': '2025-07-01T09:04:33+00:00', 'title': 'Complete Home Remedies Guide for Common Health Conditions', 'moddate': '2025-07-01T09:04:33+00:00', 'source': 'Data/medical book.pdf', 'total_pages': 16, 'page': 7, 'page_label': '8'}, page_content='18. Dengue\\nFever and Pain Management:\\nPapaya Leaf Juice: May increase platelet count\\nCoconut Water: Electrolyte replacement\\nBarley Water: Hydration and nutrition\\nGiloy Juice: Immune system support\\nRecovery Support:\\nComplete bed rest\\nAdequate fluid intake\\nLight, nutritious diet\\nMonitor for warning signs\\n19. Typhoid\\nRecovery Support:\\nGarlic: Natural antibiotic properties\\nGinger: Digestive aid and anti-nausea\\nApple Cider Vinegar: May help with fever\\nHydration: Plenty of fluids\\nDietary Care:\\nLight, easily digestible foods\\nAvoid raw fruits and vegetables\\nBoiled or purified water only\\nGradual return to normal diet\\n20-24. Hepatitis A, B, C, D, E\\nLiver Support (All Types):\\nMilk Thistle: Liver protective\\nTurmeric: Anti-inflammatory\\nGreen Tea: Antioxidants\\nDandelion Root: Liver detox\\nUniversal Care:'),\n",
       " Document(metadata={'producer': 'Skia/PDF m137', 'creator': 'Mozilla/5.0 (Macintosh; Intel Mac OS X 10_15_7) AppleWebKit/537.36 (KHTML, like Gecko) Chrome/137.0.0.0 Safari/537.36', 'creationdate': '2025-07-01T09:04:33+00:00', 'title': 'Complete Home Remedies Guide for Common Health Conditions', 'moddate': '2025-07-01T09:04:33+00:00', 'source': 'Data/medical book.pdf', 'total_pages': 16, 'page': 8, 'page_label': '9'}, page_content='Complete rest\\nAvoid alcohol completely\\nLight, low-fat diet\\nAdequate hydration\\nAvoid hepatotoxic medications\\n25. Alcoholic Hepatitis\\nLiver Recovery:\\nComplete Alcohol Cessation: Essential first step\\nMilk Thistle: Liver regeneration support\\nN-Acetylcysteine: Liver detox support\\nB-Complex Vitamins: Replace deficiencies\\nNutritional Rehabilitation:\\nHigh-protein diet\\nThiamine supplementation\\nFolate and B12\\nAdequate calories for healing\\n26. Tuberculosis\\nImmune Support:\\nGarlic: Natural antimicrobial\\nTurmeric: Anti-inflammatory\\nGinger: Respiratory support\\nHoney: Antimicrobial and soothing\\nNutritional Support:\\nHigh-calorie, high-protein diet\\nVitamin D supplementation\\nFresh air and sunlight\\nComplete medication compliance\\n27. Common Cold\\nSymptom Relief:'),\n",
       " Document(metadata={'producer': 'Skia/PDF m137', 'creator': 'Mozilla/5.0 (Macintosh; Intel Mac OS X 10_15_7) AppleWebKit/537.36 (KHTML, like Gecko) Chrome/137.0.0.0 Safari/537.36', 'creationdate': '2025-07-01T09:04:33+00:00', 'title': 'Complete Home Remedies Guide for Common Health Conditions', 'moddate': '2025-07-01T09:04:33+00:00', 'source': 'Data/medical book.pdf', 'total_pages': 16, 'page': 9, 'page_label': '10'}, page_content='Honey and Ginger: Soothing for throat\\nSteam Inhalation: Clears nasal congestion\\nSaltwater Gargle: For sore throat\\nChicken Soup: Hydration and comfort\\nNatural Remedies:\\nEchinacea for immune support\\nVitamin C from citrus fruits\\nZinc lozenges\\nAdequate rest and sleep\\n28. Pneumonia\\nRespiratory Support:\\nSteam Inhalation: With eucalyptus oil\\nHoney: Antimicrobial properties\\nGinger Tea: Anti-inflammatory\\nGarlic: Natural antibiotic\\nRecovery Measures:\\nComplete rest\\nAdequate hydration\\nNutritious, easily digestible foods\\nBreathing exercises\\n29. Hemorrhoids (Piles)\\nTopical Relief:\\nWitch Hazel: Apply with cotton pad\\nAloe Vera: Cooling and healing\\nIce Packs: For acute pain and swelling\\nSitz Baths: Warm water for 15-20 minutes\\nDietary Changes:\\nHigh-fiber foods\\nAdequate water intake\\nAvoid straining during bowel movements'),\n",
       " Document(metadata={'producer': 'Skia/PDF m137', 'creator': 'Mozilla/5.0 (Macintosh; Intel Mac OS X 10_15_7) AppleWebKit/537.36 (KHTML, like Gecko) Chrome/137.0.0.0 Safari/537.36', 'creationdate': '2025-07-01T09:04:33+00:00', 'title': 'Complete Home Remedies Guide for Common Health Conditions', 'moddate': '2025-07-01T09:04:33+00:00', 'source': 'Data/medical book.pdf', 'total_pages': 16, 'page': 10, 'page_label': '11'}, page_content='Regular exercise\\n30. Heart Attack\\n⚠  Emergency Note: Call emergency services immediately for suspected heart attack. These are\\nsupportive measures only.\\nPost-Event Support:\\nHawthorn: Heart-strengthening herb\\nGarlic: Cardiovascular health\\nOmega-3 Fatty Acids: Heart protection\\nCoQ10: Heart muscle support\\nLifestyle Changes:\\nHeart-healthy diet\\nRegular supervised exercise\\nStress management\\nMedication compliance\\n31. Varicose Veins\\nCirculation Improvement:\\nHorse Chestnut Extract: Vein strength\\nGrape Seed Extract: Antioxidant support\\nElevation: Legs above heart level\\nCompression: Support stockings\\nLifestyle Measures:\\nRegular exercise\\nAvoid prolonged standing/sitting\\nMaintain healthy weight\\nAvoid tight clothing\\n32. Hypothyroidism\\nThyroid Support:\\nSeaweed: Natural iodine source\\nBrazil Nuts: Selenium content'),\n",
       " Document(metadata={'producer': 'Skia/PDF m137', 'creator': 'Mozilla/5.0 (Macintosh; Intel Mac OS X 10_15_7) AppleWebKit/537.36 (KHTML, like Gecko) Chrome/137.0.0.0 Safari/537.36', 'creationdate': '2025-07-01T09:04:33+00:00', 'title': 'Complete Home Remedies Guide for Common Health Conditions', 'moddate': '2025-07-01T09:04:33+00:00', 'source': 'Data/medical book.pdf', 'total_pages': 16, 'page': 11, 'page_label': '12'}, page_content='Coconut Oil: Metabolism support\\nAshwagandha: Adaptogenic herb\\nDietary Considerations:\\nAvoid goitrogenic foods in excess\\nEnsure adequate iodine intake\\nSupport with selenium and zinc\\nRegular exercise\\n33. Hyperthyroidism\\nNatural Calming:\\nLemon Balm: May reduce thyroid activity\\nBugleweed: Traditional thyroid herb\\nL-Carnitine: May reduce symptoms\\nStress Reduction: Meditation, yoga\\nDietary Support:\\nAvoid excessive iodine\\nInclude calcium-rich foods\\nLimit caffeine\\nAnti-inflammatory foods\\n34. Hypoglycemia\\nBlood Sugar Stabilization:\\nComplex Carbohydrates: Whole grains, legumes\\nProtein: With each meal and snack\\nChromium: Blood sugar regulation\\nCinnamon: May improve insulin sensitivity\\nLifestyle Management:\\nFrequent small meals\\nAvoid simple sugars\\nRegular meal timing\\nMonitor blood sugar levels'),\n",
       " Document(metadata={'producer': 'Skia/PDF m137', 'creator': 'Mozilla/5.0 (Macintosh; Intel Mac OS X 10_15_7) AppleWebKit/537.36 (KHTML, like Gecko) Chrome/137.0.0.0 Safari/537.36', 'creationdate': '2025-07-01T09:04:33+00:00', 'title': 'Complete Home Remedies Guide for Common Health Conditions', 'moddate': '2025-07-01T09:04:33+00:00', 'source': 'Data/medical book.pdf', 'total_pages': 16, 'page': 12, 'page_label': '13'}, page_content='35. Osteoarthritis\\nJoint Support:\\nTurmeric: Anti-inflammatory\\nGinger: Pain reduction\\nGlucosamine/Chondroitin: Joint health\\nOmega-3 Fatty Acids: Inflammation reduction\\nPhysical Therapy:\\nGentle exercise\\nHot/cold therapy\\nMassage therapy\\nWeight management\\n36. Arthritis\\nAnti-Inflammatory Remedies:\\nTart Cherry Juice: Natural anti-inflammatory\\nGreen Tea: Antioxidant properties\\nBoswellia: Traditional joint herb\\nMSM: Sulfur for joint health\\nPain Management:\\nEpsom salt baths\\nEssential oil massages\\nAcupuncture\\nStress reduction techniques\\n37. Vertigo (Paroxysmal Positional Vertigo)\\nBalance Support:\\nGinger: Reduces dizziness and nausea\\nGinkgo Biloba: Improves circulation\\nCanalith Repositioning: Epley maneuver\\nHydration: Maintain adequate fluid levels\\nLifestyle Adjustments:'),\n",
       " Document(metadata={'producer': 'Skia/PDF m137', 'creator': 'Mozilla/5.0 (Macintosh; Intel Mac OS X 10_15_7) AppleWebKit/537.36 (KHTML, like Gecko) Chrome/137.0.0.0 Safari/537.36', 'creationdate': '2025-07-01T09:04:33+00:00', 'title': 'Complete Home Remedies Guide for Common Health Conditions', 'moddate': '2025-07-01T09:04:33+00:00', 'source': 'Data/medical book.pdf', 'total_pages': 16, 'page': 13, 'page_label': '14'}, page_content=\"Avoid sudden head movements\\nSleep with head elevated\\nLimit alcohol and caffeine\\nPractice balance exercises\\n38. Acne\\nTopical Treatments:\\nTea Tree Oil: Diluted, antimicrobial\\nHoney Masks: Antibacterial properties\\nAloe Vera: Anti-inflammatory\\nGreen Tea: Antioxidant face wash\\nInternal Support:\\nZinc supplementation\\nOmega-3 fatty acids\\nProbiotics for gut health\\nReduce dairy and high-glycemic foods\\n39. Urinary Tract Infection\\nNatural Antibacterials:\\nCranberry Juice: Unsweetened, pure\\nD-Mannose: Sugar that may prevent bacteria adhesion\\nUva Ursi: Traditional urinary herb\\nGarlic: Natural antimicrobial\\nSupportive Care:\\nIncrease water intake significantly\\nAvoid irritants (alcohol, caffeine, spicy foods)\\nUrinate frequently, don't hold it\\nProbiotics to restore healthy bacteria\\n40. Psoriasis\\nSkin Healing:\\nAloe Vera: Anti-inflammatory gel\"),\n",
       " Document(metadata={'producer': 'Skia/PDF m137', 'creator': 'Mozilla/5.0 (Macintosh; Intel Mac OS X 10_15_7) AppleWebKit/537.36 (KHTML, like Gecko) Chrome/137.0.0.0 Safari/537.36', 'creationdate': '2025-07-01T09:04:33+00:00', 'title': 'Complete Home Remedies Guide for Common Health Conditions', 'moddate': '2025-07-01T09:04:33+00:00', 'source': 'Data/medical book.pdf', 'total_pages': 16, 'page': 14, 'page_label': '15'}, page_content=\"Dead Sea Salt Baths: Exfoliation and healing\\nTurmeric Paste: Anti-inflammatory\\nCoconut Oil: Moisturizing and antimicrobial\\nInternal Support:\\nOmega-3 fatty acids\\nVitamin D supplementation\\nAnti-inflammatory diet\\nStress management techniques\\n41. Impetigo\\nTopical Care:\\nHoney: Natural antimicrobial\\nTea Tree Oil: Diluted, antibacterial\\nWarm Compresses: Gentle cleansing\\nSaltwater Solution: Natural antiseptic\\nPrevention:\\nKeep affected areas clean and dry\\nAvoid touching or scratching\\nWash hands frequently\\nDon't share personal items\\nGeneral Wellness Guidelines\\nUniversal Health Principles:\\nMaintain a balanced, nutritious diet\\nStay adequately hydrated\\nGet regular exercise appropriate for your condition\\nPrioritize quality sleep\\nManage stress through relaxation techniques\\nAvoid smoking and limit alcohol consumption\\nRegular health check-ups and monitoring\\nWhen to Seek Professional Help:\"),\n",
       " Document(metadata={'producer': 'Skia/PDF m137', 'creator': 'Mozilla/5.0 (Macintosh; Intel Mac OS X 10_15_7) AppleWebKit/537.36 (KHTML, like Gecko) Chrome/137.0.0.0 Safari/537.36', 'creationdate': '2025-07-01T09:04:33+00:00', 'title': 'Complete Home Remedies Guide for Common Health Conditions', 'moddate': '2025-07-01T09:04:33+00:00', 'source': 'Data/medical book.pdf', 'total_pages': 16, 'page': 15, 'page_label': '16'}, page_content=\"Symptoms worsen or don't improve\\nHigh fever, severe pain, or breathing difficulties\\nSigns of dehydration or serious complications\\nAny condition requiring prescription medication\\nEmergency symptoms (chest pain, severe headache, etc.)\\nRemember: These remedies are meant to support conventional treatment, not replace it. Always work\\nwith healthcare providers for proper diagnosis and treatment plans.\")]"
      ]
     },
     "execution_count": 10,
     "metadata": {},
     "output_type": "execute_result"
    }
   ],
   "source": [
    "extracted_data"
   ]
  },
  {
   "cell_type": "code",
   "execution_count": 11,
   "id": "ce502410",
   "metadata": {},
   "outputs": [],
   "source": [
    "from typing import List\n",
    "from langchain.schema import Document\n",
    "\n",
    "def filter_to_minimal_docs(docs: List[Document]) -> List[Document]:\n",
    "    \"\"\"\n",
    "    Given a list of Document objects, return a new list of Document objects\n",
    "    containing only 'source' in metadata and the original page_content.\n",
    "    \"\"\"\n",
    "    minimal_docs: List[Document] = []\n",
    "    for doc in docs:\n",
    "        src = doc.metadata.get(\"source\")\n",
    "        minimal_docs.append(\n",
    "            Document(\n",
    "                page_content=doc.page_content,\n",
    "                metadata={\"source\": src}\n",
    "            )\n",
    "        )\n",
    "    return minimal_docs"
   ]
  },
  {
   "cell_type": "code",
   "execution_count": 12,
   "id": "9630dcce",
   "metadata": {},
   "outputs": [],
   "source": [
    "minimal_docs = filter_to_minimal_docs(extracted_data)"
   ]
  },
  {
   "cell_type": "code",
   "execution_count": 13,
   "id": "8bbf5b8b",
   "metadata": {},
   "outputs": [
    {
     "data": {
      "text/plain": [
       "[Document(metadata={'source': 'Data/medical book.pdf'}, page_content='Complete Home Remedies Guide for Common Health Conditions\\n⚠  Important Disclaimer: These home remedies are for informational purposes only and should not\\nreplace professional medical treatment. Always consult healthcare providers for proper diagnosis and\\ntreatment, especially for serious conditions.\\n1. Fungal Infection\\nTopical Remedies:\\nTea Tree Oil: Dilute 2-3 drops in coconut oil, apply twice daily\\nApple Cider Vinegar: Mix equal parts with water, apply with cotton ball\\nGarlic Paste: Crush fresh garlic, apply for 10-15 minutes\\nTurmeric Paste: Mix turmeric powder with water or coconut oil\\nYogurt: Apply plain, unsweetened yogurt to affected areas\\nDietary Support:\\nIncrease probiotic foods (yogurt, kefir, fermented vegetables)\\nReduce sugar and refined carbohydrates\\nAdd antifungal foods: oregano, coconut oil, ginger\\n2. Allergy\\nNatural Antihistamines:\\nQuercetin: Found in onions, apples, berries - natural antihistamine\\nLocal Honey: 1 tablespoon daily to build immunity to local pollens\\nNettle Tea: 2-3 cups daily during allergy season\\nButterbur Extract: Follow package instructions\\nEnvironmental Management:\\nUse HEPA air filters\\nKeep windows closed during high pollen days\\nShower after outdoor activities\\nWash bedding in hot water weekly\\nNasal Relief:\\nSaline nasal rinse using neti pot\\nSteam inhalation with eucalyptus oil'),\n",
       " Document(metadata={'source': 'Data/medical book.pdf'}, page_content=\"Cold compress over sinuses\\n3. GERD (Gastroesophageal Reflux Disease)\\nImmediate Relief:\\nBaking Soda: 1/2 teaspoon in water (use sparingly)\\nAloe Vera Juice: 1/4 cup before meals\\nGinger Tea: Fresh ginger steeped in hot water\\nChamomile Tea: 30 minutes before meals\\nLifestyle Modifications:\\nEat smaller, frequent meals\\nAvoid trigger foods (spicy, fatty, acidic)\\nSleep with head elevated 6-8 inches\\nDon't eat 3 hours before bedtime\\nMaintain healthy weight\\nNatural Remedies:\\nChew gum after meals to increase saliva production\\nApple cider vinegar: 1 tablespoon in water before meals\\nSlippery elm bark tea\\n4. Chronic Cholestasis\\nLiver Support:\\nMilk Thistle: 200-400mg daily\\nDandelion Root Tea: 2-3 cups daily\\nTurmeric: 1 teaspoon with black pepper in warm milk\\nLemon Water: First thing in morning\\nDietary Recommendations:\\nIncrease fiber intake\\nEat bitter greens (arugula, dandelion, endive)\\nAvoid alcohol and processed foods\\nInclude healthy fats (olive oil, avocado)\\n5. Drug Reaction\"),\n",
       " Document(metadata={'source': 'Data/medical book.pdf'}, page_content='Immediate Care:\\nDiscontinue suspected medication (consult doctor first)\\nActivated Charcoal: If recently ingested (medical supervision)\\nCool Compresses: For skin reactions\\nOatmeal Baths: For widespread skin irritation\\nNatural Detox Support:\\nDrink plenty of water\\nGreen tea for antioxidants\\nCilantro and parsley for natural detox\\nProbiotics to restore gut health\\n6. Peptic Ulcer Disease\\nHealing Remedies:\\nCabbage Juice: 1/2 cup twice daily\\nHoney: 1 tablespoon on empty stomach\\nLicorice Root: DGL (deglycyrrhizinated) supplements\\nAloe Vera Gel: 2 tablespoons before meals\\nDietary Guidelines:\\nAvoid NSAIDs, alcohol, and smoking\\nEat smaller, frequent meals\\nInclude probiotics\\nAvoid spicy, acidic foods during flare-ups\\nIncrease fiber gradually\\n7. AIDS\\nImmune System Support:\\nElderberry: Natural immune booster\\nEchinacea: Short-term immune support\\nAstragalus: Adaptogenic herb for immunity\\nVitamin C: High doses from natural sources\\nNutritional Support:'),\n",
       " Document(metadata={'source': 'Data/medical book.pdf'}, page_content='High-protein, nutrient-dense foods\\nOmega-3 fatty acids\\nZinc-rich foods\\nAvoid raw or undercooked foods\\n8. Diabetes\\nBlood Sugar Management:\\nCinnamon: 1-2 teaspoons daily\\nBitter Melon: Juice or cooked vegetable\\nFenugreek Seeds: Soak overnight, drink water in morning\\nApple Cider Vinegar: 1-2 tablespoons before meals\\nLifestyle Measures:\\nRegular exercise (30 minutes daily)\\nLow glycemic index foods\\nPortion control\\nStress management\\nRegular blood sugar monitoring\\n9. Gastroenteritis\\nHydration and Recovery:\\nOral Rehydration Solution: 1 tsp salt + 2 tbsp sugar in 1 liter water\\nBRAT Diet: Bananas, Rice, Applesauce, Toast\\nGinger Tea: For nausea relief\\nChamomile Tea: Anti-inflammatory\\nProbiotics:\\nPlain yogurt\\nKefir\\nFermented foods\\nProbiotic supplements\\n10. Bronchial Asthma\\nRespiratory Support:'),\n",
       " Document(metadata={'source': 'Data/medical book.pdf'}, page_content='Steam Inhalation: With eucalyptus or peppermint oil\\nHoney: 1 tablespoon with warm water\\nGinger: Fresh ginger tea or juice\\nTurmeric: With warm milk before bed\\nEnvironmental Control:\\nRemove allergens and irritants\\nUse air purifiers\\nMaintain optimal humidity (30-50%)\\nRegular cleaning to reduce dust mites\\n11. Hypertension\\nNatural Blood Pressure Reducers:\\nGarlic: 2-3 cloves daily or supplements\\nHibiscus Tea: 2-3 cups daily\\nBeetroot Juice: 1 glass daily\\nCelery: 4 stalks daily or celery seed extract\\nLifestyle Modifications:\\nDASH diet (low sodium, high potassium)\\nRegular exercise\\nStress reduction techniques\\nLimit alcohol and caffeine\\nMaintain healthy weight\\n12. Migraine\\nNatural Pain Relief:\\nPeppermint Oil: Apply to temples (diluted)\\nLavender Oil: Inhale or apply to forehead\\nGinger: Fresh ginger tea or capsules\\nFeverfew: Herbal supplement\\nPrevention Strategies:\\nIdentify and avoid triggers\\nRegular sleep schedule'),\n",
       " Document(metadata={'source': 'Data/medical book.pdf'}, page_content='Stay hydrated\\nMagnesium supplements\\nRiboflavin (Vitamin B2)\\n13. Cervical Spondylosis\\nNatural Pain Management:\\nHot/Cold Therapy: Alternate heat and ice packs\\nTurmeric: Anti-inflammatory properties\\nGinger: Natural pain reliever\\nEpsom Salt Baths: Muscle relaxation\\nExercises and Posture:\\nNeck stretches and strengthening exercises\\nProper posture maintenance\\nErgonomic workspace setup\\nRegular movement breaks\\n14. Paralysis (Brain Hemorrhage)\\nRecovery Support:\\nGinkgo Biloba: May improve circulation\\nTurmeric: Anti-inflammatory for brain health\\nOmega-3 Fatty Acids: Fish oil or flaxseed\\nMassage Therapy: Improve circulation\\nRehabilitation Support:\\nPhysical therapy exercises\\nSpeech therapy activities\\nOccupational therapy techniques\\nNutritional support for brain health\\n15. Jaundice\\nLiver Detox:\\nLemon Water: First thing in morning\\nSugarcane Juice: Fresh, 2-3 glasses daily'),\n",
       " Document(metadata={'source': 'Data/medical book.pdf'}, page_content='Turmeric: With warm milk\\nDandelion Tea: 2-3 cups daily\\nDietary Guidelines:\\nLight, easily digestible foods\\nAvoid fatty and fried foods\\nIncrease water intake\\nFresh fruits and vegetables\\n16. Malaria\\nFever Management:\\nWillow Bark: Natural aspirin alternative\\nGinger: Anti-inflammatory and fever reducer\\nCold Compresses: For high fever\\nHydration: Plenty of fluids\\nPrevention:\\nNeem oil as natural mosquito repellent\\nKeep surroundings clean\\nUse mosquito nets\\nEliminate standing water\\n17. Chicken Pox\\nSymptom Relief:\\nOatmeal Baths: Soothing for itchy skin\\nCalamine Lotion: Traditional itch relief\\nHoney: Natural antiseptic for blisters\\nAloe Vera: Cooling and healing\\nCare Measures:\\nKeep fingernails short\\nWear loose, breathable clothing\\nStay hydrated\\nRest and isolation'),\n",
       " Document(metadata={'source': 'Data/medical book.pdf'}, page_content='18. Dengue\\nFever and Pain Management:\\nPapaya Leaf Juice: May increase platelet count\\nCoconut Water: Electrolyte replacement\\nBarley Water: Hydration and nutrition\\nGiloy Juice: Immune system support\\nRecovery Support:\\nComplete bed rest\\nAdequate fluid intake\\nLight, nutritious diet\\nMonitor for warning signs\\n19. Typhoid\\nRecovery Support:\\nGarlic: Natural antibiotic properties\\nGinger: Digestive aid and anti-nausea\\nApple Cider Vinegar: May help with fever\\nHydration: Plenty of fluids\\nDietary Care:\\nLight, easily digestible foods\\nAvoid raw fruits and vegetables\\nBoiled or purified water only\\nGradual return to normal diet\\n20-24. Hepatitis A, B, C, D, E\\nLiver Support (All Types):\\nMilk Thistle: Liver protective\\nTurmeric: Anti-inflammatory\\nGreen Tea: Antioxidants\\nDandelion Root: Liver detox\\nUniversal Care:'),\n",
       " Document(metadata={'source': 'Data/medical book.pdf'}, page_content='Complete rest\\nAvoid alcohol completely\\nLight, low-fat diet\\nAdequate hydration\\nAvoid hepatotoxic medications\\n25. Alcoholic Hepatitis\\nLiver Recovery:\\nComplete Alcohol Cessation: Essential first step\\nMilk Thistle: Liver regeneration support\\nN-Acetylcysteine: Liver detox support\\nB-Complex Vitamins: Replace deficiencies\\nNutritional Rehabilitation:\\nHigh-protein diet\\nThiamine supplementation\\nFolate and B12\\nAdequate calories for healing\\n26. Tuberculosis\\nImmune Support:\\nGarlic: Natural antimicrobial\\nTurmeric: Anti-inflammatory\\nGinger: Respiratory support\\nHoney: Antimicrobial and soothing\\nNutritional Support:\\nHigh-calorie, high-protein diet\\nVitamin D supplementation\\nFresh air and sunlight\\nComplete medication compliance\\n27. Common Cold\\nSymptom Relief:'),\n",
       " Document(metadata={'source': 'Data/medical book.pdf'}, page_content='Honey and Ginger: Soothing for throat\\nSteam Inhalation: Clears nasal congestion\\nSaltwater Gargle: For sore throat\\nChicken Soup: Hydration and comfort\\nNatural Remedies:\\nEchinacea for immune support\\nVitamin C from citrus fruits\\nZinc lozenges\\nAdequate rest and sleep\\n28. Pneumonia\\nRespiratory Support:\\nSteam Inhalation: With eucalyptus oil\\nHoney: Antimicrobial properties\\nGinger Tea: Anti-inflammatory\\nGarlic: Natural antibiotic\\nRecovery Measures:\\nComplete rest\\nAdequate hydration\\nNutritious, easily digestible foods\\nBreathing exercises\\n29. Hemorrhoids (Piles)\\nTopical Relief:\\nWitch Hazel: Apply with cotton pad\\nAloe Vera: Cooling and healing\\nIce Packs: For acute pain and swelling\\nSitz Baths: Warm water for 15-20 minutes\\nDietary Changes:\\nHigh-fiber foods\\nAdequate water intake\\nAvoid straining during bowel movements'),\n",
       " Document(metadata={'source': 'Data/medical book.pdf'}, page_content='Regular exercise\\n30. Heart Attack\\n⚠  Emergency Note: Call emergency services immediately for suspected heart attack. These are\\nsupportive measures only.\\nPost-Event Support:\\nHawthorn: Heart-strengthening herb\\nGarlic: Cardiovascular health\\nOmega-3 Fatty Acids: Heart protection\\nCoQ10: Heart muscle support\\nLifestyle Changes:\\nHeart-healthy diet\\nRegular supervised exercise\\nStress management\\nMedication compliance\\n31. Varicose Veins\\nCirculation Improvement:\\nHorse Chestnut Extract: Vein strength\\nGrape Seed Extract: Antioxidant support\\nElevation: Legs above heart level\\nCompression: Support stockings\\nLifestyle Measures:\\nRegular exercise\\nAvoid prolonged standing/sitting\\nMaintain healthy weight\\nAvoid tight clothing\\n32. Hypothyroidism\\nThyroid Support:\\nSeaweed: Natural iodine source\\nBrazil Nuts: Selenium content'),\n",
       " Document(metadata={'source': 'Data/medical book.pdf'}, page_content='Coconut Oil: Metabolism support\\nAshwagandha: Adaptogenic herb\\nDietary Considerations:\\nAvoid goitrogenic foods in excess\\nEnsure adequate iodine intake\\nSupport with selenium and zinc\\nRegular exercise\\n33. Hyperthyroidism\\nNatural Calming:\\nLemon Balm: May reduce thyroid activity\\nBugleweed: Traditional thyroid herb\\nL-Carnitine: May reduce symptoms\\nStress Reduction: Meditation, yoga\\nDietary Support:\\nAvoid excessive iodine\\nInclude calcium-rich foods\\nLimit caffeine\\nAnti-inflammatory foods\\n34. Hypoglycemia\\nBlood Sugar Stabilization:\\nComplex Carbohydrates: Whole grains, legumes\\nProtein: With each meal and snack\\nChromium: Blood sugar regulation\\nCinnamon: May improve insulin sensitivity\\nLifestyle Management:\\nFrequent small meals\\nAvoid simple sugars\\nRegular meal timing\\nMonitor blood sugar levels'),\n",
       " Document(metadata={'source': 'Data/medical book.pdf'}, page_content='35. Osteoarthritis\\nJoint Support:\\nTurmeric: Anti-inflammatory\\nGinger: Pain reduction\\nGlucosamine/Chondroitin: Joint health\\nOmega-3 Fatty Acids: Inflammation reduction\\nPhysical Therapy:\\nGentle exercise\\nHot/cold therapy\\nMassage therapy\\nWeight management\\n36. Arthritis\\nAnti-Inflammatory Remedies:\\nTart Cherry Juice: Natural anti-inflammatory\\nGreen Tea: Antioxidant properties\\nBoswellia: Traditional joint herb\\nMSM: Sulfur for joint health\\nPain Management:\\nEpsom salt baths\\nEssential oil massages\\nAcupuncture\\nStress reduction techniques\\n37. Vertigo (Paroxysmal Positional Vertigo)\\nBalance Support:\\nGinger: Reduces dizziness and nausea\\nGinkgo Biloba: Improves circulation\\nCanalith Repositioning: Epley maneuver\\nHydration: Maintain adequate fluid levels\\nLifestyle Adjustments:'),\n",
       " Document(metadata={'source': 'Data/medical book.pdf'}, page_content=\"Avoid sudden head movements\\nSleep with head elevated\\nLimit alcohol and caffeine\\nPractice balance exercises\\n38. Acne\\nTopical Treatments:\\nTea Tree Oil: Diluted, antimicrobial\\nHoney Masks: Antibacterial properties\\nAloe Vera: Anti-inflammatory\\nGreen Tea: Antioxidant face wash\\nInternal Support:\\nZinc supplementation\\nOmega-3 fatty acids\\nProbiotics for gut health\\nReduce dairy and high-glycemic foods\\n39. Urinary Tract Infection\\nNatural Antibacterials:\\nCranberry Juice: Unsweetened, pure\\nD-Mannose: Sugar that may prevent bacteria adhesion\\nUva Ursi: Traditional urinary herb\\nGarlic: Natural antimicrobial\\nSupportive Care:\\nIncrease water intake significantly\\nAvoid irritants (alcohol, caffeine, spicy foods)\\nUrinate frequently, don't hold it\\nProbiotics to restore healthy bacteria\\n40. Psoriasis\\nSkin Healing:\\nAloe Vera: Anti-inflammatory gel\"),\n",
       " Document(metadata={'source': 'Data/medical book.pdf'}, page_content=\"Dead Sea Salt Baths: Exfoliation and healing\\nTurmeric Paste: Anti-inflammatory\\nCoconut Oil: Moisturizing and antimicrobial\\nInternal Support:\\nOmega-3 fatty acids\\nVitamin D supplementation\\nAnti-inflammatory diet\\nStress management techniques\\n41. Impetigo\\nTopical Care:\\nHoney: Natural antimicrobial\\nTea Tree Oil: Diluted, antibacterial\\nWarm Compresses: Gentle cleansing\\nSaltwater Solution: Natural antiseptic\\nPrevention:\\nKeep affected areas clean and dry\\nAvoid touching or scratching\\nWash hands frequently\\nDon't share personal items\\nGeneral Wellness Guidelines\\nUniversal Health Principles:\\nMaintain a balanced, nutritious diet\\nStay adequately hydrated\\nGet regular exercise appropriate for your condition\\nPrioritize quality sleep\\nManage stress through relaxation techniques\\nAvoid smoking and limit alcohol consumption\\nRegular health check-ups and monitoring\\nWhen to Seek Professional Help:\"),\n",
       " Document(metadata={'source': 'Data/medical book.pdf'}, page_content=\"Symptoms worsen or don't improve\\nHigh fever, severe pain, or breathing difficulties\\nSigns of dehydration or serious complications\\nAny condition requiring prescription medication\\nEmergency symptoms (chest pain, severe headache, etc.)\\nRemember: These remedies are meant to support conventional treatment, not replace it. Always work\\nwith healthcare providers for proper diagnosis and treatment plans.\")]"
      ]
     },
     "execution_count": 13,
     "metadata": {},
     "output_type": "execute_result"
    }
   ],
   "source": [
    "minimal_docs"
   ]
  },
  {
   "cell_type": "code",
   "execution_count": 14,
   "id": "36e6cbb4",
   "metadata": {},
   "outputs": [],
   "source": [
    "#Split the Data into Text Chunks\n",
    "def text_split(minimal_docs):\n",
    "    text_splitter=RecursiveCharacterTextSplitter(chunk_size=350, chunk_overlap=20)\n",
    "    text_chunks=text_splitter.split_documents(minimal_docs)\n",
    "    return text_chunks"
   ]
  },
  {
   "cell_type": "code",
   "execution_count": 15,
   "id": "f33770bb",
   "metadata": {},
   "outputs": [
    {
     "name": "stdout",
     "output_type": "stream",
     "text": [
      "Length of Text Chunks 49\n"
     ]
    }
   ],
   "source": [
    "text_chunks=text_split(minimal_docs)\n",
    "print(\"Length of Text Chunks\", len(text_chunks))"
   ]
  },
  {
   "cell_type": "code",
   "execution_count": 16,
   "id": "8fb02eb6",
   "metadata": {},
   "outputs": [
    {
     "data": {
      "text/plain": [
       "[Document(metadata={'source': 'Data/medical book.pdf'}, page_content='Complete Home Remedies Guide for Common Health Conditions\\n⚠  Important Disclaimer: These home remedies are for informational purposes only and should not\\nreplace professional medical treatment. Always consult healthcare providers for proper diagnosis and\\ntreatment, especially for serious conditions.\\n1. Fungal Infection\\nTopical Remedies:'),\n",
       " Document(metadata={'source': 'Data/medical book.pdf'}, page_content='Topical Remedies:\\nTea Tree Oil: Dilute 2-3 drops in coconut oil, apply twice daily\\nApple Cider Vinegar: Mix equal parts with water, apply with cotton ball\\nGarlic Paste: Crush fresh garlic, apply for 10-15 minutes\\nTurmeric Paste: Mix turmeric powder with water or coconut oil\\nYogurt: Apply plain, unsweetened yogurt to affected areas\\nDietary Support:'),\n",
       " Document(metadata={'source': 'Data/medical book.pdf'}, page_content='Dietary Support:\\nIncrease probiotic foods (yogurt, kefir, fermented vegetables)\\nReduce sugar and refined carbohydrates\\nAdd antifungal foods: oregano, coconut oil, ginger\\n2. Allergy\\nNatural Antihistamines:\\nQuercetin: Found in onions, apples, berries - natural antihistamine\\nLocal Honey: 1 tablespoon daily to build immunity to local pollens'),\n",
       " Document(metadata={'source': 'Data/medical book.pdf'}, page_content='Nettle Tea: 2-3 cups daily during allergy season\\nButterbur Extract: Follow package instructions\\nEnvironmental Management:\\nUse HEPA air filters\\nKeep windows closed during high pollen days\\nShower after outdoor activities\\nWash bedding in hot water weekly\\nNasal Relief:\\nSaline nasal rinse using neti pot\\nSteam inhalation with eucalyptus oil'),\n",
       " Document(metadata={'source': 'Data/medical book.pdf'}, page_content='Cold compress over sinuses\\n3. GERD (Gastroesophageal Reflux Disease)\\nImmediate Relief:\\nBaking Soda: 1/2 teaspoon in water (use sparingly)\\nAloe Vera Juice: 1/4 cup before meals\\nGinger Tea: Fresh ginger steeped in hot water\\nChamomile Tea: 30 minutes before meals\\nLifestyle Modifications:\\nEat smaller, frequent meals'),\n",
       " Document(metadata={'source': 'Data/medical book.pdf'}, page_content=\"Avoid trigger foods (spicy, fatty, acidic)\\nSleep with head elevated 6-8 inches\\nDon't eat 3 hours before bedtime\\nMaintain healthy weight\\nNatural Remedies:\\nChew gum after meals to increase saliva production\\nApple cider vinegar: 1 tablespoon in water before meals\\nSlippery elm bark tea\\n4. Chronic Cholestasis\\nLiver Support:\"),\n",
       " Document(metadata={'source': 'Data/medical book.pdf'}, page_content='Liver Support:\\nMilk Thistle: 200-400mg daily\\nDandelion Root Tea: 2-3 cups daily\\nTurmeric: 1 teaspoon with black pepper in warm milk\\nLemon Water: First thing in morning\\nDietary Recommendations:\\nIncrease fiber intake\\nEat bitter greens (arugula, dandelion, endive)\\nAvoid alcohol and processed foods\\nInclude healthy fats (olive oil, avocado)'),\n",
       " Document(metadata={'source': 'Data/medical book.pdf'}, page_content='5. Drug Reaction'),\n",
       " Document(metadata={'source': 'Data/medical book.pdf'}, page_content='Immediate Care:\\nDiscontinue suspected medication (consult doctor first)\\nActivated Charcoal: If recently ingested (medical supervision)\\nCool Compresses: For skin reactions\\nOatmeal Baths: For widespread skin irritation\\nNatural Detox Support:\\nDrink plenty of water\\nGreen tea for antioxidants\\nCilantro and parsley for natural detox'),\n",
       " Document(metadata={'source': 'Data/medical book.pdf'}, page_content='Probiotics to restore gut health\\n6. Peptic Ulcer Disease\\nHealing Remedies:\\nCabbage Juice: 1/2 cup twice daily\\nHoney: 1 tablespoon on empty stomach\\nLicorice Root: DGL (deglycyrrhizinated) supplements\\nAloe Vera Gel: 2 tablespoons before meals\\nDietary Guidelines:\\nAvoid NSAIDs, alcohol, and smoking\\nEat smaller, frequent meals\\nInclude probiotics'),\n",
       " Document(metadata={'source': 'Data/medical book.pdf'}, page_content='Include probiotics\\nAvoid spicy, acidic foods during flare-ups\\nIncrease fiber gradually\\n7. AIDS\\nImmune System Support:\\nElderberry: Natural immune booster\\nEchinacea: Short-term immune support\\nAstragalus: Adaptogenic herb for immunity\\nVitamin C: High doses from natural sources\\nNutritional Support:'),\n",
       " Document(metadata={'source': 'Data/medical book.pdf'}, page_content='High-protein, nutrient-dense foods\\nOmega-3 fatty acids\\nZinc-rich foods\\nAvoid raw or undercooked foods\\n8. Diabetes\\nBlood Sugar Management:\\nCinnamon: 1-2 teaspoons daily\\nBitter Melon: Juice or cooked vegetable\\nFenugreek Seeds: Soak overnight, drink water in morning\\nApple Cider Vinegar: 1-2 tablespoons before meals\\nLifestyle Measures:'),\n",
       " Document(metadata={'source': 'Data/medical book.pdf'}, page_content='Lifestyle Measures:\\nRegular exercise (30 minutes daily)\\nLow glycemic index foods\\nPortion control\\nStress management\\nRegular blood sugar monitoring\\n9. Gastroenteritis\\nHydration and Recovery:\\nOral Rehydration Solution: 1 tsp salt + 2 tbsp sugar in 1 liter water\\nBRAT Diet: Bananas, Rice, Applesauce, Toast\\nGinger Tea: For nausea relief'),\n",
       " Document(metadata={'source': 'Data/medical book.pdf'}, page_content='Chamomile Tea: Anti-inflammatory\\nProbiotics:\\nPlain yogurt\\nKefir\\nFermented foods\\nProbiotic supplements\\n10. Bronchial Asthma\\nRespiratory Support:'),\n",
       " Document(metadata={'source': 'Data/medical book.pdf'}, page_content='Steam Inhalation: With eucalyptus or peppermint oil\\nHoney: 1 tablespoon with warm water\\nGinger: Fresh ginger tea or juice\\nTurmeric: With warm milk before bed\\nEnvironmental Control:\\nRemove allergens and irritants\\nUse air purifiers\\nMaintain optimal humidity (30-50%)\\nRegular cleaning to reduce dust mites\\n11. Hypertension'),\n",
       " Document(metadata={'source': 'Data/medical book.pdf'}, page_content='11. Hypertension\\nNatural Blood Pressure Reducers:\\nGarlic: 2-3 cloves daily or supplements\\nHibiscus Tea: 2-3 cups daily\\nBeetroot Juice: 1 glass daily\\nCelery: 4 stalks daily or celery seed extract\\nLifestyle Modifications:\\nDASH diet (low sodium, high potassium)\\nRegular exercise\\nStress reduction techniques\\nLimit alcohol and caffeine'),\n",
       " Document(metadata={'source': 'Data/medical book.pdf'}, page_content='Maintain healthy weight\\n12. Migraine\\nNatural Pain Relief:\\nPeppermint Oil: Apply to temples (diluted)\\nLavender Oil: Inhale or apply to forehead\\nGinger: Fresh ginger tea or capsules\\nFeverfew: Herbal supplement\\nPrevention Strategies:\\nIdentify and avoid triggers\\nRegular sleep schedule'),\n",
       " Document(metadata={'source': 'Data/medical book.pdf'}, page_content='Stay hydrated\\nMagnesium supplements\\nRiboflavin (Vitamin B2)\\n13. Cervical Spondylosis\\nNatural Pain Management:\\nHot/Cold Therapy: Alternate heat and ice packs\\nTurmeric: Anti-inflammatory properties\\nGinger: Natural pain reliever\\nEpsom Salt Baths: Muscle relaxation\\nExercises and Posture:\\nNeck stretches and strengthening exercises'),\n",
       " Document(metadata={'source': 'Data/medical book.pdf'}, page_content='Proper posture maintenance\\nErgonomic workspace setup\\nRegular movement breaks\\n14. Paralysis (Brain Hemorrhage)\\nRecovery Support:\\nGinkgo Biloba: May improve circulation\\nTurmeric: Anti-inflammatory for brain health\\nOmega-3 Fatty Acids: Fish oil or flaxseed\\nMassage Therapy: Improve circulation\\nRehabilitation Support:\\nPhysical therapy exercises'),\n",
       " Document(metadata={'source': 'Data/medical book.pdf'}, page_content='Speech therapy activities\\nOccupational therapy techniques\\nNutritional support for brain health\\n15. Jaundice\\nLiver Detox:\\nLemon Water: First thing in morning\\nSugarcane Juice: Fresh, 2-3 glasses daily'),\n",
       " Document(metadata={'source': 'Data/medical book.pdf'}, page_content='Turmeric: With warm milk\\nDandelion Tea: 2-3 cups daily\\nDietary Guidelines:\\nLight, easily digestible foods\\nAvoid fatty and fried foods\\nIncrease water intake\\nFresh fruits and vegetables\\n16. Malaria\\nFever Management:\\nWillow Bark: Natural aspirin alternative\\nGinger: Anti-inflammatory and fever reducer\\nCold Compresses: For high fever'),\n",
       " Document(metadata={'source': 'Data/medical book.pdf'}, page_content='Hydration: Plenty of fluids\\nPrevention:\\nNeem oil as natural mosquito repellent\\nKeep surroundings clean\\nUse mosquito nets\\nEliminate standing water\\n17. Chicken Pox\\nSymptom Relief:\\nOatmeal Baths: Soothing for itchy skin\\nCalamine Lotion: Traditional itch relief\\nHoney: Natural antiseptic for blisters\\nAloe Vera: Cooling and healing\\nCare Measures:'),\n",
       " Document(metadata={'source': 'Data/medical book.pdf'}, page_content='Care Measures:\\nKeep fingernails short\\nWear loose, breathable clothing\\nStay hydrated\\nRest and isolation'),\n",
       " Document(metadata={'source': 'Data/medical book.pdf'}, page_content='18. Dengue\\nFever and Pain Management:\\nPapaya Leaf Juice: May increase platelet count\\nCoconut Water: Electrolyte replacement\\nBarley Water: Hydration and nutrition\\nGiloy Juice: Immune system support\\nRecovery Support:\\nComplete bed rest\\nAdequate fluid intake\\nLight, nutritious diet\\nMonitor for warning signs\\n19. Typhoid\\nRecovery Support:'),\n",
       " Document(metadata={'source': 'Data/medical book.pdf'}, page_content='Recovery Support:\\nGarlic: Natural antibiotic properties\\nGinger: Digestive aid and anti-nausea\\nApple Cider Vinegar: May help with fever\\nHydration: Plenty of fluids\\nDietary Care:\\nLight, easily digestible foods\\nAvoid raw fruits and vegetables\\nBoiled or purified water only\\nGradual return to normal diet\\n20-24. Hepatitis A, B, C, D, E'),\n",
       " Document(metadata={'source': 'Data/medical book.pdf'}, page_content='Liver Support (All Types):\\nMilk Thistle: Liver protective\\nTurmeric: Anti-inflammatory\\nGreen Tea: Antioxidants\\nDandelion Root: Liver detox\\nUniversal Care:'),\n",
       " Document(metadata={'source': 'Data/medical book.pdf'}, page_content='Complete rest\\nAvoid alcohol completely\\nLight, low-fat diet\\nAdequate hydration\\nAvoid hepatotoxic medications\\n25. Alcoholic Hepatitis\\nLiver Recovery:\\nComplete Alcohol Cessation: Essential first step\\nMilk Thistle: Liver regeneration support\\nN-Acetylcysteine: Liver detox support\\nB-Complex Vitamins: Replace deficiencies\\nNutritional Rehabilitation:'),\n",
       " Document(metadata={'source': 'Data/medical book.pdf'}, page_content='High-protein diet\\nThiamine supplementation\\nFolate and B12\\nAdequate calories for healing\\n26. Tuberculosis\\nImmune Support:\\nGarlic: Natural antimicrobial\\nTurmeric: Anti-inflammatory\\nGinger: Respiratory support\\nHoney: Antimicrobial and soothing\\nNutritional Support:\\nHigh-calorie, high-protein diet\\nVitamin D supplementation\\nFresh air and sunlight'),\n",
       " Document(metadata={'source': 'Data/medical book.pdf'}, page_content='Complete medication compliance\\n27. Common Cold\\nSymptom Relief:'),\n",
       " Document(metadata={'source': 'Data/medical book.pdf'}, page_content='Honey and Ginger: Soothing for throat\\nSteam Inhalation: Clears nasal congestion\\nSaltwater Gargle: For sore throat\\nChicken Soup: Hydration and comfort\\nNatural Remedies:\\nEchinacea for immune support\\nVitamin C from citrus fruits\\nZinc lozenges\\nAdequate rest and sleep\\n28. Pneumonia\\nRespiratory Support:\\nSteam Inhalation: With eucalyptus oil'),\n",
       " Document(metadata={'source': 'Data/medical book.pdf'}, page_content='Honey: Antimicrobial properties\\nGinger Tea: Anti-inflammatory\\nGarlic: Natural antibiotic\\nRecovery Measures:\\nComplete rest\\nAdequate hydration\\nNutritious, easily digestible foods\\nBreathing exercises\\n29. Hemorrhoids (Piles)\\nTopical Relief:\\nWitch Hazel: Apply with cotton pad\\nAloe Vera: Cooling and healing\\nIce Packs: For acute pain and swelling'),\n",
       " Document(metadata={'source': 'Data/medical book.pdf'}, page_content='Sitz Baths: Warm water for 15-20 minutes\\nDietary Changes:\\nHigh-fiber foods\\nAdequate water intake\\nAvoid straining during bowel movements'),\n",
       " Document(metadata={'source': 'Data/medical book.pdf'}, page_content='Regular exercise\\n30. Heart Attack\\n⚠  Emergency Note: Call emergency services immediately for suspected heart attack. These are\\nsupportive measures only.\\nPost-Event Support:\\nHawthorn: Heart-strengthening herb\\nGarlic: Cardiovascular health\\nOmega-3 Fatty Acids: Heart protection\\nCoQ10: Heart muscle support\\nLifestyle Changes:\\nHeart-healthy diet'),\n",
       " Document(metadata={'source': 'Data/medical book.pdf'}, page_content='Heart-healthy diet\\nRegular supervised exercise\\nStress management\\nMedication compliance\\n31. Varicose Veins\\nCirculation Improvement:\\nHorse Chestnut Extract: Vein strength\\nGrape Seed Extract: Antioxidant support\\nElevation: Legs above heart level\\nCompression: Support stockings\\nLifestyle Measures:\\nRegular exercise\\nAvoid prolonged standing/sitting'),\n",
       " Document(metadata={'source': 'Data/medical book.pdf'}, page_content='Maintain healthy weight\\nAvoid tight clothing\\n32. Hypothyroidism\\nThyroid Support:\\nSeaweed: Natural iodine source\\nBrazil Nuts: Selenium content'),\n",
       " Document(metadata={'source': 'Data/medical book.pdf'}, page_content='Coconut Oil: Metabolism support\\nAshwagandha: Adaptogenic herb\\nDietary Considerations:\\nAvoid goitrogenic foods in excess\\nEnsure adequate iodine intake\\nSupport with selenium and zinc\\nRegular exercise\\n33. Hyperthyroidism\\nNatural Calming:\\nLemon Balm: May reduce thyroid activity\\nBugleweed: Traditional thyroid herb\\nL-Carnitine: May reduce symptoms'),\n",
       " Document(metadata={'source': 'Data/medical book.pdf'}, page_content='Stress Reduction: Meditation, yoga\\nDietary Support:\\nAvoid excessive iodine\\nInclude calcium-rich foods\\nLimit caffeine\\nAnti-inflammatory foods\\n34. Hypoglycemia\\nBlood Sugar Stabilization:\\nComplex Carbohydrates: Whole grains, legumes\\nProtein: With each meal and snack\\nChromium: Blood sugar regulation\\nCinnamon: May improve insulin sensitivity'),\n",
       " Document(metadata={'source': 'Data/medical book.pdf'}, page_content='Lifestyle Management:\\nFrequent small meals\\nAvoid simple sugars\\nRegular meal timing\\nMonitor blood sugar levels'),\n",
       " Document(metadata={'source': 'Data/medical book.pdf'}, page_content='35. Osteoarthritis\\nJoint Support:\\nTurmeric: Anti-inflammatory\\nGinger: Pain reduction\\nGlucosamine/Chondroitin: Joint health\\nOmega-3 Fatty Acids: Inflammation reduction\\nPhysical Therapy:\\nGentle exercise\\nHot/cold therapy\\nMassage therapy\\nWeight management\\n36. Arthritis\\nAnti-Inflammatory Remedies:\\nTart Cherry Juice: Natural anti-inflammatory'),\n",
       " Document(metadata={'source': 'Data/medical book.pdf'}, page_content='Green Tea: Antioxidant properties\\nBoswellia: Traditional joint herb\\nMSM: Sulfur for joint health\\nPain Management:\\nEpsom salt baths\\nEssential oil massages\\nAcupuncture\\nStress reduction techniques\\n37. Vertigo (Paroxysmal Positional Vertigo)\\nBalance Support:\\nGinger: Reduces dizziness and nausea\\nGinkgo Biloba: Improves circulation'),\n",
       " Document(metadata={'source': 'Data/medical book.pdf'}, page_content='Canalith Repositioning: Epley maneuver\\nHydration: Maintain adequate fluid levels\\nLifestyle Adjustments:'),\n",
       " Document(metadata={'source': 'Data/medical book.pdf'}, page_content='Avoid sudden head movements\\nSleep with head elevated\\nLimit alcohol and caffeine\\nPractice balance exercises\\n38. Acne\\nTopical Treatments:\\nTea Tree Oil: Diluted, antimicrobial\\nHoney Masks: Antibacterial properties\\nAloe Vera: Anti-inflammatory\\nGreen Tea: Antioxidant face wash\\nInternal Support:\\nZinc supplementation\\nOmega-3 fatty acids'),\n",
       " Document(metadata={'source': 'Data/medical book.pdf'}, page_content='Omega-3 fatty acids\\nProbiotics for gut health\\nReduce dairy and high-glycemic foods\\n39. Urinary Tract Infection\\nNatural Antibacterials:\\nCranberry Juice: Unsweetened, pure\\nD-Mannose: Sugar that may prevent bacteria adhesion\\nUva Ursi: Traditional urinary herb\\nGarlic: Natural antimicrobial\\nSupportive Care:\\nIncrease water intake significantly'),\n",
       " Document(metadata={'source': 'Data/medical book.pdf'}, page_content=\"Avoid irritants (alcohol, caffeine, spicy foods)\\nUrinate frequently, don't hold it\\nProbiotics to restore healthy bacteria\\n40. Psoriasis\\nSkin Healing:\\nAloe Vera: Anti-inflammatory gel\"),\n",
       " Document(metadata={'source': 'Data/medical book.pdf'}, page_content='Dead Sea Salt Baths: Exfoliation and healing\\nTurmeric Paste: Anti-inflammatory\\nCoconut Oil: Moisturizing and antimicrobial\\nInternal Support:\\nOmega-3 fatty acids\\nVitamin D supplementation\\nAnti-inflammatory diet\\nStress management techniques\\n41. Impetigo\\nTopical Care:\\nHoney: Natural antimicrobial\\nTea Tree Oil: Diluted, antibacterial'),\n",
       " Document(metadata={'source': 'Data/medical book.pdf'}, page_content=\"Warm Compresses: Gentle cleansing\\nSaltwater Solution: Natural antiseptic\\nPrevention:\\nKeep affected areas clean and dry\\nAvoid touching or scratching\\nWash hands frequently\\nDon't share personal items\\nGeneral Wellness Guidelines\\nUniversal Health Principles:\\nMaintain a balanced, nutritious diet\\nStay adequately hydrated\"),\n",
       " Document(metadata={'source': 'Data/medical book.pdf'}, page_content='Get regular exercise appropriate for your condition\\nPrioritize quality sleep\\nManage stress through relaxation techniques\\nAvoid smoking and limit alcohol consumption\\nRegular health check-ups and monitoring\\nWhen to Seek Professional Help:'),\n",
       " Document(metadata={'source': 'Data/medical book.pdf'}, page_content=\"Symptoms worsen or don't improve\\nHigh fever, severe pain, or breathing difficulties\\nSigns of dehydration or serious complications\\nAny condition requiring prescription medication\\nEmergency symptoms (chest pain, severe headache, etc.)\\nRemember: These remedies are meant to support conventional treatment, not replace it. Always work\"),\n",
       " Document(metadata={'source': 'Data/medical book.pdf'}, page_content='with healthcare providers for proper diagnosis and treatment plans.')]"
      ]
     },
     "execution_count": 16,
     "metadata": {},
     "output_type": "execute_result"
    }
   ],
   "source": [
    "text_chunks"
   ]
  },
  {
   "cell_type": "code",
   "execution_count": 17,
   "id": "d2119b23",
   "metadata": {},
   "outputs": [],
   "source": [
    "from langchain.embeddings import HuggingFaceEmbeddings"
   ]
  },
  {
   "cell_type": "code",
   "execution_count": 18,
   "id": "d4a3d1e5",
   "metadata": {},
   "outputs": [
    {
     "name": "stderr",
     "output_type": "stream",
     "text": [
      "/var/folders/2d/5ys7w2h90kj37_plvvhpsswm0000gn/T/ipykernel_19348/220312833.py:3: LangChainDeprecationWarning: The class `HuggingFaceEmbeddings` was deprecated in LangChain 0.2.2 and will be removed in 1.0. An updated version of the class exists in the :class:`~langchain-huggingface package and should be used instead. To use it run `pip install -U :class:`~langchain-huggingface` and import as `from :class:`~langchain_huggingface import HuggingFaceEmbeddings``.\n",
      "  embeddings=HuggingFaceEmbeddings(model_name='sentence-transformers/all-MiniLM-L6-v2')\n"
     ]
    },
    {
     "ename": "ImportError",
     "evalue": "Could not import sentence_transformers python package. Please install it with `pip install sentence-transformers`.",
     "output_type": "error",
     "traceback": [
      "\u001b[0;31m---------------------------------------------------------------------------\u001b[0m",
      "\u001b[0;31mModuleNotFoundError\u001b[0m                       Traceback (most recent call last)",
      "File \u001b[0;32m~/miniconda3/envs/medibot/lib/python3.10/site-packages/langchain_community/embeddings/huggingface.py:84\u001b[0m, in \u001b[0;36mHuggingFaceEmbeddings.__init__\u001b[0;34m(self, **kwargs)\u001b[0m\n\u001b[1;32m     83\u001b[0m \u001b[38;5;28;01mtry\u001b[39;00m:\n\u001b[0;32m---> 84\u001b[0m     \u001b[38;5;28;01mimport\u001b[39;00m\u001b[38;5;250m \u001b[39m\u001b[38;5;21;01msentence_transformers\u001b[39;00m\n\u001b[1;32m     86\u001b[0m \u001b[38;5;28;01mexcept\u001b[39;00m \u001b[38;5;167;01mImportError\u001b[39;00m \u001b[38;5;28;01mas\u001b[39;00m exc:\n",
      "\u001b[0;31mModuleNotFoundError\u001b[0m: No module named 'sentence_transformers'",
      "\nThe above exception was the direct cause of the following exception:\n",
      "\u001b[0;31mImportError\u001b[0m                               Traceback (most recent call last)",
      "Cell \u001b[0;32mIn[18], line 6\u001b[0m\n\u001b[1;32m      3\u001b[0m     embeddings\u001b[38;5;241m=\u001b[39mHuggingFaceEmbeddings(model_name\u001b[38;5;241m=\u001b[39m\u001b[38;5;124m'\u001b[39m\u001b[38;5;124msentence-transformers/all-MiniLM-L6-v2\u001b[39m\u001b[38;5;124m'\u001b[39m)\n\u001b[1;32m      4\u001b[0m     \u001b[38;5;28;01mreturn\u001b[39;00m embeddings\n\u001b[0;32m----> 6\u001b[0m embeddings \u001b[38;5;241m=\u001b[39m \u001b[43mdownload_hugging_face_embeddings\u001b[49m\u001b[43m(\u001b[49m\u001b[43m)\u001b[49m\n",
      "Cell \u001b[0;32mIn[18], line 3\u001b[0m, in \u001b[0;36mdownload_hugging_face_embeddings\u001b[0;34m()\u001b[0m\n\u001b[1;32m      2\u001b[0m \u001b[38;5;28;01mdef\u001b[39;00m\u001b[38;5;250m \u001b[39m\u001b[38;5;21mdownload_hugging_face_embeddings\u001b[39m():\n\u001b[0;32m----> 3\u001b[0m     embeddings\u001b[38;5;241m=\u001b[39m\u001b[43mHuggingFaceEmbeddings\u001b[49m\u001b[43m(\u001b[49m\u001b[43mmodel_name\u001b[49m\u001b[38;5;241;43m=\u001b[39;49m\u001b[38;5;124;43m'\u001b[39;49m\u001b[38;5;124;43msentence-transformers/all-MiniLM-L6-v2\u001b[39;49m\u001b[38;5;124;43m'\u001b[39;49m\u001b[43m)\u001b[49m\n\u001b[1;32m      4\u001b[0m     \u001b[38;5;28;01mreturn\u001b[39;00m embeddings\n",
      "File \u001b[0;32m~/miniconda3/envs/medibot/lib/python3.10/site-packages/langchain_core/_api/deprecation.py:222\u001b[0m, in \u001b[0;36mdeprecated.<locals>.deprecate.<locals>.finalize.<locals>.warn_if_direct_instance\u001b[0;34m(self, *args, **kwargs)\u001b[0m\n\u001b[1;32m    220\u001b[0m     warned \u001b[38;5;241m=\u001b[39m \u001b[38;5;28;01mTrue\u001b[39;00m\n\u001b[1;32m    221\u001b[0m     emit_warning()\n\u001b[0;32m--> 222\u001b[0m \u001b[38;5;28;01mreturn\u001b[39;00m \u001b[43mwrapped\u001b[49m\u001b[43m(\u001b[49m\u001b[38;5;28;43mself\u001b[39;49m\u001b[43m,\u001b[49m\u001b[43m \u001b[49m\u001b[38;5;241;43m*\u001b[39;49m\u001b[43margs\u001b[49m\u001b[43m,\u001b[49m\u001b[43m \u001b[49m\u001b[38;5;241;43m*\u001b[39;49m\u001b[38;5;241;43m*\u001b[39;49m\u001b[43mkwargs\u001b[49m\u001b[43m)\u001b[49m\n",
      "File \u001b[0;32m~/miniconda3/envs/medibot/lib/python3.10/site-packages/langchain_community/embeddings/huggingface.py:87\u001b[0m, in \u001b[0;36mHuggingFaceEmbeddings.__init__\u001b[0;34m(self, **kwargs)\u001b[0m\n\u001b[1;32m     84\u001b[0m     \u001b[38;5;28;01mimport\u001b[39;00m\u001b[38;5;250m \u001b[39m\u001b[38;5;21;01msentence_transformers\u001b[39;00m\n\u001b[1;32m     86\u001b[0m \u001b[38;5;28;01mexcept\u001b[39;00m \u001b[38;5;167;01mImportError\u001b[39;00m \u001b[38;5;28;01mas\u001b[39;00m exc:\n\u001b[0;32m---> 87\u001b[0m     \u001b[38;5;28;01mraise\u001b[39;00m \u001b[38;5;167;01mImportError\u001b[39;00m(\n\u001b[1;32m     88\u001b[0m         \u001b[38;5;124m\"\u001b[39m\u001b[38;5;124mCould not import sentence_transformers python package. \u001b[39m\u001b[38;5;124m\"\u001b[39m\n\u001b[1;32m     89\u001b[0m         \u001b[38;5;124m\"\u001b[39m\u001b[38;5;124mPlease install it with `pip install sentence-transformers`.\u001b[39m\u001b[38;5;124m\"\u001b[39m\n\u001b[1;32m     90\u001b[0m     ) \u001b[38;5;28;01mfrom\u001b[39;00m\u001b[38;5;250m \u001b[39m\u001b[38;5;21;01mexc\u001b[39;00m\n\u001b[1;32m     92\u001b[0m \u001b[38;5;28mself\u001b[39m\u001b[38;5;241m.\u001b[39mclient \u001b[38;5;241m=\u001b[39m sentence_transformers\u001b[38;5;241m.\u001b[39mSentenceTransformer(\n\u001b[1;32m     93\u001b[0m     \u001b[38;5;28mself\u001b[39m\u001b[38;5;241m.\u001b[39mmodel_name, cache_folder\u001b[38;5;241m=\u001b[39m\u001b[38;5;28mself\u001b[39m\u001b[38;5;241m.\u001b[39mcache_folder, \u001b[38;5;241m*\u001b[39m\u001b[38;5;241m*\u001b[39m\u001b[38;5;28mself\u001b[39m\u001b[38;5;241m.\u001b[39mmodel_kwargs\n\u001b[1;32m     94\u001b[0m )\n",
      "\u001b[0;31mImportError\u001b[0m: Could not import sentence_transformers python package. Please install it with `pip install sentence-transformers`."
     ]
    }
   ],
   "source": [
    "#Download the Embeddings from Hugging Face\n",
    "def download_hugging_face_embeddings():\n",
    "    embeddings=HuggingFaceEmbeddings(model_name='sentence-transformers/all-MiniLM-L6-v2')\n",
    "    return embeddings\n",
    "\n",
    "embeddings = download_hugging_face_embeddings()"
   ]
  },
  {
   "cell_type": "code",
   "execution_count": null,
   "id": "d5939385",
   "metadata": {},
   "outputs": [],
   "source": []
  }
 ],
 "metadata": {
  "kernelspec": {
   "display_name": "medibot",
   "language": "python",
   "name": "python3"
  },
  "language_info": {
   "codemirror_mode": {
    "name": "ipython",
    "version": 3
   },
   "file_extension": ".py",
   "mimetype": "text/x-python",
   "name": "python",
   "nbconvert_exporter": "python",
   "pygments_lexer": "ipython3",
   "version": "3.10.18"
  }
 },
 "nbformat": 4,
 "nbformat_minor": 5
}
