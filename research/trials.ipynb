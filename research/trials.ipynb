{
 "cells": [
  {
   "cell_type": "code",
   "execution_count": 1,
   "id": "71424548",
   "metadata": {},
   "outputs": [
    {
     "name": "stdout",
     "output_type": "stream",
     "text": [
      "ok\n"
     ]
    }
   ],
   "source": [
    "print(\"ok\")"
   ]
  },
  {
   "cell_type": "code",
   "execution_count": 2,
   "id": "14eac732",
   "metadata": {},
   "outputs": [
    {
     "data": {
      "text/plain": [
       "'/Users/pasindudilshan/Documents/project/Medical-Chatbot/research'"
      ]
     },
     "execution_count": 2,
     "metadata": {},
     "output_type": "execute_result"
    }
   ],
   "source": [
    "%pwd"
   ]
  },
  {
   "cell_type": "code",
   "execution_count": 3,
   "id": "c5b9b108",
   "metadata": {},
   "outputs": [],
   "source": [
    "import os\n",
    "os.chdir(\"../\")"
   ]
  },
  {
   "cell_type": "code",
   "execution_count": 4,
   "id": "50e37fe5",
   "metadata": {},
   "outputs": [
    {
     "data": {
      "text/plain": [
       "'/Users/pasindudilshan/Documents/project/Medical-Chatbot'"
      ]
     },
     "execution_count": 4,
     "metadata": {},
     "output_type": "execute_result"
    }
   ],
   "source": [
    "%pwd"
   ]
  },
  {
   "cell_type": "code",
   "execution_count": 5,
   "id": "4367b199",
   "metadata": {},
   "outputs": [
    {
     "name": "stdout",
     "output_type": "stream",
     "text": [
      "Requirement already satisfied: langchain in /Users/pasindudilshan/miniconda3/envs/medibot/lib/python3.10/site-packages (0.3.26)\n",
      "Requirement already satisfied: langchain-core<1.0.0,>=0.3.66 in /Users/pasindudilshan/miniconda3/envs/medibot/lib/python3.10/site-packages (from langchain) (0.3.67)\n",
      "Requirement already satisfied: langchain-text-splitters<1.0.0,>=0.3.8 in /Users/pasindudilshan/miniconda3/envs/medibot/lib/python3.10/site-packages (from langchain) (0.3.8)\n",
      "Requirement already satisfied: langsmith>=0.1.17 in /Users/pasindudilshan/miniconda3/envs/medibot/lib/python3.10/site-packages (from langchain) (0.4.4)\n",
      "Requirement already satisfied: pydantic<3.0.0,>=2.7.4 in /Users/pasindudilshan/miniconda3/envs/medibot/lib/python3.10/site-packages (from langchain) (2.11.7)\n",
      "Requirement already satisfied: SQLAlchemy<3,>=1.4 in /Users/pasindudilshan/miniconda3/envs/medibot/lib/python3.10/site-packages (from langchain) (2.0.41)\n",
      "Requirement already satisfied: requests<3,>=2 in /Users/pasindudilshan/miniconda3/envs/medibot/lib/python3.10/site-packages (from langchain) (2.32.4)\n",
      "Requirement already satisfied: PyYAML>=5.3 in /Users/pasindudilshan/miniconda3/envs/medibot/lib/python3.10/site-packages (from langchain) (6.0.2)\n",
      "Requirement already satisfied: async-timeout<5.0.0,>=4.0.0 in /Users/pasindudilshan/miniconda3/envs/medibot/lib/python3.10/site-packages (from langchain) (4.0.3)\n",
      "Requirement already satisfied: tenacity!=8.4.0,<10.0.0,>=8.1.0 in /Users/pasindudilshan/miniconda3/envs/medibot/lib/python3.10/site-packages (from langchain-core<1.0.0,>=0.3.66->langchain) (9.1.2)\n",
      "Requirement already satisfied: jsonpatch<2.0,>=1.33 in /Users/pasindudilshan/miniconda3/envs/medibot/lib/python3.10/site-packages (from langchain-core<1.0.0,>=0.3.66->langchain) (1.33)\n",
      "Requirement already satisfied: packaging<25,>=23.2 in /Users/pasindudilshan/miniconda3/envs/medibot/lib/python3.10/site-packages (from langchain-core<1.0.0,>=0.3.66->langchain) (24.2)\n",
      "Requirement already satisfied: typing-extensions>=4.7 in /Users/pasindudilshan/miniconda3/envs/medibot/lib/python3.10/site-packages (from langchain-core<1.0.0,>=0.3.66->langchain) (4.14.0)\n",
      "Requirement already satisfied: jsonpointer>=1.9 in /Users/pasindudilshan/miniconda3/envs/medibot/lib/python3.10/site-packages (from jsonpatch<2.0,>=1.33->langchain-core<1.0.0,>=0.3.66->langchain) (3.0.0)\n",
      "Requirement already satisfied: annotated-types>=0.6.0 in /Users/pasindudilshan/miniconda3/envs/medibot/lib/python3.10/site-packages (from pydantic<3.0.0,>=2.7.4->langchain) (0.7.0)\n",
      "Requirement already satisfied: pydantic-core==2.33.2 in /Users/pasindudilshan/miniconda3/envs/medibot/lib/python3.10/site-packages (from pydantic<3.0.0,>=2.7.4->langchain) (2.33.2)\n",
      "Requirement already satisfied: typing-inspection>=0.4.0 in /Users/pasindudilshan/miniconda3/envs/medibot/lib/python3.10/site-packages (from pydantic<3.0.0,>=2.7.4->langchain) (0.4.1)\n",
      "Requirement already satisfied: charset_normalizer<4,>=2 in /Users/pasindudilshan/miniconda3/envs/medibot/lib/python3.10/site-packages (from requests<3,>=2->langchain) (3.4.2)\n",
      "Requirement already satisfied: idna<4,>=2.5 in /Users/pasindudilshan/miniconda3/envs/medibot/lib/python3.10/site-packages (from requests<3,>=2->langchain) (3.10)\n",
      "Requirement already satisfied: urllib3<3,>=1.21.1 in /Users/pasindudilshan/miniconda3/envs/medibot/lib/python3.10/site-packages (from requests<3,>=2->langchain) (2.5.0)\n",
      "Requirement already satisfied: certifi>=2017.4.17 in /Users/pasindudilshan/miniconda3/envs/medibot/lib/python3.10/site-packages (from requests<3,>=2->langchain) (2025.6.15)\n",
      "Requirement already satisfied: httpx<1,>=0.23.0 in /Users/pasindudilshan/miniconda3/envs/medibot/lib/python3.10/site-packages (from langsmith>=0.1.17->langchain) (0.28.1)\n",
      "Requirement already satisfied: orjson<4.0.0,>=3.9.14 in /Users/pasindudilshan/miniconda3/envs/medibot/lib/python3.10/site-packages (from langsmith>=0.1.17->langchain) (3.10.18)\n",
      "Requirement already satisfied: requests-toolbelt<2.0.0,>=1.0.0 in /Users/pasindudilshan/miniconda3/envs/medibot/lib/python3.10/site-packages (from langsmith>=0.1.17->langchain) (1.0.0)\n",
      "Requirement already satisfied: zstandard<0.24.0,>=0.23.0 in /Users/pasindudilshan/miniconda3/envs/medibot/lib/python3.10/site-packages (from langsmith>=0.1.17->langchain) (0.23.0)\n",
      "Requirement already satisfied: anyio in /Users/pasindudilshan/miniconda3/envs/medibot/lib/python3.10/site-packages (from httpx<1,>=0.23.0->langsmith>=0.1.17->langchain) (4.9.0)\n",
      "Requirement already satisfied: httpcore==1.* in /Users/pasindudilshan/miniconda3/envs/medibot/lib/python3.10/site-packages (from httpx<1,>=0.23.0->langsmith>=0.1.17->langchain) (1.0.9)\n",
      "Requirement already satisfied: h11>=0.16 in /Users/pasindudilshan/miniconda3/envs/medibot/lib/python3.10/site-packages (from httpcore==1.*->httpx<1,>=0.23.0->langsmith>=0.1.17->langchain) (0.16.0)\n",
      "Requirement already satisfied: exceptiongroup>=1.0.2 in /Users/pasindudilshan/miniconda3/envs/medibot/lib/python3.10/site-packages (from anyio->httpx<1,>=0.23.0->langsmith>=0.1.17->langchain) (1.3.0)\n",
      "Requirement already satisfied: sniffio>=1.1 in /Users/pasindudilshan/miniconda3/envs/medibot/lib/python3.10/site-packages (from anyio->httpx<1,>=0.23.0->langsmith>=0.1.17->langchain) (1.3.1)\n",
      "Requirement already satisfied: langchain-community in /Users/pasindudilshan/miniconda3/envs/medibot/lib/python3.10/site-packages (0.3.27)\n",
      "\u001b[33mWARNING: Retrying (Retry(total=4, connect=None, read=None, redirect=None, status=None)) after connection broken by 'NewConnectionError('<pip._vendor.urllib3.connection.HTTPSConnection object at 0x102966e60>: Failed to establish a new connection: [Errno 8] nodename nor servname provided, or not known')': /simple/langchain-community/\u001b[0m\u001b[33m\n",
      "\u001b[0mRequirement already satisfied: langchain-core<1.0.0,>=0.3.66 in /Users/pasindudilshan/miniconda3/envs/medibot/lib/python3.10/site-packages (from langchain-community) (0.3.67)\n",
      "Requirement already satisfied: langchain<1.0.0,>=0.3.26 in /Users/pasindudilshan/miniconda3/envs/medibot/lib/python3.10/site-packages (from langchain-community) (0.3.26)\n",
      "Requirement already satisfied: SQLAlchemy<3,>=1.4 in /Users/pasindudilshan/miniconda3/envs/medibot/lib/python3.10/site-packages (from langchain-community) (2.0.41)\n",
      "Requirement already satisfied: requests<3,>=2 in /Users/pasindudilshan/miniconda3/envs/medibot/lib/python3.10/site-packages (from langchain-community) (2.32.4)\n",
      "Requirement already satisfied: PyYAML>=5.3 in /Users/pasindudilshan/miniconda3/envs/medibot/lib/python3.10/site-packages (from langchain-community) (6.0.2)\n",
      "Requirement already satisfied: aiohttp<4.0.0,>=3.8.3 in /Users/pasindudilshan/miniconda3/envs/medibot/lib/python3.10/site-packages (from langchain-community) (3.12.13)\n",
      "Requirement already satisfied: tenacity!=8.4.0,<10,>=8.1.0 in /Users/pasindudilshan/miniconda3/envs/medibot/lib/python3.10/site-packages (from langchain-community) (9.1.2)\n",
      "Requirement already satisfied: dataclasses-json<0.7,>=0.5.7 in /Users/pasindudilshan/miniconda3/envs/medibot/lib/python3.10/site-packages (from langchain-community) (0.6.7)\n",
      "Requirement already satisfied: pydantic-settings<3.0.0,>=2.4.0 in /Users/pasindudilshan/miniconda3/envs/medibot/lib/python3.10/site-packages (from langchain-community) (2.10.1)\n",
      "Requirement already satisfied: langsmith>=0.1.125 in /Users/pasindudilshan/miniconda3/envs/medibot/lib/python3.10/site-packages (from langchain-community) (0.4.4)\n",
      "Requirement already satisfied: httpx-sse<1.0.0,>=0.4.0 in /Users/pasindudilshan/miniconda3/envs/medibot/lib/python3.10/site-packages (from langchain-community) (0.4.1)\n",
      "Requirement already satisfied: numpy>=1.26.2 in /Users/pasindudilshan/miniconda3/envs/medibot/lib/python3.10/site-packages (from langchain-community) (2.2.6)\n",
      "Requirement already satisfied: aiohappyeyeballs>=2.5.0 in /Users/pasindudilshan/miniconda3/envs/medibot/lib/python3.10/site-packages (from aiohttp<4.0.0,>=3.8.3->langchain-community) (2.6.1)\n",
      "Requirement already satisfied: aiosignal>=1.1.2 in /Users/pasindudilshan/miniconda3/envs/medibot/lib/python3.10/site-packages (from aiohttp<4.0.0,>=3.8.3->langchain-community) (1.3.2)\n",
      "Requirement already satisfied: async-timeout<6.0,>=4.0 in /Users/pasindudilshan/miniconda3/envs/medibot/lib/python3.10/site-packages (from aiohttp<4.0.0,>=3.8.3->langchain-community) (4.0.3)\n",
      "Requirement already satisfied: attrs>=17.3.0 in /Users/pasindudilshan/miniconda3/envs/medibot/lib/python3.10/site-packages (from aiohttp<4.0.0,>=3.8.3->langchain-community) (25.3.0)\n",
      "Requirement already satisfied: frozenlist>=1.1.1 in /Users/pasindudilshan/miniconda3/envs/medibot/lib/python3.10/site-packages (from aiohttp<4.0.0,>=3.8.3->langchain-community) (1.7.0)\n",
      "Requirement already satisfied: multidict<7.0,>=4.5 in /Users/pasindudilshan/miniconda3/envs/medibot/lib/python3.10/site-packages (from aiohttp<4.0.0,>=3.8.3->langchain-community) (6.6.3)\n",
      "Requirement already satisfied: propcache>=0.2.0 in /Users/pasindudilshan/miniconda3/envs/medibot/lib/python3.10/site-packages (from aiohttp<4.0.0,>=3.8.3->langchain-community) (0.3.2)\n",
      "Requirement already satisfied: yarl<2.0,>=1.17.0 in /Users/pasindudilshan/miniconda3/envs/medibot/lib/python3.10/site-packages (from aiohttp<4.0.0,>=3.8.3->langchain-community) (1.20.1)\n",
      "Requirement already satisfied: marshmallow<4.0.0,>=3.18.0 in /Users/pasindudilshan/miniconda3/envs/medibot/lib/python3.10/site-packages (from dataclasses-json<0.7,>=0.5.7->langchain-community) (3.26.1)\n",
      "Requirement already satisfied: typing-inspect<1,>=0.4.0 in /Users/pasindudilshan/miniconda3/envs/medibot/lib/python3.10/site-packages (from dataclasses-json<0.7,>=0.5.7->langchain-community) (0.9.0)\n",
      "Requirement already satisfied: langchain-text-splitters<1.0.0,>=0.3.8 in /Users/pasindudilshan/miniconda3/envs/medibot/lib/python3.10/site-packages (from langchain<1.0.0,>=0.3.26->langchain-community) (0.3.8)\n",
      "Requirement already satisfied: pydantic<3.0.0,>=2.7.4 in /Users/pasindudilshan/miniconda3/envs/medibot/lib/python3.10/site-packages (from langchain<1.0.0,>=0.3.26->langchain-community) (2.11.7)\n",
      "Requirement already satisfied: jsonpatch<2.0,>=1.33 in /Users/pasindudilshan/miniconda3/envs/medibot/lib/python3.10/site-packages (from langchain-core<1.0.0,>=0.3.66->langchain-community) (1.33)\n",
      "Requirement already satisfied: packaging<25,>=23.2 in /Users/pasindudilshan/miniconda3/envs/medibot/lib/python3.10/site-packages (from langchain-core<1.0.0,>=0.3.66->langchain-community) (24.2)\n",
      "Requirement already satisfied: typing-extensions>=4.7 in /Users/pasindudilshan/miniconda3/envs/medibot/lib/python3.10/site-packages (from langchain-core<1.0.0,>=0.3.66->langchain-community) (4.14.0)\n",
      "Requirement already satisfied: jsonpointer>=1.9 in /Users/pasindudilshan/miniconda3/envs/medibot/lib/python3.10/site-packages (from jsonpatch<2.0,>=1.33->langchain-core<1.0.0,>=0.3.66->langchain-community) (3.0.0)\n",
      "Requirement already satisfied: annotated-types>=0.6.0 in /Users/pasindudilshan/miniconda3/envs/medibot/lib/python3.10/site-packages (from pydantic<3.0.0,>=2.7.4->langchain<1.0.0,>=0.3.26->langchain-community) (0.7.0)\n",
      "Requirement already satisfied: pydantic-core==2.33.2 in /Users/pasindudilshan/miniconda3/envs/medibot/lib/python3.10/site-packages (from pydantic<3.0.0,>=2.7.4->langchain<1.0.0,>=0.3.26->langchain-community) (2.33.2)\n",
      "Requirement already satisfied: typing-inspection>=0.4.0 in /Users/pasindudilshan/miniconda3/envs/medibot/lib/python3.10/site-packages (from pydantic<3.0.0,>=2.7.4->langchain<1.0.0,>=0.3.26->langchain-community) (0.4.1)\n",
      "Requirement already satisfied: python-dotenv>=0.21.0 in /Users/pasindudilshan/miniconda3/envs/medibot/lib/python3.10/site-packages (from pydantic-settings<3.0.0,>=2.4.0->langchain-community) (1.1.1)\n",
      "Requirement already satisfied: charset_normalizer<4,>=2 in /Users/pasindudilshan/miniconda3/envs/medibot/lib/python3.10/site-packages (from requests<3,>=2->langchain-community) (3.4.2)\n",
      "Requirement already satisfied: idna<4,>=2.5 in /Users/pasindudilshan/miniconda3/envs/medibot/lib/python3.10/site-packages (from requests<3,>=2->langchain-community) (3.10)\n",
      "Requirement already satisfied: urllib3<3,>=1.21.1 in /Users/pasindudilshan/miniconda3/envs/medibot/lib/python3.10/site-packages (from requests<3,>=2->langchain-community) (2.5.0)\n",
      "Requirement already satisfied: certifi>=2017.4.17 in /Users/pasindudilshan/miniconda3/envs/medibot/lib/python3.10/site-packages (from requests<3,>=2->langchain-community) (2025.6.15)\n",
      "Requirement already satisfied: mypy-extensions>=0.3.0 in /Users/pasindudilshan/miniconda3/envs/medibot/lib/python3.10/site-packages (from typing-inspect<1,>=0.4.0->dataclasses-json<0.7,>=0.5.7->langchain-community) (1.1.0)\n",
      "Requirement already satisfied: httpx<1,>=0.23.0 in /Users/pasindudilshan/miniconda3/envs/medibot/lib/python3.10/site-packages (from langsmith>=0.1.125->langchain-community) (0.28.1)\n",
      "Requirement already satisfied: orjson<4.0.0,>=3.9.14 in /Users/pasindudilshan/miniconda3/envs/medibot/lib/python3.10/site-packages (from langsmith>=0.1.125->langchain-community) (3.10.18)\n",
      "Requirement already satisfied: requests-toolbelt<2.0.0,>=1.0.0 in /Users/pasindudilshan/miniconda3/envs/medibot/lib/python3.10/site-packages (from langsmith>=0.1.125->langchain-community) (1.0.0)\n",
      "Requirement already satisfied: zstandard<0.24.0,>=0.23.0 in /Users/pasindudilshan/miniconda3/envs/medibot/lib/python3.10/site-packages (from langsmith>=0.1.125->langchain-community) (0.23.0)\n",
      "Requirement already satisfied: anyio in /Users/pasindudilshan/miniconda3/envs/medibot/lib/python3.10/site-packages (from httpx<1,>=0.23.0->langsmith>=0.1.125->langchain-community) (4.9.0)\n",
      "Requirement already satisfied: httpcore==1.* in /Users/pasindudilshan/miniconda3/envs/medibot/lib/python3.10/site-packages (from httpx<1,>=0.23.0->langsmith>=0.1.125->langchain-community) (1.0.9)\n",
      "Requirement already satisfied: h11>=0.16 in /Users/pasindudilshan/miniconda3/envs/medibot/lib/python3.10/site-packages (from httpcore==1.*->httpx<1,>=0.23.0->langsmith>=0.1.125->langchain-community) (0.16.0)\n",
      "Requirement already satisfied: exceptiongroup>=1.0.2 in /Users/pasindudilshan/miniconda3/envs/medibot/lib/python3.10/site-packages (from anyio->httpx<1,>=0.23.0->langsmith>=0.1.125->langchain-community) (1.3.0)\n",
      "Requirement already satisfied: sniffio>=1.1 in /Users/pasindudilshan/miniconda3/envs/medibot/lib/python3.10/site-packages (from anyio->httpx<1,>=0.23.0->langsmith>=0.1.125->langchain-community) (1.3.1)\n"
     ]
    }
   ],
   "source": [
    "!pip install langchain\n",
    "!pip install -U langchain-community"
   ]
  },
  {
   "cell_type": "code",
   "execution_count": 6,
   "id": "20cb22b8",
   "metadata": {},
   "outputs": [],
   "source": [
    "from langchain.document_loaders import PyPDFLoader, DirectoryLoader\n",
    "from langchain.text_splitter import RecursiveCharacterTextSplitter"
   ]
  },
  {
   "cell_type": "code",
   "execution_count": 7,
   "id": "9936be8e",
   "metadata": {},
   "outputs": [],
   "source": [
    "#Extract Data From the PDF File\n",
    "def load_pdf_file(data):\n",
    "    loader= DirectoryLoader(data,\n",
    "                            glob=\"*.pdf\",\n",
    "                            loader_cls=PyPDFLoader)\n",
    "\n",
    "    documents=loader.load()\n",
    "\n",
    "    return documents"
   ]
  },
  {
   "cell_type": "code",
   "execution_count": 8,
   "id": "0578f922",
   "metadata": {},
   "outputs": [
    {
     "name": "stdout",
     "output_type": "stream",
     "text": [
      "Requirement already satisfied: pypdf in /Users/pasindudilshan/miniconda3/envs/medibot/lib/python3.10/site-packages (5.7.0)\n",
      "Requirement already satisfied: typing_extensions>=4.0 in /Users/pasindudilshan/miniconda3/envs/medibot/lib/python3.10/site-packages (from pypdf) (4.14.0)\n"
     ]
    }
   ],
   "source": [
    "!pip install pypdf"
   ]
  },
  {
   "cell_type": "code",
   "execution_count": 9,
   "id": "564c7794",
   "metadata": {},
   "outputs": [],
   "source": [
    "extracted_data = load_pdf_file(data=\"Data/\")"
   ]
  },
  {
   "cell_type": "code",
   "execution_count": 10,
   "id": "2093844f",
   "metadata": {},
   "outputs": [
    {
     "data": {
      "text/plain": [
       "[Document(metadata={'producer': 'Skia/PDF m137', 'creator': 'Mozilla/5.0 (Macintosh; Intel Mac OS X 10_15_7) AppleWebKit/537.36 (KHTML, like Gecko) Chrome/137.0.0.0 Safari/537.36', 'creationdate': '2025-07-01T09:04:33+00:00', 'title': 'Complete Home Remedies Guide for Common Health Conditions', 'moddate': '2025-07-01T09:04:33+00:00', 'source': 'Data/medical book.pdf', 'total_pages': 16, 'page': 0, 'page_label': '1'}, page_content='Complete Home Remedies Guide for Common Health Conditions\\n⚠  Important Disclaimer: These home remedies are for informational purposes only and should not\\nreplace professional medical treatment. Always consult healthcare providers for proper diagnosis and\\ntreatment, especially for serious conditions.\\n1. Fungal Infection\\nTopical Remedies:\\nTea Tree Oil: Dilute 2-3 drops in coconut oil, apply twice daily\\nApple Cider Vinegar: Mix equal parts with water, apply with cotton ball\\nGarlic Paste: Crush fresh garlic, apply for 10-15 minutes\\nTurmeric Paste: Mix turmeric powder with water or coconut oil\\nYogurt: Apply plain, unsweetened yogurt to affected areas\\nDietary Support:\\nIncrease probiotic foods (yogurt, kefir, fermented vegetables)\\nReduce sugar and refined carbohydrates\\nAdd antifungal foods: oregano, coconut oil, ginger\\n2. Allergy\\nNatural Antihistamines:\\nQuercetin: Found in onions, apples, berries - natural antihistamine\\nLocal Honey: 1 tablespoon daily to build immunity to local pollens\\nNettle Tea: 2-3 cups daily during allergy season\\nButterbur Extract: Follow package instructions\\nEnvironmental Management:\\nUse HEPA air filters\\nKeep windows closed during high pollen days\\nShower after outdoor activities\\nWash bedding in hot water weekly\\nNasal Relief:\\nSaline nasal rinse using neti pot\\nSteam inhalation with eucalyptus oil'),\n",
       " Document(metadata={'producer': 'Skia/PDF m137', 'creator': 'Mozilla/5.0 (Macintosh; Intel Mac OS X 10_15_7) AppleWebKit/537.36 (KHTML, like Gecko) Chrome/137.0.0.0 Safari/537.36', 'creationdate': '2025-07-01T09:04:33+00:00', 'title': 'Complete Home Remedies Guide for Common Health Conditions', 'moddate': '2025-07-01T09:04:33+00:00', 'source': 'Data/medical book.pdf', 'total_pages': 16, 'page': 1, 'page_label': '2'}, page_content=\"Cold compress over sinuses\\n3. GERD (Gastroesophageal Reflux Disease)\\nImmediate Relief:\\nBaking Soda: 1/2 teaspoon in water (use sparingly)\\nAloe Vera Juice: 1/4 cup before meals\\nGinger Tea: Fresh ginger steeped in hot water\\nChamomile Tea: 30 minutes before meals\\nLifestyle Modifications:\\nEat smaller, frequent meals\\nAvoid trigger foods (spicy, fatty, acidic)\\nSleep with head elevated 6-8 inches\\nDon't eat 3 hours before bedtime\\nMaintain healthy weight\\nNatural Remedies:\\nChew gum after meals to increase saliva production\\nApple cider vinegar: 1 tablespoon in water before meals\\nSlippery elm bark tea\\n4. Chronic Cholestasis\\nLiver Support:\\nMilk Thistle: 200-400mg daily\\nDandelion Root Tea: 2-3 cups daily\\nTurmeric: 1 teaspoon with black pepper in warm milk\\nLemon Water: First thing in morning\\nDietary Recommendations:\\nIncrease fiber intake\\nEat bitter greens (arugula, dandelion, endive)\\nAvoid alcohol and processed foods\\nInclude healthy fats (olive oil, avocado)\\n5. Drug Reaction\"),\n",
       " Document(metadata={'producer': 'Skia/PDF m137', 'creator': 'Mozilla/5.0 (Macintosh; Intel Mac OS X 10_15_7) AppleWebKit/537.36 (KHTML, like Gecko) Chrome/137.0.0.0 Safari/537.36', 'creationdate': '2025-07-01T09:04:33+00:00', 'title': 'Complete Home Remedies Guide for Common Health Conditions', 'moddate': '2025-07-01T09:04:33+00:00', 'source': 'Data/medical book.pdf', 'total_pages': 16, 'page': 2, 'page_label': '3'}, page_content='Immediate Care:\\nDiscontinue suspected medication (consult doctor first)\\nActivated Charcoal: If recently ingested (medical supervision)\\nCool Compresses: For skin reactions\\nOatmeal Baths: For widespread skin irritation\\nNatural Detox Support:\\nDrink plenty of water\\nGreen tea for antioxidants\\nCilantro and parsley for natural detox\\nProbiotics to restore gut health\\n6. Peptic Ulcer Disease\\nHealing Remedies:\\nCabbage Juice: 1/2 cup twice daily\\nHoney: 1 tablespoon on empty stomach\\nLicorice Root: DGL (deglycyrrhizinated) supplements\\nAloe Vera Gel: 2 tablespoons before meals\\nDietary Guidelines:\\nAvoid NSAIDs, alcohol, and smoking\\nEat smaller, frequent meals\\nInclude probiotics\\nAvoid spicy, acidic foods during flare-ups\\nIncrease fiber gradually\\n7. AIDS\\nImmune System Support:\\nElderberry: Natural immune booster\\nEchinacea: Short-term immune support\\nAstragalus: Adaptogenic herb for immunity\\nVitamin C: High doses from natural sources\\nNutritional Support:'),\n",
       " Document(metadata={'producer': 'Skia/PDF m137', 'creator': 'Mozilla/5.0 (Macintosh; Intel Mac OS X 10_15_7) AppleWebKit/537.36 (KHTML, like Gecko) Chrome/137.0.0.0 Safari/537.36', 'creationdate': '2025-07-01T09:04:33+00:00', 'title': 'Complete Home Remedies Guide for Common Health Conditions', 'moddate': '2025-07-01T09:04:33+00:00', 'source': 'Data/medical book.pdf', 'total_pages': 16, 'page': 3, 'page_label': '4'}, page_content='High-protein, nutrient-dense foods\\nOmega-3 fatty acids\\nZinc-rich foods\\nAvoid raw or undercooked foods\\n8. Diabetes\\nBlood Sugar Management:\\nCinnamon: 1-2 teaspoons daily\\nBitter Melon: Juice or cooked vegetable\\nFenugreek Seeds: Soak overnight, drink water in morning\\nApple Cider Vinegar: 1-2 tablespoons before meals\\nLifestyle Measures:\\nRegular exercise (30 minutes daily)\\nLow glycemic index foods\\nPortion control\\nStress management\\nRegular blood sugar monitoring\\n9. Gastroenteritis\\nHydration and Recovery:\\nOral Rehydration Solution: 1 tsp salt + 2 tbsp sugar in 1 liter water\\nBRAT Diet: Bananas, Rice, Applesauce, Toast\\nGinger Tea: For nausea relief\\nChamomile Tea: Anti-inflammatory\\nProbiotics:\\nPlain yogurt\\nKefir\\nFermented foods\\nProbiotic supplements\\n10. Bronchial Asthma\\nRespiratory Support:'),\n",
       " Document(metadata={'producer': 'Skia/PDF m137', 'creator': 'Mozilla/5.0 (Macintosh; Intel Mac OS X 10_15_7) AppleWebKit/537.36 (KHTML, like Gecko) Chrome/137.0.0.0 Safari/537.36', 'creationdate': '2025-07-01T09:04:33+00:00', 'title': 'Complete Home Remedies Guide for Common Health Conditions', 'moddate': '2025-07-01T09:04:33+00:00', 'source': 'Data/medical book.pdf', 'total_pages': 16, 'page': 4, 'page_label': '5'}, page_content='Steam Inhalation: With eucalyptus or peppermint oil\\nHoney: 1 tablespoon with warm water\\nGinger: Fresh ginger tea or juice\\nTurmeric: With warm milk before bed\\nEnvironmental Control:\\nRemove allergens and irritants\\nUse air purifiers\\nMaintain optimal humidity (30-50%)\\nRegular cleaning to reduce dust mites\\n11. Hypertension\\nNatural Blood Pressure Reducers:\\nGarlic: 2-3 cloves daily or supplements\\nHibiscus Tea: 2-3 cups daily\\nBeetroot Juice: 1 glass daily\\nCelery: 4 stalks daily or celery seed extract\\nLifestyle Modifications:\\nDASH diet (low sodium, high potassium)\\nRegular exercise\\nStress reduction techniques\\nLimit alcohol and caffeine\\nMaintain healthy weight\\n12. Migraine\\nNatural Pain Relief:\\nPeppermint Oil: Apply to temples (diluted)\\nLavender Oil: Inhale or apply to forehead\\nGinger: Fresh ginger tea or capsules\\nFeverfew: Herbal supplement\\nPrevention Strategies:\\nIdentify and avoid triggers\\nRegular sleep schedule'),\n",
       " Document(metadata={'producer': 'Skia/PDF m137', 'creator': 'Mozilla/5.0 (Macintosh; Intel Mac OS X 10_15_7) AppleWebKit/537.36 (KHTML, like Gecko) Chrome/137.0.0.0 Safari/537.36', 'creationdate': '2025-07-01T09:04:33+00:00', 'title': 'Complete Home Remedies Guide for Common Health Conditions', 'moddate': '2025-07-01T09:04:33+00:00', 'source': 'Data/medical book.pdf', 'total_pages': 16, 'page': 5, 'page_label': '6'}, page_content='Stay hydrated\\nMagnesium supplements\\nRiboflavin (Vitamin B2)\\n13. Cervical Spondylosis\\nNatural Pain Management:\\nHot/Cold Therapy: Alternate heat and ice packs\\nTurmeric: Anti-inflammatory properties\\nGinger: Natural pain reliever\\nEpsom Salt Baths: Muscle relaxation\\nExercises and Posture:\\nNeck stretches and strengthening exercises\\nProper posture maintenance\\nErgonomic workspace setup\\nRegular movement breaks\\n14. Paralysis (Brain Hemorrhage)\\nRecovery Support:\\nGinkgo Biloba: May improve circulation\\nTurmeric: Anti-inflammatory for brain health\\nOmega-3 Fatty Acids: Fish oil or flaxseed\\nMassage Therapy: Improve circulation\\nRehabilitation Support:\\nPhysical therapy exercises\\nSpeech therapy activities\\nOccupational therapy techniques\\nNutritional support for brain health\\n15. Jaundice\\nLiver Detox:\\nLemon Water: First thing in morning\\nSugarcane Juice: Fresh, 2-3 glasses daily'),\n",
       " Document(metadata={'producer': 'Skia/PDF m137', 'creator': 'Mozilla/5.0 (Macintosh; Intel Mac OS X 10_15_7) AppleWebKit/537.36 (KHTML, like Gecko) Chrome/137.0.0.0 Safari/537.36', 'creationdate': '2025-07-01T09:04:33+00:00', 'title': 'Complete Home Remedies Guide for Common Health Conditions', 'moddate': '2025-07-01T09:04:33+00:00', 'source': 'Data/medical book.pdf', 'total_pages': 16, 'page': 6, 'page_label': '7'}, page_content='Turmeric: With warm milk\\nDandelion Tea: 2-3 cups daily\\nDietary Guidelines:\\nLight, easily digestible foods\\nAvoid fatty and fried foods\\nIncrease water intake\\nFresh fruits and vegetables\\n16. Malaria\\nFever Management:\\nWillow Bark: Natural aspirin alternative\\nGinger: Anti-inflammatory and fever reducer\\nCold Compresses: For high fever\\nHydration: Plenty of fluids\\nPrevention:\\nNeem oil as natural mosquito repellent\\nKeep surroundings clean\\nUse mosquito nets\\nEliminate standing water\\n17. Chicken Pox\\nSymptom Relief:\\nOatmeal Baths: Soothing for itchy skin\\nCalamine Lotion: Traditional itch relief\\nHoney: Natural antiseptic for blisters\\nAloe Vera: Cooling and healing\\nCare Measures:\\nKeep fingernails short\\nWear loose, breathable clothing\\nStay hydrated\\nRest and isolation'),\n",
       " Document(metadata={'producer': 'Skia/PDF m137', 'creator': 'Mozilla/5.0 (Macintosh; Intel Mac OS X 10_15_7) AppleWebKit/537.36 (KHTML, like Gecko) Chrome/137.0.0.0 Safari/537.36', 'creationdate': '2025-07-01T09:04:33+00:00', 'title': 'Complete Home Remedies Guide for Common Health Conditions', 'moddate': '2025-07-01T09:04:33+00:00', 'source': 'Data/medical book.pdf', 'total_pages': 16, 'page': 7, 'page_label': '8'}, page_content='18. Dengue\\nFever and Pain Management:\\nPapaya Leaf Juice: May increase platelet count\\nCoconut Water: Electrolyte replacement\\nBarley Water: Hydration and nutrition\\nGiloy Juice: Immune system support\\nRecovery Support:\\nComplete bed rest\\nAdequate fluid intake\\nLight, nutritious diet\\nMonitor for warning signs\\n19. Typhoid\\nRecovery Support:\\nGarlic: Natural antibiotic properties\\nGinger: Digestive aid and anti-nausea\\nApple Cider Vinegar: May help with fever\\nHydration: Plenty of fluids\\nDietary Care:\\nLight, easily digestible foods\\nAvoid raw fruits and vegetables\\nBoiled or purified water only\\nGradual return to normal diet\\n20-24. Hepatitis A, B, C, D, E\\nLiver Support (All Types):\\nMilk Thistle: Liver protective\\nTurmeric: Anti-inflammatory\\nGreen Tea: Antioxidants\\nDandelion Root: Liver detox\\nUniversal Care:'),\n",
       " Document(metadata={'producer': 'Skia/PDF m137', 'creator': 'Mozilla/5.0 (Macintosh; Intel Mac OS X 10_15_7) AppleWebKit/537.36 (KHTML, like Gecko) Chrome/137.0.0.0 Safari/537.36', 'creationdate': '2025-07-01T09:04:33+00:00', 'title': 'Complete Home Remedies Guide for Common Health Conditions', 'moddate': '2025-07-01T09:04:33+00:00', 'source': 'Data/medical book.pdf', 'total_pages': 16, 'page': 8, 'page_label': '9'}, page_content='Complete rest\\nAvoid alcohol completely\\nLight, low-fat diet\\nAdequate hydration\\nAvoid hepatotoxic medications\\n25. Alcoholic Hepatitis\\nLiver Recovery:\\nComplete Alcohol Cessation: Essential first step\\nMilk Thistle: Liver regeneration support\\nN-Acetylcysteine: Liver detox support\\nB-Complex Vitamins: Replace deficiencies\\nNutritional Rehabilitation:\\nHigh-protein diet\\nThiamine supplementation\\nFolate and B12\\nAdequate calories for healing\\n26. Tuberculosis\\nImmune Support:\\nGarlic: Natural antimicrobial\\nTurmeric: Anti-inflammatory\\nGinger: Respiratory support\\nHoney: Antimicrobial and soothing\\nNutritional Support:\\nHigh-calorie, high-protein diet\\nVitamin D supplementation\\nFresh air and sunlight\\nComplete medication compliance\\n27. Common Cold\\nSymptom Relief:'),\n",
       " Document(metadata={'producer': 'Skia/PDF m137', 'creator': 'Mozilla/5.0 (Macintosh; Intel Mac OS X 10_15_7) AppleWebKit/537.36 (KHTML, like Gecko) Chrome/137.0.0.0 Safari/537.36', 'creationdate': '2025-07-01T09:04:33+00:00', 'title': 'Complete Home Remedies Guide for Common Health Conditions', 'moddate': '2025-07-01T09:04:33+00:00', 'source': 'Data/medical book.pdf', 'total_pages': 16, 'page': 9, 'page_label': '10'}, page_content='Honey and Ginger: Soothing for throat\\nSteam Inhalation: Clears nasal congestion\\nSaltwater Gargle: For sore throat\\nChicken Soup: Hydration and comfort\\nNatural Remedies:\\nEchinacea for immune support\\nVitamin C from citrus fruits\\nZinc lozenges\\nAdequate rest and sleep\\n28. Pneumonia\\nRespiratory Support:\\nSteam Inhalation: With eucalyptus oil\\nHoney: Antimicrobial properties\\nGinger Tea: Anti-inflammatory\\nGarlic: Natural antibiotic\\nRecovery Measures:\\nComplete rest\\nAdequate hydration\\nNutritious, easily digestible foods\\nBreathing exercises\\n29. Hemorrhoids (Piles)\\nTopical Relief:\\nWitch Hazel: Apply with cotton pad\\nAloe Vera: Cooling and healing\\nIce Packs: For acute pain and swelling\\nSitz Baths: Warm water for 15-20 minutes\\nDietary Changes:\\nHigh-fiber foods\\nAdequate water intake\\nAvoid straining during bowel movements'),\n",
       " Document(metadata={'producer': 'Skia/PDF m137', 'creator': 'Mozilla/5.0 (Macintosh; Intel Mac OS X 10_15_7) AppleWebKit/537.36 (KHTML, like Gecko) Chrome/137.0.0.0 Safari/537.36', 'creationdate': '2025-07-01T09:04:33+00:00', 'title': 'Complete Home Remedies Guide for Common Health Conditions', 'moddate': '2025-07-01T09:04:33+00:00', 'source': 'Data/medical book.pdf', 'total_pages': 16, 'page': 10, 'page_label': '11'}, page_content='Regular exercise\\n30. Heart Attack\\n⚠  Emergency Note: Call emergency services immediately for suspected heart attack. These are\\nsupportive measures only.\\nPost-Event Support:\\nHawthorn: Heart-strengthening herb\\nGarlic: Cardiovascular health\\nOmega-3 Fatty Acids: Heart protection\\nCoQ10: Heart muscle support\\nLifestyle Changes:\\nHeart-healthy diet\\nRegular supervised exercise\\nStress management\\nMedication compliance\\n31. Varicose Veins\\nCirculation Improvement:\\nHorse Chestnut Extract: Vein strength\\nGrape Seed Extract: Antioxidant support\\nElevation: Legs above heart level\\nCompression: Support stockings\\nLifestyle Measures:\\nRegular exercise\\nAvoid prolonged standing/sitting\\nMaintain healthy weight\\nAvoid tight clothing\\n32. Hypothyroidism\\nThyroid Support:\\nSeaweed: Natural iodine source\\nBrazil Nuts: Selenium content'),\n",
       " Document(metadata={'producer': 'Skia/PDF m137', 'creator': 'Mozilla/5.0 (Macintosh; Intel Mac OS X 10_15_7) AppleWebKit/537.36 (KHTML, like Gecko) Chrome/137.0.0.0 Safari/537.36', 'creationdate': '2025-07-01T09:04:33+00:00', 'title': 'Complete Home Remedies Guide for Common Health Conditions', 'moddate': '2025-07-01T09:04:33+00:00', 'source': 'Data/medical book.pdf', 'total_pages': 16, 'page': 11, 'page_label': '12'}, page_content='Coconut Oil: Metabolism support\\nAshwagandha: Adaptogenic herb\\nDietary Considerations:\\nAvoid goitrogenic foods in excess\\nEnsure adequate iodine intake\\nSupport with selenium and zinc\\nRegular exercise\\n33. Hyperthyroidism\\nNatural Calming:\\nLemon Balm: May reduce thyroid activity\\nBugleweed: Traditional thyroid herb\\nL-Carnitine: May reduce symptoms\\nStress Reduction: Meditation, yoga\\nDietary Support:\\nAvoid excessive iodine\\nInclude calcium-rich foods\\nLimit caffeine\\nAnti-inflammatory foods\\n34. Hypoglycemia\\nBlood Sugar Stabilization:\\nComplex Carbohydrates: Whole grains, legumes\\nProtein: With each meal and snack\\nChromium: Blood sugar regulation\\nCinnamon: May improve insulin sensitivity\\nLifestyle Management:\\nFrequent small meals\\nAvoid simple sugars\\nRegular meal timing\\nMonitor blood sugar levels'),\n",
       " Document(metadata={'producer': 'Skia/PDF m137', 'creator': 'Mozilla/5.0 (Macintosh; Intel Mac OS X 10_15_7) AppleWebKit/537.36 (KHTML, like Gecko) Chrome/137.0.0.0 Safari/537.36', 'creationdate': '2025-07-01T09:04:33+00:00', 'title': 'Complete Home Remedies Guide for Common Health Conditions', 'moddate': '2025-07-01T09:04:33+00:00', 'source': 'Data/medical book.pdf', 'total_pages': 16, 'page': 12, 'page_label': '13'}, page_content='35. Osteoarthritis\\nJoint Support:\\nTurmeric: Anti-inflammatory\\nGinger: Pain reduction\\nGlucosamine/Chondroitin: Joint health\\nOmega-3 Fatty Acids: Inflammation reduction\\nPhysical Therapy:\\nGentle exercise\\nHot/cold therapy\\nMassage therapy\\nWeight management\\n36. Arthritis\\nAnti-Inflammatory Remedies:\\nTart Cherry Juice: Natural anti-inflammatory\\nGreen Tea: Antioxidant properties\\nBoswellia: Traditional joint herb\\nMSM: Sulfur for joint health\\nPain Management:\\nEpsom salt baths\\nEssential oil massages\\nAcupuncture\\nStress reduction techniques\\n37. Vertigo (Paroxysmal Positional Vertigo)\\nBalance Support:\\nGinger: Reduces dizziness and nausea\\nGinkgo Biloba: Improves circulation\\nCanalith Repositioning: Epley maneuver\\nHydration: Maintain adequate fluid levels\\nLifestyle Adjustments:'),\n",
       " Document(metadata={'producer': 'Skia/PDF m137', 'creator': 'Mozilla/5.0 (Macintosh; Intel Mac OS X 10_15_7) AppleWebKit/537.36 (KHTML, like Gecko) Chrome/137.0.0.0 Safari/537.36', 'creationdate': '2025-07-01T09:04:33+00:00', 'title': 'Complete Home Remedies Guide for Common Health Conditions', 'moddate': '2025-07-01T09:04:33+00:00', 'source': 'Data/medical book.pdf', 'total_pages': 16, 'page': 13, 'page_label': '14'}, page_content=\"Avoid sudden head movements\\nSleep with head elevated\\nLimit alcohol and caffeine\\nPractice balance exercises\\n38. Acne\\nTopical Treatments:\\nTea Tree Oil: Diluted, antimicrobial\\nHoney Masks: Antibacterial properties\\nAloe Vera: Anti-inflammatory\\nGreen Tea: Antioxidant face wash\\nInternal Support:\\nZinc supplementation\\nOmega-3 fatty acids\\nProbiotics for gut health\\nReduce dairy and high-glycemic foods\\n39. Urinary Tract Infection\\nNatural Antibacterials:\\nCranberry Juice: Unsweetened, pure\\nD-Mannose: Sugar that may prevent bacteria adhesion\\nUva Ursi: Traditional urinary herb\\nGarlic: Natural antimicrobial\\nSupportive Care:\\nIncrease water intake significantly\\nAvoid irritants (alcohol, caffeine, spicy foods)\\nUrinate frequently, don't hold it\\nProbiotics to restore healthy bacteria\\n40. Psoriasis\\nSkin Healing:\\nAloe Vera: Anti-inflammatory gel\"),\n",
       " Document(metadata={'producer': 'Skia/PDF m137', 'creator': 'Mozilla/5.0 (Macintosh; Intel Mac OS X 10_15_7) AppleWebKit/537.36 (KHTML, like Gecko) Chrome/137.0.0.0 Safari/537.36', 'creationdate': '2025-07-01T09:04:33+00:00', 'title': 'Complete Home Remedies Guide for Common Health Conditions', 'moddate': '2025-07-01T09:04:33+00:00', 'source': 'Data/medical book.pdf', 'total_pages': 16, 'page': 14, 'page_label': '15'}, page_content=\"Dead Sea Salt Baths: Exfoliation and healing\\nTurmeric Paste: Anti-inflammatory\\nCoconut Oil: Moisturizing and antimicrobial\\nInternal Support:\\nOmega-3 fatty acids\\nVitamin D supplementation\\nAnti-inflammatory diet\\nStress management techniques\\n41. Impetigo\\nTopical Care:\\nHoney: Natural antimicrobial\\nTea Tree Oil: Diluted, antibacterial\\nWarm Compresses: Gentle cleansing\\nSaltwater Solution: Natural antiseptic\\nPrevention:\\nKeep affected areas clean and dry\\nAvoid touching or scratching\\nWash hands frequently\\nDon't share personal items\\nGeneral Wellness Guidelines\\nUniversal Health Principles:\\nMaintain a balanced, nutritious diet\\nStay adequately hydrated\\nGet regular exercise appropriate for your condition\\nPrioritize quality sleep\\nManage stress through relaxation techniques\\nAvoid smoking and limit alcohol consumption\\nRegular health check-ups and monitoring\\nWhen to Seek Professional Help:\"),\n",
       " Document(metadata={'producer': 'Skia/PDF m137', 'creator': 'Mozilla/5.0 (Macintosh; Intel Mac OS X 10_15_7) AppleWebKit/537.36 (KHTML, like Gecko) Chrome/137.0.0.0 Safari/537.36', 'creationdate': '2025-07-01T09:04:33+00:00', 'title': 'Complete Home Remedies Guide for Common Health Conditions', 'moddate': '2025-07-01T09:04:33+00:00', 'source': 'Data/medical book.pdf', 'total_pages': 16, 'page': 15, 'page_label': '16'}, page_content=\"Symptoms worsen or don't improve\\nHigh fever, severe pain, or breathing difficulties\\nSigns of dehydration or serious complications\\nAny condition requiring prescription medication\\nEmergency symptoms (chest pain, severe headache, etc.)\\nRemember: These remedies are meant to support conventional treatment, not replace it. Always work\\nwith healthcare providers for proper diagnosis and treatment plans.\")]"
      ]
     },
     "execution_count": 10,
     "metadata": {},
     "output_type": "execute_result"
    }
   ],
   "source": [
    "extracted_data"
   ]
  },
  {
   "cell_type": "code",
   "execution_count": 11,
   "id": "ce502410",
   "metadata": {},
   "outputs": [],
   "source": [
    "from typing import List\n",
    "from langchain.schema import Document\n",
    "\n",
    "def filter_to_minimal_docs(docs: List[Document]) -> List[Document]:\n",
    "    \"\"\"\n",
    "    Given a list of Document objects, return a new list of Document objects\n",
    "    containing only 'source' in metadata and the original page_content.\n",
    "    \"\"\"\n",
    "    minimal_docs: List[Document] = []\n",
    "    for doc in docs:\n",
    "        src = doc.metadata.get(\"source\")\n",
    "        minimal_docs.append(\n",
    "            Document(\n",
    "                page_content=doc.page_content,\n",
    "                metadata={\"source\": src}\n",
    "            )\n",
    "        )\n",
    "    return minimal_docs"
   ]
  },
  {
   "cell_type": "code",
   "execution_count": 12,
   "id": "9630dcce",
   "metadata": {},
   "outputs": [],
   "source": [
    "minimal_docs = filter_to_minimal_docs(extracted_data)"
   ]
  },
  {
   "cell_type": "code",
   "execution_count": 13,
   "id": "8bbf5b8b",
   "metadata": {},
   "outputs": [
    {
     "data": {
      "text/plain": [
       "[Document(metadata={'source': 'Data/medical book.pdf'}, page_content='Complete Home Remedies Guide for Common Health Conditions\\n⚠  Important Disclaimer: These home remedies are for informational purposes only and should not\\nreplace professional medical treatment. Always consult healthcare providers for proper diagnosis and\\ntreatment, especially for serious conditions.\\n1. Fungal Infection\\nTopical Remedies:\\nTea Tree Oil: Dilute 2-3 drops in coconut oil, apply twice daily\\nApple Cider Vinegar: Mix equal parts with water, apply with cotton ball\\nGarlic Paste: Crush fresh garlic, apply for 10-15 minutes\\nTurmeric Paste: Mix turmeric powder with water or coconut oil\\nYogurt: Apply plain, unsweetened yogurt to affected areas\\nDietary Support:\\nIncrease probiotic foods (yogurt, kefir, fermented vegetables)\\nReduce sugar and refined carbohydrates\\nAdd antifungal foods: oregano, coconut oil, ginger\\n2. Allergy\\nNatural Antihistamines:\\nQuercetin: Found in onions, apples, berries - natural antihistamine\\nLocal Honey: 1 tablespoon daily to build immunity to local pollens\\nNettle Tea: 2-3 cups daily during allergy season\\nButterbur Extract: Follow package instructions\\nEnvironmental Management:\\nUse HEPA air filters\\nKeep windows closed during high pollen days\\nShower after outdoor activities\\nWash bedding in hot water weekly\\nNasal Relief:\\nSaline nasal rinse using neti pot\\nSteam inhalation with eucalyptus oil'),\n",
       " Document(metadata={'source': 'Data/medical book.pdf'}, page_content=\"Cold compress over sinuses\\n3. GERD (Gastroesophageal Reflux Disease)\\nImmediate Relief:\\nBaking Soda: 1/2 teaspoon in water (use sparingly)\\nAloe Vera Juice: 1/4 cup before meals\\nGinger Tea: Fresh ginger steeped in hot water\\nChamomile Tea: 30 minutes before meals\\nLifestyle Modifications:\\nEat smaller, frequent meals\\nAvoid trigger foods (spicy, fatty, acidic)\\nSleep with head elevated 6-8 inches\\nDon't eat 3 hours before bedtime\\nMaintain healthy weight\\nNatural Remedies:\\nChew gum after meals to increase saliva production\\nApple cider vinegar: 1 tablespoon in water before meals\\nSlippery elm bark tea\\n4. Chronic Cholestasis\\nLiver Support:\\nMilk Thistle: 200-400mg daily\\nDandelion Root Tea: 2-3 cups daily\\nTurmeric: 1 teaspoon with black pepper in warm milk\\nLemon Water: First thing in morning\\nDietary Recommendations:\\nIncrease fiber intake\\nEat bitter greens (arugula, dandelion, endive)\\nAvoid alcohol and processed foods\\nInclude healthy fats (olive oil, avocado)\\n5. Drug Reaction\"),\n",
       " Document(metadata={'source': 'Data/medical book.pdf'}, page_content='Immediate Care:\\nDiscontinue suspected medication (consult doctor first)\\nActivated Charcoal: If recently ingested (medical supervision)\\nCool Compresses: For skin reactions\\nOatmeal Baths: For widespread skin irritation\\nNatural Detox Support:\\nDrink plenty of water\\nGreen tea for antioxidants\\nCilantro and parsley for natural detox\\nProbiotics to restore gut health\\n6. Peptic Ulcer Disease\\nHealing Remedies:\\nCabbage Juice: 1/2 cup twice daily\\nHoney: 1 tablespoon on empty stomach\\nLicorice Root: DGL (deglycyrrhizinated) supplements\\nAloe Vera Gel: 2 tablespoons before meals\\nDietary Guidelines:\\nAvoid NSAIDs, alcohol, and smoking\\nEat smaller, frequent meals\\nInclude probiotics\\nAvoid spicy, acidic foods during flare-ups\\nIncrease fiber gradually\\n7. AIDS\\nImmune System Support:\\nElderberry: Natural immune booster\\nEchinacea: Short-term immune support\\nAstragalus: Adaptogenic herb for immunity\\nVitamin C: High doses from natural sources\\nNutritional Support:'),\n",
       " Document(metadata={'source': 'Data/medical book.pdf'}, page_content='High-protein, nutrient-dense foods\\nOmega-3 fatty acids\\nZinc-rich foods\\nAvoid raw or undercooked foods\\n8. Diabetes\\nBlood Sugar Management:\\nCinnamon: 1-2 teaspoons daily\\nBitter Melon: Juice or cooked vegetable\\nFenugreek Seeds: Soak overnight, drink water in morning\\nApple Cider Vinegar: 1-2 tablespoons before meals\\nLifestyle Measures:\\nRegular exercise (30 minutes daily)\\nLow glycemic index foods\\nPortion control\\nStress management\\nRegular blood sugar monitoring\\n9. Gastroenteritis\\nHydration and Recovery:\\nOral Rehydration Solution: 1 tsp salt + 2 tbsp sugar in 1 liter water\\nBRAT Diet: Bananas, Rice, Applesauce, Toast\\nGinger Tea: For nausea relief\\nChamomile Tea: Anti-inflammatory\\nProbiotics:\\nPlain yogurt\\nKefir\\nFermented foods\\nProbiotic supplements\\n10. Bronchial Asthma\\nRespiratory Support:'),\n",
       " Document(metadata={'source': 'Data/medical book.pdf'}, page_content='Steam Inhalation: With eucalyptus or peppermint oil\\nHoney: 1 tablespoon with warm water\\nGinger: Fresh ginger tea or juice\\nTurmeric: With warm milk before bed\\nEnvironmental Control:\\nRemove allergens and irritants\\nUse air purifiers\\nMaintain optimal humidity (30-50%)\\nRegular cleaning to reduce dust mites\\n11. Hypertension\\nNatural Blood Pressure Reducers:\\nGarlic: 2-3 cloves daily or supplements\\nHibiscus Tea: 2-3 cups daily\\nBeetroot Juice: 1 glass daily\\nCelery: 4 stalks daily or celery seed extract\\nLifestyle Modifications:\\nDASH diet (low sodium, high potassium)\\nRegular exercise\\nStress reduction techniques\\nLimit alcohol and caffeine\\nMaintain healthy weight\\n12. Migraine\\nNatural Pain Relief:\\nPeppermint Oil: Apply to temples (diluted)\\nLavender Oil: Inhale or apply to forehead\\nGinger: Fresh ginger tea or capsules\\nFeverfew: Herbal supplement\\nPrevention Strategies:\\nIdentify and avoid triggers\\nRegular sleep schedule'),\n",
       " Document(metadata={'source': 'Data/medical book.pdf'}, page_content='Stay hydrated\\nMagnesium supplements\\nRiboflavin (Vitamin B2)\\n13. Cervical Spondylosis\\nNatural Pain Management:\\nHot/Cold Therapy: Alternate heat and ice packs\\nTurmeric: Anti-inflammatory properties\\nGinger: Natural pain reliever\\nEpsom Salt Baths: Muscle relaxation\\nExercises and Posture:\\nNeck stretches and strengthening exercises\\nProper posture maintenance\\nErgonomic workspace setup\\nRegular movement breaks\\n14. Paralysis (Brain Hemorrhage)\\nRecovery Support:\\nGinkgo Biloba: May improve circulation\\nTurmeric: Anti-inflammatory for brain health\\nOmega-3 Fatty Acids: Fish oil or flaxseed\\nMassage Therapy: Improve circulation\\nRehabilitation Support:\\nPhysical therapy exercises\\nSpeech therapy activities\\nOccupational therapy techniques\\nNutritional support for brain health\\n15. Jaundice\\nLiver Detox:\\nLemon Water: First thing in morning\\nSugarcane Juice: Fresh, 2-3 glasses daily'),\n",
       " Document(metadata={'source': 'Data/medical book.pdf'}, page_content='Turmeric: With warm milk\\nDandelion Tea: 2-3 cups daily\\nDietary Guidelines:\\nLight, easily digestible foods\\nAvoid fatty and fried foods\\nIncrease water intake\\nFresh fruits and vegetables\\n16. Malaria\\nFever Management:\\nWillow Bark: Natural aspirin alternative\\nGinger: Anti-inflammatory and fever reducer\\nCold Compresses: For high fever\\nHydration: Plenty of fluids\\nPrevention:\\nNeem oil as natural mosquito repellent\\nKeep surroundings clean\\nUse mosquito nets\\nEliminate standing water\\n17. Chicken Pox\\nSymptom Relief:\\nOatmeal Baths: Soothing for itchy skin\\nCalamine Lotion: Traditional itch relief\\nHoney: Natural antiseptic for blisters\\nAloe Vera: Cooling and healing\\nCare Measures:\\nKeep fingernails short\\nWear loose, breathable clothing\\nStay hydrated\\nRest and isolation'),\n",
       " Document(metadata={'source': 'Data/medical book.pdf'}, page_content='18. Dengue\\nFever and Pain Management:\\nPapaya Leaf Juice: May increase platelet count\\nCoconut Water: Electrolyte replacement\\nBarley Water: Hydration and nutrition\\nGiloy Juice: Immune system support\\nRecovery Support:\\nComplete bed rest\\nAdequate fluid intake\\nLight, nutritious diet\\nMonitor for warning signs\\n19. Typhoid\\nRecovery Support:\\nGarlic: Natural antibiotic properties\\nGinger: Digestive aid and anti-nausea\\nApple Cider Vinegar: May help with fever\\nHydration: Plenty of fluids\\nDietary Care:\\nLight, easily digestible foods\\nAvoid raw fruits and vegetables\\nBoiled or purified water only\\nGradual return to normal diet\\n20-24. Hepatitis A, B, C, D, E\\nLiver Support (All Types):\\nMilk Thistle: Liver protective\\nTurmeric: Anti-inflammatory\\nGreen Tea: Antioxidants\\nDandelion Root: Liver detox\\nUniversal Care:'),\n",
       " Document(metadata={'source': 'Data/medical book.pdf'}, page_content='Complete rest\\nAvoid alcohol completely\\nLight, low-fat diet\\nAdequate hydration\\nAvoid hepatotoxic medications\\n25. Alcoholic Hepatitis\\nLiver Recovery:\\nComplete Alcohol Cessation: Essential first step\\nMilk Thistle: Liver regeneration support\\nN-Acetylcysteine: Liver detox support\\nB-Complex Vitamins: Replace deficiencies\\nNutritional Rehabilitation:\\nHigh-protein diet\\nThiamine supplementation\\nFolate and B12\\nAdequate calories for healing\\n26. Tuberculosis\\nImmune Support:\\nGarlic: Natural antimicrobial\\nTurmeric: Anti-inflammatory\\nGinger: Respiratory support\\nHoney: Antimicrobial and soothing\\nNutritional Support:\\nHigh-calorie, high-protein diet\\nVitamin D supplementation\\nFresh air and sunlight\\nComplete medication compliance\\n27. Common Cold\\nSymptom Relief:'),\n",
       " Document(metadata={'source': 'Data/medical book.pdf'}, page_content='Honey and Ginger: Soothing for throat\\nSteam Inhalation: Clears nasal congestion\\nSaltwater Gargle: For sore throat\\nChicken Soup: Hydration and comfort\\nNatural Remedies:\\nEchinacea for immune support\\nVitamin C from citrus fruits\\nZinc lozenges\\nAdequate rest and sleep\\n28. Pneumonia\\nRespiratory Support:\\nSteam Inhalation: With eucalyptus oil\\nHoney: Antimicrobial properties\\nGinger Tea: Anti-inflammatory\\nGarlic: Natural antibiotic\\nRecovery Measures:\\nComplete rest\\nAdequate hydration\\nNutritious, easily digestible foods\\nBreathing exercises\\n29. Hemorrhoids (Piles)\\nTopical Relief:\\nWitch Hazel: Apply with cotton pad\\nAloe Vera: Cooling and healing\\nIce Packs: For acute pain and swelling\\nSitz Baths: Warm water for 15-20 minutes\\nDietary Changes:\\nHigh-fiber foods\\nAdequate water intake\\nAvoid straining during bowel movements'),\n",
       " Document(metadata={'source': 'Data/medical book.pdf'}, page_content='Regular exercise\\n30. Heart Attack\\n⚠  Emergency Note: Call emergency services immediately for suspected heart attack. These are\\nsupportive measures only.\\nPost-Event Support:\\nHawthorn: Heart-strengthening herb\\nGarlic: Cardiovascular health\\nOmega-3 Fatty Acids: Heart protection\\nCoQ10: Heart muscle support\\nLifestyle Changes:\\nHeart-healthy diet\\nRegular supervised exercise\\nStress management\\nMedication compliance\\n31. Varicose Veins\\nCirculation Improvement:\\nHorse Chestnut Extract: Vein strength\\nGrape Seed Extract: Antioxidant support\\nElevation: Legs above heart level\\nCompression: Support stockings\\nLifestyle Measures:\\nRegular exercise\\nAvoid prolonged standing/sitting\\nMaintain healthy weight\\nAvoid tight clothing\\n32. Hypothyroidism\\nThyroid Support:\\nSeaweed: Natural iodine source\\nBrazil Nuts: Selenium content'),\n",
       " Document(metadata={'source': 'Data/medical book.pdf'}, page_content='Coconut Oil: Metabolism support\\nAshwagandha: Adaptogenic herb\\nDietary Considerations:\\nAvoid goitrogenic foods in excess\\nEnsure adequate iodine intake\\nSupport with selenium and zinc\\nRegular exercise\\n33. Hyperthyroidism\\nNatural Calming:\\nLemon Balm: May reduce thyroid activity\\nBugleweed: Traditional thyroid herb\\nL-Carnitine: May reduce symptoms\\nStress Reduction: Meditation, yoga\\nDietary Support:\\nAvoid excessive iodine\\nInclude calcium-rich foods\\nLimit caffeine\\nAnti-inflammatory foods\\n34. Hypoglycemia\\nBlood Sugar Stabilization:\\nComplex Carbohydrates: Whole grains, legumes\\nProtein: With each meal and snack\\nChromium: Blood sugar regulation\\nCinnamon: May improve insulin sensitivity\\nLifestyle Management:\\nFrequent small meals\\nAvoid simple sugars\\nRegular meal timing\\nMonitor blood sugar levels'),\n",
       " Document(metadata={'source': 'Data/medical book.pdf'}, page_content='35. Osteoarthritis\\nJoint Support:\\nTurmeric: Anti-inflammatory\\nGinger: Pain reduction\\nGlucosamine/Chondroitin: Joint health\\nOmega-3 Fatty Acids: Inflammation reduction\\nPhysical Therapy:\\nGentle exercise\\nHot/cold therapy\\nMassage therapy\\nWeight management\\n36. Arthritis\\nAnti-Inflammatory Remedies:\\nTart Cherry Juice: Natural anti-inflammatory\\nGreen Tea: Antioxidant properties\\nBoswellia: Traditional joint herb\\nMSM: Sulfur for joint health\\nPain Management:\\nEpsom salt baths\\nEssential oil massages\\nAcupuncture\\nStress reduction techniques\\n37. Vertigo (Paroxysmal Positional Vertigo)\\nBalance Support:\\nGinger: Reduces dizziness and nausea\\nGinkgo Biloba: Improves circulation\\nCanalith Repositioning: Epley maneuver\\nHydration: Maintain adequate fluid levels\\nLifestyle Adjustments:'),\n",
       " Document(metadata={'source': 'Data/medical book.pdf'}, page_content=\"Avoid sudden head movements\\nSleep with head elevated\\nLimit alcohol and caffeine\\nPractice balance exercises\\n38. Acne\\nTopical Treatments:\\nTea Tree Oil: Diluted, antimicrobial\\nHoney Masks: Antibacterial properties\\nAloe Vera: Anti-inflammatory\\nGreen Tea: Antioxidant face wash\\nInternal Support:\\nZinc supplementation\\nOmega-3 fatty acids\\nProbiotics for gut health\\nReduce dairy and high-glycemic foods\\n39. Urinary Tract Infection\\nNatural Antibacterials:\\nCranberry Juice: Unsweetened, pure\\nD-Mannose: Sugar that may prevent bacteria adhesion\\nUva Ursi: Traditional urinary herb\\nGarlic: Natural antimicrobial\\nSupportive Care:\\nIncrease water intake significantly\\nAvoid irritants (alcohol, caffeine, spicy foods)\\nUrinate frequently, don't hold it\\nProbiotics to restore healthy bacteria\\n40. Psoriasis\\nSkin Healing:\\nAloe Vera: Anti-inflammatory gel\"),\n",
       " Document(metadata={'source': 'Data/medical book.pdf'}, page_content=\"Dead Sea Salt Baths: Exfoliation and healing\\nTurmeric Paste: Anti-inflammatory\\nCoconut Oil: Moisturizing and antimicrobial\\nInternal Support:\\nOmega-3 fatty acids\\nVitamin D supplementation\\nAnti-inflammatory diet\\nStress management techniques\\n41. Impetigo\\nTopical Care:\\nHoney: Natural antimicrobial\\nTea Tree Oil: Diluted, antibacterial\\nWarm Compresses: Gentle cleansing\\nSaltwater Solution: Natural antiseptic\\nPrevention:\\nKeep affected areas clean and dry\\nAvoid touching or scratching\\nWash hands frequently\\nDon't share personal items\\nGeneral Wellness Guidelines\\nUniversal Health Principles:\\nMaintain a balanced, nutritious diet\\nStay adequately hydrated\\nGet regular exercise appropriate for your condition\\nPrioritize quality sleep\\nManage stress through relaxation techniques\\nAvoid smoking and limit alcohol consumption\\nRegular health check-ups and monitoring\\nWhen to Seek Professional Help:\"),\n",
       " Document(metadata={'source': 'Data/medical book.pdf'}, page_content=\"Symptoms worsen or don't improve\\nHigh fever, severe pain, or breathing difficulties\\nSigns of dehydration or serious complications\\nAny condition requiring prescription medication\\nEmergency symptoms (chest pain, severe headache, etc.)\\nRemember: These remedies are meant to support conventional treatment, not replace it. Always work\\nwith healthcare providers for proper diagnosis and treatment plans.\")]"
      ]
     },
     "execution_count": 13,
     "metadata": {},
     "output_type": "execute_result"
    }
   ],
   "source": [
    "minimal_docs"
   ]
  },
  {
   "cell_type": "code",
   "execution_count": 14,
   "id": "36e6cbb4",
   "metadata": {},
   "outputs": [],
   "source": [
    "#Split the Data into Text Chunks\n",
    "def text_split(minimal_docs):\n",
    "    text_splitter=RecursiveCharacterTextSplitter(chunk_size=350, chunk_overlap=20)\n",
    "    text_chunks=text_splitter.split_documents(minimal_docs)\n",
    "    return text_chunks"
   ]
  },
  {
   "cell_type": "code",
   "execution_count": 15,
   "id": "f33770bb",
   "metadata": {},
   "outputs": [
    {
     "name": "stdout",
     "output_type": "stream",
     "text": [
      "Length of Text Chunks 49\n"
     ]
    }
   ],
   "source": [
    "text_chunks=text_split(minimal_docs)\n",
    "print(\"Length of Text Chunks\", len(text_chunks))"
   ]
  },
  {
   "cell_type": "code",
   "execution_count": 16,
   "id": "8fb02eb6",
   "metadata": {},
   "outputs": [
    {
     "data": {
      "text/plain": [
       "[Document(metadata={'source': 'Data/medical book.pdf'}, page_content='Complete Home Remedies Guide for Common Health Conditions\\n⚠  Important Disclaimer: These home remedies are for informational purposes only and should not\\nreplace professional medical treatment. Always consult healthcare providers for proper diagnosis and\\ntreatment, especially for serious conditions.\\n1. Fungal Infection\\nTopical Remedies:'),\n",
       " Document(metadata={'source': 'Data/medical book.pdf'}, page_content='Topical Remedies:\\nTea Tree Oil: Dilute 2-3 drops in coconut oil, apply twice daily\\nApple Cider Vinegar: Mix equal parts with water, apply with cotton ball\\nGarlic Paste: Crush fresh garlic, apply for 10-15 minutes\\nTurmeric Paste: Mix turmeric powder with water or coconut oil\\nYogurt: Apply plain, unsweetened yogurt to affected areas\\nDietary Support:'),\n",
       " Document(metadata={'source': 'Data/medical book.pdf'}, page_content='Dietary Support:\\nIncrease probiotic foods (yogurt, kefir, fermented vegetables)\\nReduce sugar and refined carbohydrates\\nAdd antifungal foods: oregano, coconut oil, ginger\\n2. Allergy\\nNatural Antihistamines:\\nQuercetin: Found in onions, apples, berries - natural antihistamine\\nLocal Honey: 1 tablespoon daily to build immunity to local pollens'),\n",
       " Document(metadata={'source': 'Data/medical book.pdf'}, page_content='Nettle Tea: 2-3 cups daily during allergy season\\nButterbur Extract: Follow package instructions\\nEnvironmental Management:\\nUse HEPA air filters\\nKeep windows closed during high pollen days\\nShower after outdoor activities\\nWash bedding in hot water weekly\\nNasal Relief:\\nSaline nasal rinse using neti pot\\nSteam inhalation with eucalyptus oil'),\n",
       " Document(metadata={'source': 'Data/medical book.pdf'}, page_content='Cold compress over sinuses\\n3. GERD (Gastroesophageal Reflux Disease)\\nImmediate Relief:\\nBaking Soda: 1/2 teaspoon in water (use sparingly)\\nAloe Vera Juice: 1/4 cup before meals\\nGinger Tea: Fresh ginger steeped in hot water\\nChamomile Tea: 30 minutes before meals\\nLifestyle Modifications:\\nEat smaller, frequent meals'),\n",
       " Document(metadata={'source': 'Data/medical book.pdf'}, page_content=\"Avoid trigger foods (spicy, fatty, acidic)\\nSleep with head elevated 6-8 inches\\nDon't eat 3 hours before bedtime\\nMaintain healthy weight\\nNatural Remedies:\\nChew gum after meals to increase saliva production\\nApple cider vinegar: 1 tablespoon in water before meals\\nSlippery elm bark tea\\n4. Chronic Cholestasis\\nLiver Support:\"),\n",
       " Document(metadata={'source': 'Data/medical book.pdf'}, page_content='Liver Support:\\nMilk Thistle: 200-400mg daily\\nDandelion Root Tea: 2-3 cups daily\\nTurmeric: 1 teaspoon with black pepper in warm milk\\nLemon Water: First thing in morning\\nDietary Recommendations:\\nIncrease fiber intake\\nEat bitter greens (arugula, dandelion, endive)\\nAvoid alcohol and processed foods\\nInclude healthy fats (olive oil, avocado)'),\n",
       " Document(metadata={'source': 'Data/medical book.pdf'}, page_content='5. Drug Reaction'),\n",
       " Document(metadata={'source': 'Data/medical book.pdf'}, page_content='Immediate Care:\\nDiscontinue suspected medication (consult doctor first)\\nActivated Charcoal: If recently ingested (medical supervision)\\nCool Compresses: For skin reactions\\nOatmeal Baths: For widespread skin irritation\\nNatural Detox Support:\\nDrink plenty of water\\nGreen tea for antioxidants\\nCilantro and parsley for natural detox'),\n",
       " Document(metadata={'source': 'Data/medical book.pdf'}, page_content='Probiotics to restore gut health\\n6. Peptic Ulcer Disease\\nHealing Remedies:\\nCabbage Juice: 1/2 cup twice daily\\nHoney: 1 tablespoon on empty stomach\\nLicorice Root: DGL (deglycyrrhizinated) supplements\\nAloe Vera Gel: 2 tablespoons before meals\\nDietary Guidelines:\\nAvoid NSAIDs, alcohol, and smoking\\nEat smaller, frequent meals\\nInclude probiotics'),\n",
       " Document(metadata={'source': 'Data/medical book.pdf'}, page_content='Include probiotics\\nAvoid spicy, acidic foods during flare-ups\\nIncrease fiber gradually\\n7. AIDS\\nImmune System Support:\\nElderberry: Natural immune booster\\nEchinacea: Short-term immune support\\nAstragalus: Adaptogenic herb for immunity\\nVitamin C: High doses from natural sources\\nNutritional Support:'),\n",
       " Document(metadata={'source': 'Data/medical book.pdf'}, page_content='High-protein, nutrient-dense foods\\nOmega-3 fatty acids\\nZinc-rich foods\\nAvoid raw or undercooked foods\\n8. Diabetes\\nBlood Sugar Management:\\nCinnamon: 1-2 teaspoons daily\\nBitter Melon: Juice or cooked vegetable\\nFenugreek Seeds: Soak overnight, drink water in morning\\nApple Cider Vinegar: 1-2 tablespoons before meals\\nLifestyle Measures:'),\n",
       " Document(metadata={'source': 'Data/medical book.pdf'}, page_content='Lifestyle Measures:\\nRegular exercise (30 minutes daily)\\nLow glycemic index foods\\nPortion control\\nStress management\\nRegular blood sugar monitoring\\n9. Gastroenteritis\\nHydration and Recovery:\\nOral Rehydration Solution: 1 tsp salt + 2 tbsp sugar in 1 liter water\\nBRAT Diet: Bananas, Rice, Applesauce, Toast\\nGinger Tea: For nausea relief'),\n",
       " Document(metadata={'source': 'Data/medical book.pdf'}, page_content='Chamomile Tea: Anti-inflammatory\\nProbiotics:\\nPlain yogurt\\nKefir\\nFermented foods\\nProbiotic supplements\\n10. Bronchial Asthma\\nRespiratory Support:'),\n",
       " Document(metadata={'source': 'Data/medical book.pdf'}, page_content='Steam Inhalation: With eucalyptus or peppermint oil\\nHoney: 1 tablespoon with warm water\\nGinger: Fresh ginger tea or juice\\nTurmeric: With warm milk before bed\\nEnvironmental Control:\\nRemove allergens and irritants\\nUse air purifiers\\nMaintain optimal humidity (30-50%)\\nRegular cleaning to reduce dust mites\\n11. Hypertension'),\n",
       " Document(metadata={'source': 'Data/medical book.pdf'}, page_content='11. Hypertension\\nNatural Blood Pressure Reducers:\\nGarlic: 2-3 cloves daily or supplements\\nHibiscus Tea: 2-3 cups daily\\nBeetroot Juice: 1 glass daily\\nCelery: 4 stalks daily or celery seed extract\\nLifestyle Modifications:\\nDASH diet (low sodium, high potassium)\\nRegular exercise\\nStress reduction techniques\\nLimit alcohol and caffeine'),\n",
       " Document(metadata={'source': 'Data/medical book.pdf'}, page_content='Maintain healthy weight\\n12. Migraine\\nNatural Pain Relief:\\nPeppermint Oil: Apply to temples (diluted)\\nLavender Oil: Inhale or apply to forehead\\nGinger: Fresh ginger tea or capsules\\nFeverfew: Herbal supplement\\nPrevention Strategies:\\nIdentify and avoid triggers\\nRegular sleep schedule'),\n",
       " Document(metadata={'source': 'Data/medical book.pdf'}, page_content='Stay hydrated\\nMagnesium supplements\\nRiboflavin (Vitamin B2)\\n13. Cervical Spondylosis\\nNatural Pain Management:\\nHot/Cold Therapy: Alternate heat and ice packs\\nTurmeric: Anti-inflammatory properties\\nGinger: Natural pain reliever\\nEpsom Salt Baths: Muscle relaxation\\nExercises and Posture:\\nNeck stretches and strengthening exercises'),\n",
       " Document(metadata={'source': 'Data/medical book.pdf'}, page_content='Proper posture maintenance\\nErgonomic workspace setup\\nRegular movement breaks\\n14. Paralysis (Brain Hemorrhage)\\nRecovery Support:\\nGinkgo Biloba: May improve circulation\\nTurmeric: Anti-inflammatory for brain health\\nOmega-3 Fatty Acids: Fish oil or flaxseed\\nMassage Therapy: Improve circulation\\nRehabilitation Support:\\nPhysical therapy exercises'),\n",
       " Document(metadata={'source': 'Data/medical book.pdf'}, page_content='Speech therapy activities\\nOccupational therapy techniques\\nNutritional support for brain health\\n15. Jaundice\\nLiver Detox:\\nLemon Water: First thing in morning\\nSugarcane Juice: Fresh, 2-3 glasses daily'),\n",
       " Document(metadata={'source': 'Data/medical book.pdf'}, page_content='Turmeric: With warm milk\\nDandelion Tea: 2-3 cups daily\\nDietary Guidelines:\\nLight, easily digestible foods\\nAvoid fatty and fried foods\\nIncrease water intake\\nFresh fruits and vegetables\\n16. Malaria\\nFever Management:\\nWillow Bark: Natural aspirin alternative\\nGinger: Anti-inflammatory and fever reducer\\nCold Compresses: For high fever'),\n",
       " Document(metadata={'source': 'Data/medical book.pdf'}, page_content='Hydration: Plenty of fluids\\nPrevention:\\nNeem oil as natural mosquito repellent\\nKeep surroundings clean\\nUse mosquito nets\\nEliminate standing water\\n17. Chicken Pox\\nSymptom Relief:\\nOatmeal Baths: Soothing for itchy skin\\nCalamine Lotion: Traditional itch relief\\nHoney: Natural antiseptic for blisters\\nAloe Vera: Cooling and healing\\nCare Measures:'),\n",
       " Document(metadata={'source': 'Data/medical book.pdf'}, page_content='Care Measures:\\nKeep fingernails short\\nWear loose, breathable clothing\\nStay hydrated\\nRest and isolation'),\n",
       " Document(metadata={'source': 'Data/medical book.pdf'}, page_content='18. Dengue\\nFever and Pain Management:\\nPapaya Leaf Juice: May increase platelet count\\nCoconut Water: Electrolyte replacement\\nBarley Water: Hydration and nutrition\\nGiloy Juice: Immune system support\\nRecovery Support:\\nComplete bed rest\\nAdequate fluid intake\\nLight, nutritious diet\\nMonitor for warning signs\\n19. Typhoid\\nRecovery Support:'),\n",
       " Document(metadata={'source': 'Data/medical book.pdf'}, page_content='Recovery Support:\\nGarlic: Natural antibiotic properties\\nGinger: Digestive aid and anti-nausea\\nApple Cider Vinegar: May help with fever\\nHydration: Plenty of fluids\\nDietary Care:\\nLight, easily digestible foods\\nAvoid raw fruits and vegetables\\nBoiled or purified water only\\nGradual return to normal diet\\n20-24. Hepatitis A, B, C, D, E'),\n",
       " Document(metadata={'source': 'Data/medical book.pdf'}, page_content='Liver Support (All Types):\\nMilk Thistle: Liver protective\\nTurmeric: Anti-inflammatory\\nGreen Tea: Antioxidants\\nDandelion Root: Liver detox\\nUniversal Care:'),\n",
       " Document(metadata={'source': 'Data/medical book.pdf'}, page_content='Complete rest\\nAvoid alcohol completely\\nLight, low-fat diet\\nAdequate hydration\\nAvoid hepatotoxic medications\\n25. Alcoholic Hepatitis\\nLiver Recovery:\\nComplete Alcohol Cessation: Essential first step\\nMilk Thistle: Liver regeneration support\\nN-Acetylcysteine: Liver detox support\\nB-Complex Vitamins: Replace deficiencies\\nNutritional Rehabilitation:'),\n",
       " Document(metadata={'source': 'Data/medical book.pdf'}, page_content='High-protein diet\\nThiamine supplementation\\nFolate and B12\\nAdequate calories for healing\\n26. Tuberculosis\\nImmune Support:\\nGarlic: Natural antimicrobial\\nTurmeric: Anti-inflammatory\\nGinger: Respiratory support\\nHoney: Antimicrobial and soothing\\nNutritional Support:\\nHigh-calorie, high-protein diet\\nVitamin D supplementation\\nFresh air and sunlight'),\n",
       " Document(metadata={'source': 'Data/medical book.pdf'}, page_content='Complete medication compliance\\n27. Common Cold\\nSymptom Relief:'),\n",
       " Document(metadata={'source': 'Data/medical book.pdf'}, page_content='Honey and Ginger: Soothing for throat\\nSteam Inhalation: Clears nasal congestion\\nSaltwater Gargle: For sore throat\\nChicken Soup: Hydration and comfort\\nNatural Remedies:\\nEchinacea for immune support\\nVitamin C from citrus fruits\\nZinc lozenges\\nAdequate rest and sleep\\n28. Pneumonia\\nRespiratory Support:\\nSteam Inhalation: With eucalyptus oil'),\n",
       " Document(metadata={'source': 'Data/medical book.pdf'}, page_content='Honey: Antimicrobial properties\\nGinger Tea: Anti-inflammatory\\nGarlic: Natural antibiotic\\nRecovery Measures:\\nComplete rest\\nAdequate hydration\\nNutritious, easily digestible foods\\nBreathing exercises\\n29. Hemorrhoids (Piles)\\nTopical Relief:\\nWitch Hazel: Apply with cotton pad\\nAloe Vera: Cooling and healing\\nIce Packs: For acute pain and swelling'),\n",
       " Document(metadata={'source': 'Data/medical book.pdf'}, page_content='Sitz Baths: Warm water for 15-20 minutes\\nDietary Changes:\\nHigh-fiber foods\\nAdequate water intake\\nAvoid straining during bowel movements'),\n",
       " Document(metadata={'source': 'Data/medical book.pdf'}, page_content='Regular exercise\\n30. Heart Attack\\n⚠  Emergency Note: Call emergency services immediately for suspected heart attack. These are\\nsupportive measures only.\\nPost-Event Support:\\nHawthorn: Heart-strengthening herb\\nGarlic: Cardiovascular health\\nOmega-3 Fatty Acids: Heart protection\\nCoQ10: Heart muscle support\\nLifestyle Changes:\\nHeart-healthy diet'),\n",
       " Document(metadata={'source': 'Data/medical book.pdf'}, page_content='Heart-healthy diet\\nRegular supervised exercise\\nStress management\\nMedication compliance\\n31. Varicose Veins\\nCirculation Improvement:\\nHorse Chestnut Extract: Vein strength\\nGrape Seed Extract: Antioxidant support\\nElevation: Legs above heart level\\nCompression: Support stockings\\nLifestyle Measures:\\nRegular exercise\\nAvoid prolonged standing/sitting'),\n",
       " Document(metadata={'source': 'Data/medical book.pdf'}, page_content='Maintain healthy weight\\nAvoid tight clothing\\n32. Hypothyroidism\\nThyroid Support:\\nSeaweed: Natural iodine source\\nBrazil Nuts: Selenium content'),\n",
       " Document(metadata={'source': 'Data/medical book.pdf'}, page_content='Coconut Oil: Metabolism support\\nAshwagandha: Adaptogenic herb\\nDietary Considerations:\\nAvoid goitrogenic foods in excess\\nEnsure adequate iodine intake\\nSupport with selenium and zinc\\nRegular exercise\\n33. Hyperthyroidism\\nNatural Calming:\\nLemon Balm: May reduce thyroid activity\\nBugleweed: Traditional thyroid herb\\nL-Carnitine: May reduce symptoms'),\n",
       " Document(metadata={'source': 'Data/medical book.pdf'}, page_content='Stress Reduction: Meditation, yoga\\nDietary Support:\\nAvoid excessive iodine\\nInclude calcium-rich foods\\nLimit caffeine\\nAnti-inflammatory foods\\n34. Hypoglycemia\\nBlood Sugar Stabilization:\\nComplex Carbohydrates: Whole grains, legumes\\nProtein: With each meal and snack\\nChromium: Blood sugar regulation\\nCinnamon: May improve insulin sensitivity'),\n",
       " Document(metadata={'source': 'Data/medical book.pdf'}, page_content='Lifestyle Management:\\nFrequent small meals\\nAvoid simple sugars\\nRegular meal timing\\nMonitor blood sugar levels'),\n",
       " Document(metadata={'source': 'Data/medical book.pdf'}, page_content='35. Osteoarthritis\\nJoint Support:\\nTurmeric: Anti-inflammatory\\nGinger: Pain reduction\\nGlucosamine/Chondroitin: Joint health\\nOmega-3 Fatty Acids: Inflammation reduction\\nPhysical Therapy:\\nGentle exercise\\nHot/cold therapy\\nMassage therapy\\nWeight management\\n36. Arthritis\\nAnti-Inflammatory Remedies:\\nTart Cherry Juice: Natural anti-inflammatory'),\n",
       " Document(metadata={'source': 'Data/medical book.pdf'}, page_content='Green Tea: Antioxidant properties\\nBoswellia: Traditional joint herb\\nMSM: Sulfur for joint health\\nPain Management:\\nEpsom salt baths\\nEssential oil massages\\nAcupuncture\\nStress reduction techniques\\n37. Vertigo (Paroxysmal Positional Vertigo)\\nBalance Support:\\nGinger: Reduces dizziness and nausea\\nGinkgo Biloba: Improves circulation'),\n",
       " Document(metadata={'source': 'Data/medical book.pdf'}, page_content='Canalith Repositioning: Epley maneuver\\nHydration: Maintain adequate fluid levels\\nLifestyle Adjustments:'),\n",
       " Document(metadata={'source': 'Data/medical book.pdf'}, page_content='Avoid sudden head movements\\nSleep with head elevated\\nLimit alcohol and caffeine\\nPractice balance exercises\\n38. Acne\\nTopical Treatments:\\nTea Tree Oil: Diluted, antimicrobial\\nHoney Masks: Antibacterial properties\\nAloe Vera: Anti-inflammatory\\nGreen Tea: Antioxidant face wash\\nInternal Support:\\nZinc supplementation\\nOmega-3 fatty acids'),\n",
       " Document(metadata={'source': 'Data/medical book.pdf'}, page_content='Omega-3 fatty acids\\nProbiotics for gut health\\nReduce dairy and high-glycemic foods\\n39. Urinary Tract Infection\\nNatural Antibacterials:\\nCranberry Juice: Unsweetened, pure\\nD-Mannose: Sugar that may prevent bacteria adhesion\\nUva Ursi: Traditional urinary herb\\nGarlic: Natural antimicrobial\\nSupportive Care:\\nIncrease water intake significantly'),\n",
       " Document(metadata={'source': 'Data/medical book.pdf'}, page_content=\"Avoid irritants (alcohol, caffeine, spicy foods)\\nUrinate frequently, don't hold it\\nProbiotics to restore healthy bacteria\\n40. Psoriasis\\nSkin Healing:\\nAloe Vera: Anti-inflammatory gel\"),\n",
       " Document(metadata={'source': 'Data/medical book.pdf'}, page_content='Dead Sea Salt Baths: Exfoliation and healing\\nTurmeric Paste: Anti-inflammatory\\nCoconut Oil: Moisturizing and antimicrobial\\nInternal Support:\\nOmega-3 fatty acids\\nVitamin D supplementation\\nAnti-inflammatory diet\\nStress management techniques\\n41. Impetigo\\nTopical Care:\\nHoney: Natural antimicrobial\\nTea Tree Oil: Diluted, antibacterial'),\n",
       " Document(metadata={'source': 'Data/medical book.pdf'}, page_content=\"Warm Compresses: Gentle cleansing\\nSaltwater Solution: Natural antiseptic\\nPrevention:\\nKeep affected areas clean and dry\\nAvoid touching or scratching\\nWash hands frequently\\nDon't share personal items\\nGeneral Wellness Guidelines\\nUniversal Health Principles:\\nMaintain a balanced, nutritious diet\\nStay adequately hydrated\"),\n",
       " Document(metadata={'source': 'Data/medical book.pdf'}, page_content='Get regular exercise appropriate for your condition\\nPrioritize quality sleep\\nManage stress through relaxation techniques\\nAvoid smoking and limit alcohol consumption\\nRegular health check-ups and monitoring\\nWhen to Seek Professional Help:'),\n",
       " Document(metadata={'source': 'Data/medical book.pdf'}, page_content=\"Symptoms worsen or don't improve\\nHigh fever, severe pain, or breathing difficulties\\nSigns of dehydration or serious complications\\nAny condition requiring prescription medication\\nEmergency symptoms (chest pain, severe headache, etc.)\\nRemember: These remedies are meant to support conventional treatment, not replace it. Always work\"),\n",
       " Document(metadata={'source': 'Data/medical book.pdf'}, page_content='with healthcare providers for proper diagnosis and treatment plans.')]"
      ]
     },
     "execution_count": 16,
     "metadata": {},
     "output_type": "execute_result"
    }
   ],
   "source": [
    "text_chunks"
   ]
  },
  {
   "cell_type": "code",
   "execution_count": 17,
   "id": "2eff8cf5",
   "metadata": {},
   "outputs": [
    {
     "name": "stdout",
     "output_type": "stream",
     "text": [
      "Requirement already satisfied: sentence-transformers in /Users/pasindudilshan/miniconda3/envs/medibot/lib/python3.10/site-packages (4.1.0)\n",
      "Requirement already satisfied: transformers<5.0.0,>=4.41.0 in /Users/pasindudilshan/miniconda3/envs/medibot/lib/python3.10/site-packages (from sentence-transformers) (4.53.0)\n",
      "Requirement already satisfied: tqdm in /Users/pasindudilshan/miniconda3/envs/medibot/lib/python3.10/site-packages (from sentence-transformers) (4.67.1)\n",
      "Requirement already satisfied: torch>=1.11.0 in /Users/pasindudilshan/miniconda3/envs/medibot/lib/python3.10/site-packages (from sentence-transformers) (2.7.1)\n",
      "Requirement already satisfied: scikit-learn in /Users/pasindudilshan/miniconda3/envs/medibot/lib/python3.10/site-packages (from sentence-transformers) (1.7.0)\n",
      "Requirement already satisfied: scipy in /Users/pasindudilshan/miniconda3/envs/medibot/lib/python3.10/site-packages (from sentence-transformers) (1.15.3)\n",
      "Requirement already satisfied: huggingface-hub>=0.20.0 in /Users/pasindudilshan/miniconda3/envs/medibot/lib/python3.10/site-packages (from sentence-transformers) (0.33.1)\n",
      "Requirement already satisfied: Pillow in /Users/pasindudilshan/miniconda3/envs/medibot/lib/python3.10/site-packages (from sentence-transformers) (11.3.0)\n",
      "Requirement already satisfied: typing_extensions>=4.5.0 in /Users/pasindudilshan/miniconda3/envs/medibot/lib/python3.10/site-packages (from sentence-transformers) (4.14.0)\n",
      "Requirement already satisfied: filelock in /Users/pasindudilshan/miniconda3/envs/medibot/lib/python3.10/site-packages (from transformers<5.0.0,>=4.41.0->sentence-transformers) (3.18.0)\n",
      "Requirement already satisfied: numpy>=1.17 in /Users/pasindudilshan/miniconda3/envs/medibot/lib/python3.10/site-packages (from transformers<5.0.0,>=4.41.0->sentence-transformers) (2.2.6)\n",
      "Requirement already satisfied: packaging>=20.0 in /Users/pasindudilshan/miniconda3/envs/medibot/lib/python3.10/site-packages (from transformers<5.0.0,>=4.41.0->sentence-transformers) (24.2)\n",
      "Requirement already satisfied: pyyaml>=5.1 in /Users/pasindudilshan/miniconda3/envs/medibot/lib/python3.10/site-packages (from transformers<5.0.0,>=4.41.0->sentence-transformers) (6.0.2)\n",
      "Requirement already satisfied: regex!=2019.12.17 in /Users/pasindudilshan/miniconda3/envs/medibot/lib/python3.10/site-packages (from transformers<5.0.0,>=4.41.0->sentence-transformers) (2024.11.6)\n",
      "Requirement already satisfied: requests in /Users/pasindudilshan/miniconda3/envs/medibot/lib/python3.10/site-packages (from transformers<5.0.0,>=4.41.0->sentence-transformers) (2.32.4)\n",
      "Requirement already satisfied: tokenizers<0.22,>=0.21 in /Users/pasindudilshan/miniconda3/envs/medibot/lib/python3.10/site-packages (from transformers<5.0.0,>=4.41.0->sentence-transformers) (0.21.2)\n",
      "Requirement already satisfied: safetensors>=0.4.3 in /Users/pasindudilshan/miniconda3/envs/medibot/lib/python3.10/site-packages (from transformers<5.0.0,>=4.41.0->sentence-transformers) (0.5.3)\n",
      "Requirement already satisfied: fsspec>=2023.5.0 in /Users/pasindudilshan/miniconda3/envs/medibot/lib/python3.10/site-packages (from huggingface-hub>=0.20.0->sentence-transformers) (2025.5.1)\n",
      "Requirement already satisfied: hf-xet<2.0.0,>=1.1.2 in /Users/pasindudilshan/miniconda3/envs/medibot/lib/python3.10/site-packages (from huggingface-hub>=0.20.0->sentence-transformers) (1.1.5)\n",
      "Requirement already satisfied: sympy>=1.13.3 in /Users/pasindudilshan/miniconda3/envs/medibot/lib/python3.10/site-packages (from torch>=1.11.0->sentence-transformers) (1.14.0)\n",
      "Requirement already satisfied: networkx in /Users/pasindudilshan/miniconda3/envs/medibot/lib/python3.10/site-packages (from torch>=1.11.0->sentence-transformers) (3.4.2)\n",
      "Requirement already satisfied: jinja2 in /Users/pasindudilshan/miniconda3/envs/medibot/lib/python3.10/site-packages (from torch>=1.11.0->sentence-transformers) (3.1.6)\n",
      "Requirement already satisfied: mpmath<1.4,>=1.1.0 in /Users/pasindudilshan/miniconda3/envs/medibot/lib/python3.10/site-packages (from sympy>=1.13.3->torch>=1.11.0->sentence-transformers) (1.3.0)\n",
      "Requirement already satisfied: MarkupSafe>=2.0 in /Users/pasindudilshan/miniconda3/envs/medibot/lib/python3.10/site-packages (from jinja2->torch>=1.11.0->sentence-transformers) (3.0.2)\n",
      "Requirement already satisfied: charset_normalizer<4,>=2 in /Users/pasindudilshan/miniconda3/envs/medibot/lib/python3.10/site-packages (from requests->transformers<5.0.0,>=4.41.0->sentence-transformers) (3.4.2)\n",
      "Requirement already satisfied: idna<4,>=2.5 in /Users/pasindudilshan/miniconda3/envs/medibot/lib/python3.10/site-packages (from requests->transformers<5.0.0,>=4.41.0->sentence-transformers) (3.10)\n",
      "Requirement already satisfied: urllib3<3,>=1.21.1 in /Users/pasindudilshan/miniconda3/envs/medibot/lib/python3.10/site-packages (from requests->transformers<5.0.0,>=4.41.0->sentence-transformers) (2.5.0)\n",
      "Requirement already satisfied: certifi>=2017.4.17 in /Users/pasindudilshan/miniconda3/envs/medibot/lib/python3.10/site-packages (from requests->transformers<5.0.0,>=4.41.0->sentence-transformers) (2025.6.15)\n",
      "Requirement already satisfied: joblib>=1.2.0 in /Users/pasindudilshan/miniconda3/envs/medibot/lib/python3.10/site-packages (from scikit-learn->sentence-transformers) (1.5.1)\n",
      "Requirement already satisfied: threadpoolctl>=3.1.0 in /Users/pasindudilshan/miniconda3/envs/medibot/lib/python3.10/site-packages (from scikit-learn->sentence-transformers) (3.6.0)\n"
     ]
    }
   ],
   "source": [
    "!pip install sentence-transformers"
   ]
  },
  {
   "cell_type": "code",
   "execution_count": 18,
   "id": "d2119b23",
   "metadata": {},
   "outputs": [],
   "source": [
    "from langchain.embeddings import HuggingFaceEmbeddings"
   ]
  },
  {
   "cell_type": "code",
   "execution_count": 19,
   "id": "d4a3d1e5",
   "metadata": {},
   "outputs": [
    {
     "name": "stderr",
     "output_type": "stream",
     "text": [
      "/var/folders/2d/5ys7w2h90kj37_plvvhpsswm0000gn/T/ipykernel_78408/220312833.py:3: LangChainDeprecationWarning: The class `HuggingFaceEmbeddings` was deprecated in LangChain 0.2.2 and will be removed in 1.0. An updated version of the class exists in the :class:`~langchain-huggingface package and should be used instead. To use it run `pip install -U :class:`~langchain-huggingface` and import as `from :class:`~langchain_huggingface import HuggingFaceEmbeddings``.\n",
      "  embeddings=HuggingFaceEmbeddings(model_name='sentence-transformers/all-MiniLM-L6-v2')\n",
      "/Users/pasindudilshan/miniconda3/envs/medibot/lib/python3.10/site-packages/tqdm/auto.py:21: TqdmWarning: IProgress not found. Please update jupyter and ipywidgets. See https://ipywidgets.readthedocs.io/en/stable/user_install.html\n",
      "  from .autonotebook import tqdm as notebook_tqdm\n"
     ]
    }
   ],
   "source": [
    "#Download the Embeddings from Hugging Face\n",
    "def download_hugging_face_embeddings():\n",
    "    embeddings=HuggingFaceEmbeddings(model_name='sentence-transformers/all-MiniLM-L6-v2')\n",
    "    return embeddings\n",
    "\n",
    "embeddings = download_hugging_face_embeddings()"
   ]
  },
  {
   "cell_type": "code",
   "execution_count": 20,
   "id": "d5939385",
   "metadata": {},
   "outputs": [
    {
     "name": "stdout",
     "output_type": "stream",
     "text": [
      "Length 384\n"
     ]
    }
   ],
   "source": [
    "query_result = embeddings.embed_query(\"Hello world\")\n",
    "print(\"Length\", len(query_result))"
   ]
  },
  {
   "cell_type": "code",
   "execution_count": 21,
   "id": "dbd8e576",
   "metadata": {},
   "outputs": [
    {
     "data": {
      "text/plain": [
       "[-0.03447727486491203,\n",
       " 0.031023185700178146,\n",
       " 0.006734943483024836,\n",
       " 0.026108991354703903,\n",
       " -0.039362020790576935,\n",
       " -0.16030248999595642,\n",
       " 0.06692396104335785,\n",
       " -0.0064414748921990395,\n",
       " -0.04745050519704819,\n",
       " 0.01475885696709156,\n",
       " 0.07087533175945282,\n",
       " 0.05552756041288376,\n",
       " 0.019193293526768684,\n",
       " -0.026251325383782387,\n",
       " -0.010109511204063892,\n",
       " -0.026940522715449333,\n",
       " 0.02230747975409031,\n",
       " -0.02222663350403309,\n",
       " -0.14969263970851898,\n",
       " -0.017493100836873055,\n",
       " 0.007676226552575827,\n",
       " 0.05435233935713768,\n",
       " 0.003254474140703678,\n",
       " 0.03172595798969269,\n",
       " -0.08462139964103699,\n",
       " -0.029405970126390457,\n",
       " 0.05159565806388855,\n",
       " 0.04812402278184891,\n",
       " -0.0033147968351840973,\n",
       " -0.05827918276190758,\n",
       " 0.041969284415245056,\n",
       " 0.022210702300071716,\n",
       " 0.12818880379199982,\n",
       " -0.022338924929499626,\n",
       " -0.011656263843178749,\n",
       " 0.06292839348316193,\n",
       " -0.032876282930374146,\n",
       " -0.09122605621814728,\n",
       " -0.03117532655596733,\n",
       " 0.05269956961274147,\n",
       " 0.04703480750322342,\n",
       " -0.08420305699110031,\n",
       " -0.030056172981858253,\n",
       " -0.02074481174349785,\n",
       " 0.009517787024378777,\n",
       " -0.003721744753420353,\n",
       " 0.007343323435634375,\n",
       " 0.039324335753917694,\n",
       " 0.0932740643620491,\n",
       " -0.003788587637245655,\n",
       " -0.05274208262562752,\n",
       " -0.058058205991983414,\n",
       " -0.006864395923912525,\n",
       " 0.005283238831907511,\n",
       " 0.0828929990530014,\n",
       " 0.019362738355994225,\n",
       " 0.0062844655476510525,\n",
       " -0.010330751538276672,\n",
       " 0.009032376110553741,\n",
       " -0.03768378123641014,\n",
       " -0.04520609974861145,\n",
       " 0.02401636354625225,\n",
       " -0.006944145541638136,\n",
       " 0.01349162682890892,\n",
       " 0.10005497932434082,\n",
       " -0.0716838389635086,\n",
       " -0.021695038303732872,\n",
       " 0.03161851316690445,\n",
       " -0.05163462832570076,\n",
       " -0.08224769681692123,\n",
       " -0.06569333374500275,\n",
       " -0.009895357303321362,\n",
       " 0.005816420074552298,\n",
       " 0.07355459034442902,\n",
       " -0.03405028581619263,\n",
       " 0.024886086583137512,\n",
       " 0.014488081447780132,\n",
       " 0.02645736187696457,\n",
       " 0.009656742215156555,\n",
       " 0.03021734021604061,\n",
       " 0.052803993225097656,\n",
       " -0.07535990327596664,\n",
       " 0.009897188283503056,\n",
       " 0.029836855828762054,\n",
       " 0.01755557954311371,\n",
       " 0.023091962561011314,\n",
       " 0.0019338703714311123,\n",
       " 0.0014001704985275865,\n",
       " -0.047175951302051544,\n",
       " -0.011194347403943539,\n",
       " -0.11420135200023651,\n",
       " -0.019811976701021194,\n",
       " 0.04026623070240021,\n",
       " 0.002193037886172533,\n",
       " -0.07979223877191544,\n",
       " -0.025382354855537415,\n",
       " 0.09448292851448059,\n",
       " -0.028981134295463562,\n",
       " -0.14500248432159424,\n",
       " 0.23097743093967438,\n",
       " 0.02773112617433071,\n",
       " 0.032111454755067825,\n",
       " 0.03106500953435898,\n",
       " 0.042832862585783005,\n",
       " 0.0642378032207489,\n",
       " 0.032163165509700775,\n",
       " -0.0048767197877168655,\n",
       " 0.05569947510957718,\n",
       " -0.037532392889261246,\n",
       " -0.021505579352378845,\n",
       " -0.028342703357338905,\n",
       " -0.028846895322203636,\n",
       " 0.038353100419044495,\n",
       " -0.01746862381696701,\n",
       " 0.05248527601361275,\n",
       " -0.07487606257200241,\n",
       " -0.03125975281000137,\n",
       " 0.021841542795300484,\n",
       " -0.039895664900541306,\n",
       " -0.008587117306888103,\n",
       " 0.026956627145409584,\n",
       " -0.04849552363157272,\n",
       " 0.011469900608062744,\n",
       " 0.029618270695209503,\n",
       " -0.020572176203131676,\n",
       " 0.013103868812322617,\n",
       " 0.028833432123064995,\n",
       " -3.194200554190157e-33,\n",
       " 0.06478201597929001,\n",
       " -0.018130235373973846,\n",
       " 0.05178994685411453,\n",
       " 0.12198272347450256,\n",
       " 0.02878018282353878,\n",
       " 0.008722026832401752,\n",
       " -0.07052114605903625,\n",
       " -0.016907259821891785,\n",
       " 0.0407397486269474,\n",
       " 0.0421161912381649,\n",
       " 0.025447234511375427,\n",
       " 0.03574623912572861,\n",
       " -0.04914475977420807,\n",
       " 0.0021290781442075968,\n",
       " -0.015546579845249653,\n",
       " 0.050730545073747635,\n",
       " -0.048185307532548904,\n",
       " 0.03588062897324562,\n",
       " -0.004067040979862213,\n",
       " 0.10172472149133682,\n",
       " -0.05597004294395447,\n",
       " -0.010681048966944218,\n",
       " 0.011235816404223442,\n",
       " 0.09068647772073746,\n",
       " 0.0042344690300524235,\n",
       " 0.03513867035508156,\n",
       " -0.009702816605567932,\n",
       " -0.09386518597602844,\n",
       " 0.09285556524991989,\n",
       " 0.008004957810044289,\n",
       " -0.007705434691160917,\n",
       " -0.05208675190806389,\n",
       " -0.012587963603436947,\n",
       " 0.0032669089268893003,\n",
       " 0.006013541016727686,\n",
       " 0.007581611629575491,\n",
       " 0.010517185553908348,\n",
       " -0.08634551614522934,\n",
       " -0.06987876445055008,\n",
       " -0.00253385491669178,\n",
       " -0.0909765437245369,\n",
       " 0.04688732326030731,\n",
       " 0.05207647755742073,\n",
       " 0.007193896919488907,\n",
       " 0.010903622023761272,\n",
       " -0.005229527130723,\n",
       " 0.013937309384346008,\n",
       " 0.021968355402350426,\n",
       " 0.03420855477452278,\n",
       " 0.060224659740924835,\n",
       " 0.0001166820147773251,\n",
       " 0.01473192684352398,\n",
       " -0.07008921355009079,\n",
       " 0.028499027714133263,\n",
       " -0.02760162018239498,\n",
       " 0.010768432170152664,\n",
       " 0.034830980002880096,\n",
       " -0.022487875074148178,\n",
       " 0.009769045747816563,\n",
       " 0.07722780853509903,\n",
       " 0.021588344126939774,\n",
       " 0.11495622247457504,\n",
       " -0.0680011659860611,\n",
       " 0.023761015385389328,\n",
       " -0.015983952209353447,\n",
       " -0.017826979979872704,\n",
       " 0.06439492851495743,\n",
       " 0.03202580288052559,\n",
       " 0.05027025565505028,\n",
       " -0.005913743283599615,\n",
       " -0.03370802477002144,\n",
       " 0.017840370535850525,\n",
       " 0.01657336950302124,\n",
       " 0.06329652667045593,\n",
       " 0.03467720001935959,\n",
       " 0.0464734211564064,\n",
       " 0.09790615737438202,\n",
       " -0.006635462399572134,\n",
       " 0.02520698308944702,\n",
       " -0.07798831164836884,\n",
       " 0.016926409676671028,\n",
       " -0.0009458207059651613,\n",
       " 0.022471873089671135,\n",
       " -0.03825325146317482,\n",
       " 0.09570478647947311,\n",
       " -0.005350717343389988,\n",
       " 0.010469041764736176,\n",
       " -0.11524056643247604,\n",
       " -0.013262496329843998,\n",
       " -0.010709422640502453,\n",
       " -0.08311723172664642,\n",
       " 0.07327358424663544,\n",
       " 0.0493922159075737,\n",
       " -0.008994401432573795,\n",
       " -0.09584559500217438,\n",
       " 3.366150398460503e-33,\n",
       " 0.12493178993463516,\n",
       " 0.019349679350852966,\n",
       " -0.05822572112083435,\n",
       " -0.035988230258226395,\n",
       " -0.05074681341648102,\n",
       " -0.04566239193081856,\n",
       " -0.08260344713926315,\n",
       " 0.14819476008415222,\n",
       " -0.08842113614082336,\n",
       " 0.06027448922395706,\n",
       " 0.05103021115064621,\n",
       " 0.010303132236003876,\n",
       " 0.14121422171592712,\n",
       " 0.03081383928656578,\n",
       " 0.06103311479091644,\n",
       " -0.05285128578543663,\n",
       " 0.13664889335632324,\n",
       " 0.009189903736114502,\n",
       " -0.017325250431895256,\n",
       " -0.012848635204136372,\n",
       " -0.007995281368494034,\n",
       " -0.05098007991909981,\n",
       " -0.052350640296936035,\n",
       " 0.007593068759888411,\n",
       " -0.015166296623647213,\n",
       " 0.01696033962070942,\n",
       " 0.021270548924803734,\n",
       " 0.02055799961090088,\n",
       " -0.12002807855606079,\n",
       " 0.01446180697530508,\n",
       " 0.02675987035036087,\n",
       " 0.02533058635890484,\n",
       " -0.04275466501712799,\n",
       " 0.006768404971808195,\n",
       " -0.01445858832448721,\n",
       " 0.045262016355991364,\n",
       " -0.09147656708955765,\n",
       " -0.019439158961176872,\n",
       " -0.017833461984992027,\n",
       " -0.0549100898206234,\n",
       " -0.05264107137918472,\n",
       " -0.01045901607722044,\n",
       " -0.05201607197523117,\n",
       " 0.020892063155770302,\n",
       " -0.07997036725282669,\n",
       " -0.012111352756619453,\n",
       " -0.05773141235113144,\n",
       " 0.023178264498710632,\n",
       " -0.008031617850065231,\n",
       " -0.025989271700382233,\n",
       " -0.07995667308568954,\n",
       " -0.020728806033730507,\n",
       " 0.048817768692970276,\n",
       " -0.020389171317219734,\n",
       " -0.04917658492922783,\n",
       " 0.014159624464809895,\n",
       " -0.06362210214138031,\n",
       " -0.007807397283613682,\n",
       " 0.016431523486971855,\n",
       " -0.025682521983981133,\n",
       " 0.01338107232004404,\n",
       " 0.026248754933476448,\n",
       " 0.009978369809687138,\n",
       " 0.06322892010211945,\n",
       " 0.0026720957830548286,\n",
       " -0.00658278726041317,\n",
       " 0.016631972044706345,\n",
       " 0.03236646577715874,\n",
       " 0.03794253244996071,\n",
       " -0.03637604042887688,\n",
       " -0.006910967640578747,\n",
       " 0.0001596823858562857,\n",
       " -0.0016335871769115329,\n",
       " -0.027278205379843712,\n",
       " -0.02803804725408554,\n",
       " 0.04968151077628136,\n",
       " -0.028867177665233612,\n",
       " -0.0024180368054658175,\n",
       " 0.014774898067116737,\n",
       " 0.009764556773006916,\n",
       " 0.005797572899609804,\n",
       " 0.013486134819686413,\n",
       " 0.00556792551651597,\n",
       " 0.037227049469947815,\n",
       " 0.007232537027448416,\n",
       " 0.04015621542930603,\n",
       " 0.0815032571554184,\n",
       " 0.07199163734912872,\n",
       " -0.01305615995079279,\n",
       " -0.04288206622004509,\n",
       " -0.011011246591806412,\n",
       " 0.004897758364677429,\n",
       " -0.00922972522675991,\n",
       " 0.035191480070352554,\n",
       " -0.05103502795100212,\n",
       " -1.571437557856825e-08,\n",
       " -0.08862439543008804,\n",
       " 0.0239093154668808,\n",
       " -0.016238760203123093,\n",
       " 0.03170046582818031,\n",
       " 0.027284203097224236,\n",
       " 0.05246879905462265,\n",
       " -0.04707096144556999,\n",
       " -0.058847419917583466,\n",
       " -0.06320823729038239,\n",
       " 0.040888525545597076,\n",
       " 0.04982791841030121,\n",
       " 0.10655166953802109,\n",
       " -0.07450228184461594,\n",
       " -0.012495423667132854,\n",
       " 0.01837068423628807,\n",
       " 0.039474111050367355,\n",
       " -0.024797910824418068,\n",
       " 0.014516254886984825,\n",
       " -0.03706919029355049,\n",
       " 0.020015720278024673,\n",
       " -4.8585523472866043e-05,\n",
       " 0.009866517968475819,\n",
       " 0.024838803336024284,\n",
       " -0.05245813727378845,\n",
       " 0.029314149171113968,\n",
       " -0.08719192445278168,\n",
       " -0.014499801211059093,\n",
       " 0.026019031181931496,\n",
       " -0.018746381625533104,\n",
       " -0.07620511949062347,\n",
       " 0.03504328802227974,\n",
       " 0.10363954305648804,\n",
       " -0.028050540015101433,\n",
       " 0.012718193233013153,\n",
       " -0.07632554322481155,\n",
       " -0.01865239068865776,\n",
       " 0.024976715445518494,\n",
       " 0.08144538849592209,\n",
       " 0.06875890493392944,\n",
       " -0.06405661255121231,\n",
       " -0.08389391005039215,\n",
       " 0.061362382024526596,\n",
       " -0.033545564860105515,\n",
       " -0.10615339130163193,\n",
       " -0.040080584585666656,\n",
       " 0.03253018483519554,\n",
       " 0.07662486284971237,\n",
       " -0.07301616668701172,\n",
       " 0.0003376000968273729,\n",
       " -0.040871553122997284,\n",
       " -0.07578852027654648,\n",
       " 0.027527660131454468,\n",
       " 0.07462547719478607,\n",
       " 0.017717288807034492,\n",
       " 0.09121840447187424,\n",
       " 0.11022017896175385,\n",
       " 0.0005697730812244117,\n",
       " 0.05146332457661629,\n",
       " -0.014551307074725628,\n",
       " 0.03323204442858696,\n",
       " 0.02379223145544529,\n",
       " -0.022889813408255577,\n",
       " 0.0389375314116478,\n",
       " 0.030206799507141113]"
      ]
     },
     "execution_count": 21,
     "metadata": {},
     "output_type": "execute_result"
    }
   ],
   "source": [
    "query_result"
   ]
  },
  {
   "cell_type": "code",
   "execution_count": 22,
   "id": "000fd76b",
   "metadata": {},
   "outputs": [
    {
     "data": {
      "text/plain": [
       "True"
      ]
     },
     "execution_count": 22,
     "metadata": {},
     "output_type": "execute_result"
    }
   ],
   "source": [
    "from dotenv import load_dotenv\n",
    "import os\n",
    "load_dotenv()"
   ]
  },
  {
   "cell_type": "code",
   "execution_count": 23,
   "id": "2a44c536",
   "metadata": {},
   "outputs": [],
   "source": [
    "PINECONE_API_KEY=os.environ.get('PINECONE_API_KEY')\n",
    "GROQ_API_KEY=os.environ.get('GROQ_API_KEY')"
   ]
  },
  {
   "cell_type": "code",
   "execution_count": 24,
   "id": "f1af4a5e",
   "metadata": {},
   "outputs": [],
   "source": [
    "os.environ[\"PINECONE_API_KEY\"] = PINECONE_API_KEY\n",
    "os.environ[\"GROQ_API_KEY\"] = GROQ_API_KEY"
   ]
  },
  {
   "cell_type": "code",
   "execution_count": 25,
   "id": "61fa7f7b",
   "metadata": {},
   "outputs": [
    {
     "name": "stderr",
     "output_type": "stream",
     "text": [
      "huggingface/tokenizers: The current process just got forked, after parallelism has already been used. Disabling parallelism to avoid deadlocks...\n",
      "To disable this warning, you can either:\n",
      "\t- Avoid using `tokenizers` before the fork if possible\n",
      "\t- Explicitly set the environment variable TOKENIZERS_PARALLELISM=(true | false)\n"
     ]
    },
    {
     "name": "stdout",
     "output_type": "stream",
     "text": [
      "Requirement already satisfied: pinecone in /Users/pasindudilshan/miniconda3/envs/medibot/lib/python3.10/site-packages (7.3.0)\n",
      "Requirement already satisfied: certifi>=2019.11.17 in /Users/pasindudilshan/miniconda3/envs/medibot/lib/python3.10/site-packages (from pinecone) (2025.6.15)\n",
      "Requirement already satisfied: pinecone-plugin-assistant<2.0.0,>=1.6.0 in /Users/pasindudilshan/miniconda3/envs/medibot/lib/python3.10/site-packages (from pinecone) (1.7.0)\n",
      "Requirement already satisfied: pinecone-plugin-interface<0.0.8,>=0.0.7 in /Users/pasindudilshan/miniconda3/envs/medibot/lib/python3.10/site-packages (from pinecone) (0.0.7)\n",
      "Requirement already satisfied: python-dateutil>=2.5.3 in /Users/pasindudilshan/miniconda3/envs/medibot/lib/python3.10/site-packages (from pinecone) (2.9.0.post0)\n",
      "Requirement already satisfied: typing-extensions>=3.7.4 in /Users/pasindudilshan/miniconda3/envs/medibot/lib/python3.10/site-packages (from pinecone) (4.14.0)\n",
      "Requirement already satisfied: urllib3>=1.26.0 in /Users/pasindudilshan/miniconda3/envs/medibot/lib/python3.10/site-packages (from pinecone) (2.5.0)\n",
      "Requirement already satisfied: packaging<25.0,>=24.2 in /Users/pasindudilshan/miniconda3/envs/medibot/lib/python3.10/site-packages (from pinecone-plugin-assistant<2.0.0,>=1.6.0->pinecone) (24.2)\n",
      "Requirement already satisfied: requests<3.0.0,>=2.32.3 in /Users/pasindudilshan/miniconda3/envs/medibot/lib/python3.10/site-packages (from pinecone-plugin-assistant<2.0.0,>=1.6.0->pinecone) (2.32.4)\n",
      "Requirement already satisfied: charset_normalizer<4,>=2 in /Users/pasindudilshan/miniconda3/envs/medibot/lib/python3.10/site-packages (from requests<3.0.0,>=2.32.3->pinecone-plugin-assistant<2.0.0,>=1.6.0->pinecone) (3.4.2)\n",
      "Requirement already satisfied: idna<4,>=2.5 in /Users/pasindudilshan/miniconda3/envs/medibot/lib/python3.10/site-packages (from requests<3.0.0,>=2.32.3->pinecone-plugin-assistant<2.0.0,>=1.6.0->pinecone) (3.10)\n",
      "Requirement already satisfied: six>=1.5 in /Users/pasindudilshan/miniconda3/envs/medibot/lib/python3.10/site-packages (from python-dateutil>=2.5.3->pinecone) (1.17.0)\n"
     ]
    }
   ],
   "source": [
    "!pip install pinecone"
   ]
  },
  {
   "cell_type": "code",
   "execution_count": 26,
   "id": "0c740e0c",
   "metadata": {},
   "outputs": [],
   "source": [
    "from pinecone import Pinecone\n",
    "\n",
    "pinecone_api_key = PINECONE_API_KEY\n",
    "\n",
    "pc = Pinecone(api_key=pinecone_api_key)"
   ]
  },
  {
   "cell_type": "code",
   "execution_count": 27,
   "id": "413b5ac6",
   "metadata": {},
   "outputs": [],
   "source": [
    "from pinecone import ServerlessSpec\n",
    "\n",
    "index_name = \"medical-bot\"  # change if desired\n",
    "\n",
    "if not pc.has_index(index_name):\n",
    "    pc.create_index(\n",
    "        name=index_name,\n",
    "        dimension=384,\n",
    "        metric=\"cosine\",\n",
    "        spec=ServerlessSpec(cloud=\"aws\", region=\"us-east-1\"),\n",
    "    )\n",
    "\n",
    "index = pc.Index(index_name)"
   ]
  },
  {
   "cell_type": "code",
   "execution_count": 28,
   "id": "8b12d530",
   "metadata": {},
   "outputs": [
    {
     "name": "stderr",
     "output_type": "stream",
     "text": [
      "huggingface/tokenizers: The current process just got forked, after parallelism has already been used. Disabling parallelism to avoid deadlocks...\n",
      "To disable this warning, you can either:\n",
      "\t- Avoid using `tokenizers` before the fork if possible\n",
      "\t- Explicitly set the environment variable TOKENIZERS_PARALLELISM=(true | false)\n"
     ]
    },
    {
     "name": "stdout",
     "output_type": "stream",
     "text": [
      "Requirement already satisfied: langchain_pinecone in /Users/pasindudilshan/miniconda3/envs/medibot/lib/python3.10/site-packages (0.2.8)\n",
      "Requirement already satisfied: langchain-core<1.0.0,>=0.3.34 in /Users/pasindudilshan/miniconda3/envs/medibot/lib/python3.10/site-packages (from langchain_pinecone) (0.3.67)\n",
      "Requirement already satisfied: pinecone<8.0.0,>=6.0.0 in /Users/pasindudilshan/miniconda3/envs/medibot/lib/python3.10/site-packages (from pinecone[asyncio]<8.0.0,>=6.0.0->langchain_pinecone) (7.3.0)\n",
      "Requirement already satisfied: numpy>=1.26.4 in /Users/pasindudilshan/miniconda3/envs/medibot/lib/python3.10/site-packages (from langchain_pinecone) (2.2.6)\n",
      "Requirement already satisfied: langchain-tests<1.0.0,>=0.3.7 in /Users/pasindudilshan/miniconda3/envs/medibot/lib/python3.10/site-packages (from langchain_pinecone) (0.3.20)\n",
      "Requirement already satisfied: langchain-openai>=0.3.11 in /Users/pasindudilshan/miniconda3/envs/medibot/lib/python3.10/site-packages (from langchain_pinecone) (0.3.27)\n",
      "Requirement already satisfied: langsmith>=0.3.45 in /Users/pasindudilshan/miniconda3/envs/medibot/lib/python3.10/site-packages (from langchain-core<1.0.0,>=0.3.34->langchain_pinecone) (0.4.4)\n",
      "Requirement already satisfied: tenacity!=8.4.0,<10.0.0,>=8.1.0 in /Users/pasindudilshan/miniconda3/envs/medibot/lib/python3.10/site-packages (from langchain-core<1.0.0,>=0.3.34->langchain_pinecone) (9.1.2)\n",
      "Requirement already satisfied: jsonpatch<2.0,>=1.33 in /Users/pasindudilshan/miniconda3/envs/medibot/lib/python3.10/site-packages (from langchain-core<1.0.0,>=0.3.34->langchain_pinecone) (1.33)\n",
      "Requirement already satisfied: PyYAML>=5.3 in /Users/pasindudilshan/miniconda3/envs/medibot/lib/python3.10/site-packages (from langchain-core<1.0.0,>=0.3.34->langchain_pinecone) (6.0.2)\n",
      "Requirement already satisfied: packaging<25,>=23.2 in /Users/pasindudilshan/miniconda3/envs/medibot/lib/python3.10/site-packages (from langchain-core<1.0.0,>=0.3.34->langchain_pinecone) (24.2)\n",
      "Requirement already satisfied: typing-extensions>=4.7 in /Users/pasindudilshan/miniconda3/envs/medibot/lib/python3.10/site-packages (from langchain-core<1.0.0,>=0.3.34->langchain_pinecone) (4.14.0)\n",
      "Requirement already satisfied: pydantic>=2.7.4 in /Users/pasindudilshan/miniconda3/envs/medibot/lib/python3.10/site-packages (from langchain-core<1.0.0,>=0.3.34->langchain_pinecone) (2.11.7)\n",
      "Requirement already satisfied: jsonpointer>=1.9 in /Users/pasindudilshan/miniconda3/envs/medibot/lib/python3.10/site-packages (from jsonpatch<2.0,>=1.33->langchain-core<1.0.0,>=0.3.34->langchain_pinecone) (3.0.0)\n",
      "Requirement already satisfied: pytest<9,>=7 in /Users/pasindudilshan/miniconda3/envs/medibot/lib/python3.10/site-packages (from langchain-tests<1.0.0,>=0.3.7->langchain_pinecone) (8.4.1)\n",
      "Requirement already satisfied: pytest-asyncio<1,>=0.20 in /Users/pasindudilshan/miniconda3/envs/medibot/lib/python3.10/site-packages (from langchain-tests<1.0.0,>=0.3.7->langchain_pinecone) (0.26.0)\n",
      "Requirement already satisfied: httpx<1,>=0.25.0 in /Users/pasindudilshan/miniconda3/envs/medibot/lib/python3.10/site-packages (from langchain-tests<1.0.0,>=0.3.7->langchain_pinecone) (0.28.1)\n",
      "Requirement already satisfied: syrupy<5,>=4 in /Users/pasindudilshan/miniconda3/envs/medibot/lib/python3.10/site-packages (from langchain-tests<1.0.0,>=0.3.7->langchain_pinecone) (4.9.1)\n",
      "Requirement already satisfied: pytest-socket<1,>=0.6.0 in /Users/pasindudilshan/miniconda3/envs/medibot/lib/python3.10/site-packages (from langchain-tests<1.0.0,>=0.3.7->langchain_pinecone) (0.7.0)\n",
      "Requirement already satisfied: pytest-benchmark in /Users/pasindudilshan/miniconda3/envs/medibot/lib/python3.10/site-packages (from langchain-tests<1.0.0,>=0.3.7->langchain_pinecone) (5.1.0)\n",
      "Requirement already satisfied: pytest-codspeed in /Users/pasindudilshan/miniconda3/envs/medibot/lib/python3.10/site-packages (from langchain-tests<1.0.0,>=0.3.7->langchain_pinecone) (3.2.0)\n",
      "Requirement already satisfied: pytest-recording in /Users/pasindudilshan/miniconda3/envs/medibot/lib/python3.10/site-packages (from langchain-tests<1.0.0,>=0.3.7->langchain_pinecone) (0.13.4)\n",
      "Requirement already satisfied: vcrpy>=7.0 in /Users/pasindudilshan/miniconda3/envs/medibot/lib/python3.10/site-packages (from langchain-tests<1.0.0,>=0.3.7->langchain_pinecone) (7.0.0)\n",
      "Requirement already satisfied: anyio in /Users/pasindudilshan/miniconda3/envs/medibot/lib/python3.10/site-packages (from httpx<1,>=0.25.0->langchain-tests<1.0.0,>=0.3.7->langchain_pinecone) (4.9.0)\n",
      "Requirement already satisfied: certifi in /Users/pasindudilshan/miniconda3/envs/medibot/lib/python3.10/site-packages (from httpx<1,>=0.25.0->langchain-tests<1.0.0,>=0.3.7->langchain_pinecone) (2025.6.15)\n",
      "Requirement already satisfied: httpcore==1.* in /Users/pasindudilshan/miniconda3/envs/medibot/lib/python3.10/site-packages (from httpx<1,>=0.25.0->langchain-tests<1.0.0,>=0.3.7->langchain_pinecone) (1.0.9)\n",
      "Requirement already satisfied: idna in /Users/pasindudilshan/miniconda3/envs/medibot/lib/python3.10/site-packages (from httpx<1,>=0.25.0->langchain-tests<1.0.0,>=0.3.7->langchain_pinecone) (3.10)\n",
      "Requirement already satisfied: h11>=0.16 in /Users/pasindudilshan/miniconda3/envs/medibot/lib/python3.10/site-packages (from httpcore==1.*->httpx<1,>=0.25.0->langchain-tests<1.0.0,>=0.3.7->langchain_pinecone) (0.16.0)\n",
      "Requirement already satisfied: pinecone-plugin-assistant<2.0.0,>=1.6.0 in /Users/pasindudilshan/miniconda3/envs/medibot/lib/python3.10/site-packages (from pinecone<8.0.0,>=6.0.0->pinecone[asyncio]<8.0.0,>=6.0.0->langchain_pinecone) (1.7.0)\n",
      "Requirement already satisfied: pinecone-plugin-interface<0.0.8,>=0.0.7 in /Users/pasindudilshan/miniconda3/envs/medibot/lib/python3.10/site-packages (from pinecone<8.0.0,>=6.0.0->pinecone[asyncio]<8.0.0,>=6.0.0->langchain_pinecone) (0.0.7)\n",
      "Requirement already satisfied: python-dateutil>=2.5.3 in /Users/pasindudilshan/miniconda3/envs/medibot/lib/python3.10/site-packages (from pinecone<8.0.0,>=6.0.0->pinecone[asyncio]<8.0.0,>=6.0.0->langchain_pinecone) (2.9.0.post0)\n",
      "Requirement already satisfied: urllib3>=1.26.0 in /Users/pasindudilshan/miniconda3/envs/medibot/lib/python3.10/site-packages (from pinecone<8.0.0,>=6.0.0->pinecone[asyncio]<8.0.0,>=6.0.0->langchain_pinecone) (2.5.0)\n",
      "Requirement already satisfied: requests<3.0.0,>=2.32.3 in /Users/pasindudilshan/miniconda3/envs/medibot/lib/python3.10/site-packages (from pinecone-plugin-assistant<2.0.0,>=1.6.0->pinecone<8.0.0,>=6.0.0->pinecone[asyncio]<8.0.0,>=6.0.0->langchain_pinecone) (2.32.4)\n",
      "Requirement already satisfied: aiohttp>=3.9.0 in /Users/pasindudilshan/miniconda3/envs/medibot/lib/python3.10/site-packages (from pinecone[asyncio]<8.0.0,>=6.0.0->langchain_pinecone) (3.12.13)\n",
      "Requirement already satisfied: aiohttp-retry<3.0.0,>=2.9.1 in /Users/pasindudilshan/miniconda3/envs/medibot/lib/python3.10/site-packages (from pinecone[asyncio]<8.0.0,>=6.0.0->langchain_pinecone) (2.9.1)\n",
      "Requirement already satisfied: exceptiongroup>=1 in /Users/pasindudilshan/miniconda3/envs/medibot/lib/python3.10/site-packages (from pytest<9,>=7->langchain-tests<1.0.0,>=0.3.7->langchain_pinecone) (1.3.0)\n",
      "Requirement already satisfied: iniconfig>=1 in /Users/pasindudilshan/miniconda3/envs/medibot/lib/python3.10/site-packages (from pytest<9,>=7->langchain-tests<1.0.0,>=0.3.7->langchain_pinecone) (2.1.0)\n",
      "Requirement already satisfied: pluggy<2,>=1.5 in /Users/pasindudilshan/miniconda3/envs/medibot/lib/python3.10/site-packages (from pytest<9,>=7->langchain-tests<1.0.0,>=0.3.7->langchain_pinecone) (1.6.0)\n",
      "Requirement already satisfied: pygments>=2.7.2 in /Users/pasindudilshan/miniconda3/envs/medibot/lib/python3.10/site-packages (from pytest<9,>=7->langchain-tests<1.0.0,>=0.3.7->langchain_pinecone) (2.19.2)\n",
      "Requirement already satisfied: tomli>=1 in /Users/pasindudilshan/miniconda3/envs/medibot/lib/python3.10/site-packages (from pytest<9,>=7->langchain-tests<1.0.0,>=0.3.7->langchain_pinecone) (2.2.1)\n",
      "Requirement already satisfied: charset_normalizer<4,>=2 in /Users/pasindudilshan/miniconda3/envs/medibot/lib/python3.10/site-packages (from requests<3.0.0,>=2.32.3->pinecone-plugin-assistant<2.0.0,>=1.6.0->pinecone<8.0.0,>=6.0.0->pinecone[asyncio]<8.0.0,>=6.0.0->langchain_pinecone) (3.4.2)\n",
      "Requirement already satisfied: aiohappyeyeballs>=2.5.0 in /Users/pasindudilshan/miniconda3/envs/medibot/lib/python3.10/site-packages (from aiohttp>=3.9.0->pinecone[asyncio]<8.0.0,>=6.0.0->langchain_pinecone) (2.6.1)\n",
      "Requirement already satisfied: aiosignal>=1.1.2 in /Users/pasindudilshan/miniconda3/envs/medibot/lib/python3.10/site-packages (from aiohttp>=3.9.0->pinecone[asyncio]<8.0.0,>=6.0.0->langchain_pinecone) (1.3.2)\n",
      "Requirement already satisfied: async-timeout<6.0,>=4.0 in /Users/pasindudilshan/miniconda3/envs/medibot/lib/python3.10/site-packages (from aiohttp>=3.9.0->pinecone[asyncio]<8.0.0,>=6.0.0->langchain_pinecone) (4.0.3)\n",
      "Requirement already satisfied: attrs>=17.3.0 in /Users/pasindudilshan/miniconda3/envs/medibot/lib/python3.10/site-packages (from aiohttp>=3.9.0->pinecone[asyncio]<8.0.0,>=6.0.0->langchain_pinecone) (25.3.0)\n",
      "Requirement already satisfied: frozenlist>=1.1.1 in /Users/pasindudilshan/miniconda3/envs/medibot/lib/python3.10/site-packages (from aiohttp>=3.9.0->pinecone[asyncio]<8.0.0,>=6.0.0->langchain_pinecone) (1.7.0)\n",
      "Requirement already satisfied: multidict<7.0,>=4.5 in /Users/pasindudilshan/miniconda3/envs/medibot/lib/python3.10/site-packages (from aiohttp>=3.9.0->pinecone[asyncio]<8.0.0,>=6.0.0->langchain_pinecone) (6.6.3)\n",
      "Requirement already satisfied: propcache>=0.2.0 in /Users/pasindudilshan/miniconda3/envs/medibot/lib/python3.10/site-packages (from aiohttp>=3.9.0->pinecone[asyncio]<8.0.0,>=6.0.0->langchain_pinecone) (0.3.2)\n",
      "Requirement already satisfied: yarl<2.0,>=1.17.0 in /Users/pasindudilshan/miniconda3/envs/medibot/lib/python3.10/site-packages (from aiohttp>=3.9.0->pinecone[asyncio]<8.0.0,>=6.0.0->langchain_pinecone) (1.20.1)\n",
      "Requirement already satisfied: openai<2.0.0,>=1.86.0 in /Users/pasindudilshan/miniconda3/envs/medibot/lib/python3.10/site-packages (from langchain-openai>=0.3.11->langchain_pinecone) (1.93.0)\n",
      "Requirement already satisfied: tiktoken<1,>=0.7 in /Users/pasindudilshan/miniconda3/envs/medibot/lib/python3.10/site-packages (from langchain-openai>=0.3.11->langchain_pinecone) (0.9.0)\n",
      "Requirement already satisfied: distro<2,>=1.7.0 in /Users/pasindudilshan/miniconda3/envs/medibot/lib/python3.10/site-packages (from openai<2.0.0,>=1.86.0->langchain-openai>=0.3.11->langchain_pinecone) (1.9.0)\n",
      "Requirement already satisfied: jiter<1,>=0.4.0 in /Users/pasindudilshan/miniconda3/envs/medibot/lib/python3.10/site-packages (from openai<2.0.0,>=1.86.0->langchain-openai>=0.3.11->langchain_pinecone) (0.10.0)\n",
      "Requirement already satisfied: sniffio in /Users/pasindudilshan/miniconda3/envs/medibot/lib/python3.10/site-packages (from openai<2.0.0,>=1.86.0->langchain-openai>=0.3.11->langchain_pinecone) (1.3.1)\n",
      "Requirement already satisfied: tqdm>4 in /Users/pasindudilshan/miniconda3/envs/medibot/lib/python3.10/site-packages (from openai<2.0.0,>=1.86.0->langchain-openai>=0.3.11->langchain_pinecone) (4.67.1)\n",
      "Requirement already satisfied: annotated-types>=0.6.0 in /Users/pasindudilshan/miniconda3/envs/medibot/lib/python3.10/site-packages (from pydantic>=2.7.4->langchain-core<1.0.0,>=0.3.34->langchain_pinecone) (0.7.0)\n",
      "Requirement already satisfied: pydantic-core==2.33.2 in /Users/pasindudilshan/miniconda3/envs/medibot/lib/python3.10/site-packages (from pydantic>=2.7.4->langchain-core<1.0.0,>=0.3.34->langchain_pinecone) (2.33.2)\n",
      "Requirement already satisfied: typing-inspection>=0.4.0 in /Users/pasindudilshan/miniconda3/envs/medibot/lib/python3.10/site-packages (from pydantic>=2.7.4->langchain-core<1.0.0,>=0.3.34->langchain_pinecone) (0.4.1)\n",
      "Requirement already satisfied: regex>=2022.1.18 in /Users/pasindudilshan/miniconda3/envs/medibot/lib/python3.10/site-packages (from tiktoken<1,>=0.7->langchain-openai>=0.3.11->langchain_pinecone) (2024.11.6)\n",
      "Requirement already satisfied: orjson<4.0.0,>=3.9.14 in /Users/pasindudilshan/miniconda3/envs/medibot/lib/python3.10/site-packages (from langsmith>=0.3.45->langchain-core<1.0.0,>=0.3.34->langchain_pinecone) (3.10.18)\n",
      "Requirement already satisfied: requests-toolbelt<2.0.0,>=1.0.0 in /Users/pasindudilshan/miniconda3/envs/medibot/lib/python3.10/site-packages (from langsmith>=0.3.45->langchain-core<1.0.0,>=0.3.34->langchain_pinecone) (1.0.0)\n",
      "Requirement already satisfied: zstandard<0.24.0,>=0.23.0 in /Users/pasindudilshan/miniconda3/envs/medibot/lib/python3.10/site-packages (from langsmith>=0.3.45->langchain-core<1.0.0,>=0.3.34->langchain_pinecone) (0.23.0)\n",
      "Requirement already satisfied: six>=1.5 in /Users/pasindudilshan/miniconda3/envs/medibot/lib/python3.10/site-packages (from python-dateutil>=2.5.3->pinecone<8.0.0,>=6.0.0->pinecone[asyncio]<8.0.0,>=6.0.0->langchain_pinecone) (1.17.0)\n",
      "Requirement already satisfied: wrapt in /Users/pasindudilshan/miniconda3/envs/medibot/lib/python3.10/site-packages (from vcrpy>=7.0->langchain-tests<1.0.0,>=0.3.7->langchain_pinecone) (1.17.2)\n",
      "Requirement already satisfied: py-cpuinfo in /Users/pasindudilshan/miniconda3/envs/medibot/lib/python3.10/site-packages (from pytest-benchmark->langchain-tests<1.0.0,>=0.3.7->langchain_pinecone) (9.0.0)\n",
      "Requirement already satisfied: cffi>=1.17.1 in /Users/pasindudilshan/miniconda3/envs/medibot/lib/python3.10/site-packages (from pytest-codspeed->langchain-tests<1.0.0,>=0.3.7->langchain_pinecone) (1.17.1)\n",
      "Requirement already satisfied: rich>=13.8.1 in /Users/pasindudilshan/miniconda3/envs/medibot/lib/python3.10/site-packages (from pytest-codspeed->langchain-tests<1.0.0,>=0.3.7->langchain_pinecone) (14.0.0)\n",
      "Requirement already satisfied: pycparser in /Users/pasindudilshan/miniconda3/envs/medibot/lib/python3.10/site-packages (from cffi>=1.17.1->pytest-codspeed->langchain-tests<1.0.0,>=0.3.7->langchain_pinecone) (2.22)\n",
      "Requirement already satisfied: markdown-it-py>=2.2.0 in /Users/pasindudilshan/miniconda3/envs/medibot/lib/python3.10/site-packages (from rich>=13.8.1->pytest-codspeed->langchain-tests<1.0.0,>=0.3.7->langchain_pinecone) (3.0.0)\n",
      "Requirement already satisfied: mdurl~=0.1 in /Users/pasindudilshan/miniconda3/envs/medibot/lib/python3.10/site-packages (from markdown-it-py>=2.2.0->rich>=13.8.1->pytest-codspeed->langchain-tests<1.0.0,>=0.3.7->langchain_pinecone) (0.1.2)\n"
     ]
    }
   ],
   "source": [
    "!pip install langchain_pinecone"
   ]
  },
  {
   "cell_type": "code",
   "execution_count": 29,
   "id": "ab5f2524",
   "metadata": {},
   "outputs": [],
   "source": [
    "# Embed each chunk and upsert the embeddings into your Pinecone index.\n",
    "from langchain_pinecone import PineconeVectorStore\n",
    "\n",
    "docsearch = PineconeVectorStore.from_documents(\n",
    "    documents=text_chunks,\n",
    "    index_name=index_name,\n",
    "    embedding=embeddings, \n",
    ")"
   ]
  },
  {
   "cell_type": "code",
   "execution_count": 30,
   "id": "d02557d2",
   "metadata": {},
   "outputs": [],
   "source": [
    "# Load Existing index \n",
    "\n",
    "from langchain_pinecone import PineconeVectorStore\n",
    "# Embed each chunk and upsert the embeddings into your Pinecone index.\n",
    "docsearch = PineconeVectorStore.from_existing_index(\n",
    "    index_name=index_name,\n",
    "    embedding=embeddings\n",
    ")"
   ]
  },
  {
   "cell_type": "code",
   "execution_count": 31,
   "id": "5a0b12b5",
   "metadata": {},
   "outputs": [
    {
     "data": {
      "text/plain": [
       "<langchain_pinecone.vectorstores.PineconeVectorStore at 0x12ed09990>"
      ]
     },
     "execution_count": 31,
     "metadata": {},
     "output_type": "execute_result"
    }
   ],
   "source": [
    "docsearch"
   ]
  },
  {
   "cell_type": "code",
   "execution_count": 32,
   "id": "fd4f04e7",
   "metadata": {},
   "outputs": [],
   "source": [
    "dswith = Document(\n",
    "    page_content=\"what is AIDS\",\n",
    "    metadata={\"source\": \"medical book\"}\n",
    ")"
   ]
  },
  {
   "cell_type": "code",
   "execution_count": 33,
   "id": "4a78ae5f",
   "metadata": {},
   "outputs": [
    {
     "data": {
      "text/plain": [
       "['58711057-416a-4509-8f56-3c4261497229']"
      ]
     },
     "execution_count": 33,
     "metadata": {},
     "output_type": "execute_result"
    }
   ],
   "source": [
    "docsearch.add_documents(documents=[dswith])"
   ]
  },
  {
   "cell_type": "code",
   "execution_count": 34,
   "id": "69ddd243",
   "metadata": {},
   "outputs": [
    {
     "data": {
      "text/plain": [
       "<langchain_pinecone.vectorstores.PineconeVectorStore at 0x12ed09990>"
      ]
     },
     "execution_count": 34,
     "metadata": {},
     "output_type": "execute_result"
    }
   ],
   "source": [
    "docsearch"
   ]
  },
  {
   "cell_type": "code",
   "execution_count": 35,
   "id": "908c9ca8",
   "metadata": {},
   "outputs": [],
   "source": [
    "retriever = docsearch.as_retriever(search_type=\"similarity\", search_kwargs={\"k\":3})"
   ]
  },
  {
   "cell_type": "code",
   "execution_count": 36,
   "id": "df9009ca",
   "metadata": {},
   "outputs": [
    {
     "data": {
      "text/plain": [
       "[Document(id='d6f506fc-2800-4d01-bf54-759f1cc3593b', metadata={'source': 'medical book'}, page_content='what is AIDS'),\n",
       " Document(id='2b8ff4e4-1358-4bcf-b0f9-0b0b6c35c417', metadata={'source': 'medical book'}, page_content='what is AIDS'),\n",
       " Document(id='58711057-416a-4509-8f56-3c4261497229', metadata={'source': 'medical book'}, page_content='what is AIDS')]"
      ]
     },
     "execution_count": 36,
     "metadata": {},
     "output_type": "execute_result"
    }
   ],
   "source": [
    "retrieved_docs = retriever.invoke(\"what is AIDS\")\n",
    "retrieved_docs"
   ]
  },
  {
   "cell_type": "code",
   "execution_count": 40,
   "id": "d4bc1e09",
   "metadata": {},
   "outputs": [
    {
     "name": "stderr",
     "output_type": "stream",
     "text": [
      "huggingface/tokenizers: The current process just got forked, after parallelism has already been used. Disabling parallelism to avoid deadlocks...\n",
      "To disable this warning, you can either:\n",
      "\t- Avoid using `tokenizers` before the fork if possible\n",
      "\t- Explicitly set the environment variable TOKENIZERS_PARALLELISM=(true | false)\n"
     ]
    },
    {
     "name": "stdout",
     "output_type": "stream",
     "text": [
      "Requirement already satisfied: langchain-groq in /Users/pasindudilshan/miniconda3/envs/medibot/lib/python3.10/site-packages (0.3.4)\n",
      "Requirement already satisfied: langchain-core<1.0.0,>=0.3.66 in /Users/pasindudilshan/miniconda3/envs/medibot/lib/python3.10/site-packages (from langchain-groq) (0.3.67)\n",
      "Requirement already satisfied: groq<1,>=0.28.0 in /Users/pasindudilshan/miniconda3/envs/medibot/lib/python3.10/site-packages (from langchain-groq) (0.29.0)\n",
      "Requirement already satisfied: anyio<5,>=3.5.0 in /Users/pasindudilshan/miniconda3/envs/medibot/lib/python3.10/site-packages (from groq<1,>=0.28.0->langchain-groq) (4.9.0)\n",
      "Requirement already satisfied: distro<2,>=1.7.0 in /Users/pasindudilshan/miniconda3/envs/medibot/lib/python3.10/site-packages (from groq<1,>=0.28.0->langchain-groq) (1.9.0)\n",
      "Requirement already satisfied: httpx<1,>=0.23.0 in /Users/pasindudilshan/miniconda3/envs/medibot/lib/python3.10/site-packages (from groq<1,>=0.28.0->langchain-groq) (0.28.1)\n",
      "Requirement already satisfied: pydantic<3,>=1.9.0 in /Users/pasindudilshan/miniconda3/envs/medibot/lib/python3.10/site-packages (from groq<1,>=0.28.0->langchain-groq) (2.11.7)\n",
      "Requirement already satisfied: sniffio in /Users/pasindudilshan/miniconda3/envs/medibot/lib/python3.10/site-packages (from groq<1,>=0.28.0->langchain-groq) (1.3.1)\n",
      "Requirement already satisfied: typing-extensions<5,>=4.10 in /Users/pasindudilshan/miniconda3/envs/medibot/lib/python3.10/site-packages (from groq<1,>=0.28.0->langchain-groq) (4.14.0)\n",
      "Requirement already satisfied: exceptiongroup>=1.0.2 in /Users/pasindudilshan/miniconda3/envs/medibot/lib/python3.10/site-packages (from anyio<5,>=3.5.0->groq<1,>=0.28.0->langchain-groq) (1.3.0)\n",
      "Requirement already satisfied: idna>=2.8 in /Users/pasindudilshan/miniconda3/envs/medibot/lib/python3.10/site-packages (from anyio<5,>=3.5.0->groq<1,>=0.28.0->langchain-groq) (3.10)\n",
      "Requirement already satisfied: certifi in /Users/pasindudilshan/miniconda3/envs/medibot/lib/python3.10/site-packages (from httpx<1,>=0.23.0->groq<1,>=0.28.0->langchain-groq) (2025.6.15)\n",
      "Requirement already satisfied: httpcore==1.* in /Users/pasindudilshan/miniconda3/envs/medibot/lib/python3.10/site-packages (from httpx<1,>=0.23.0->groq<1,>=0.28.0->langchain-groq) (1.0.9)\n",
      "Requirement already satisfied: h11>=0.16 in /Users/pasindudilshan/miniconda3/envs/medibot/lib/python3.10/site-packages (from httpcore==1.*->httpx<1,>=0.23.0->groq<1,>=0.28.0->langchain-groq) (0.16.0)\n",
      "Requirement already satisfied: langsmith>=0.3.45 in /Users/pasindudilshan/miniconda3/envs/medibot/lib/python3.10/site-packages (from langchain-core<1.0.0,>=0.3.66->langchain-groq) (0.4.4)\n",
      "Requirement already satisfied: tenacity!=8.4.0,<10.0.0,>=8.1.0 in /Users/pasindudilshan/miniconda3/envs/medibot/lib/python3.10/site-packages (from langchain-core<1.0.0,>=0.3.66->langchain-groq) (9.1.2)\n",
      "Requirement already satisfied: jsonpatch<2.0,>=1.33 in /Users/pasindudilshan/miniconda3/envs/medibot/lib/python3.10/site-packages (from langchain-core<1.0.0,>=0.3.66->langchain-groq) (1.33)\n",
      "Requirement already satisfied: PyYAML>=5.3 in /Users/pasindudilshan/miniconda3/envs/medibot/lib/python3.10/site-packages (from langchain-core<1.0.0,>=0.3.66->langchain-groq) (6.0.2)\n",
      "Requirement already satisfied: packaging<25,>=23.2 in /Users/pasindudilshan/miniconda3/envs/medibot/lib/python3.10/site-packages (from langchain-core<1.0.0,>=0.3.66->langchain-groq) (24.2)\n",
      "Requirement already satisfied: jsonpointer>=1.9 in /Users/pasindudilshan/miniconda3/envs/medibot/lib/python3.10/site-packages (from jsonpatch<2.0,>=1.33->langchain-core<1.0.0,>=0.3.66->langchain-groq) (3.0.0)\n",
      "Requirement already satisfied: annotated-types>=0.6.0 in /Users/pasindudilshan/miniconda3/envs/medibot/lib/python3.10/site-packages (from pydantic<3,>=1.9.0->groq<1,>=0.28.0->langchain-groq) (0.7.0)\n",
      "Requirement already satisfied: pydantic-core==2.33.2 in /Users/pasindudilshan/miniconda3/envs/medibot/lib/python3.10/site-packages (from pydantic<3,>=1.9.0->groq<1,>=0.28.0->langchain-groq) (2.33.2)\n",
      "Requirement already satisfied: typing-inspection>=0.4.0 in /Users/pasindudilshan/miniconda3/envs/medibot/lib/python3.10/site-packages (from pydantic<3,>=1.9.0->groq<1,>=0.28.0->langchain-groq) (0.4.1)\n",
      "Requirement already satisfied: orjson<4.0.0,>=3.9.14 in /Users/pasindudilshan/miniconda3/envs/medibot/lib/python3.10/site-packages (from langsmith>=0.3.45->langchain-core<1.0.0,>=0.3.66->langchain-groq) (3.10.18)\n",
      "Requirement already satisfied: requests<3,>=2 in /Users/pasindudilshan/miniconda3/envs/medibot/lib/python3.10/site-packages (from langsmith>=0.3.45->langchain-core<1.0.0,>=0.3.66->langchain-groq) (2.32.4)\n",
      "Requirement already satisfied: requests-toolbelt<2.0.0,>=1.0.0 in /Users/pasindudilshan/miniconda3/envs/medibot/lib/python3.10/site-packages (from langsmith>=0.3.45->langchain-core<1.0.0,>=0.3.66->langchain-groq) (1.0.0)\n",
      "Requirement already satisfied: zstandard<0.24.0,>=0.23.0 in /Users/pasindudilshan/miniconda3/envs/medibot/lib/python3.10/site-packages (from langsmith>=0.3.45->langchain-core<1.0.0,>=0.3.66->langchain-groq) (0.23.0)\n",
      "Requirement already satisfied: charset_normalizer<4,>=2 in /Users/pasindudilshan/miniconda3/envs/medibot/lib/python3.10/site-packages (from requests<3,>=2->langsmith>=0.3.45->langchain-core<1.0.0,>=0.3.66->langchain-groq) (3.4.2)\n",
      "Requirement already satisfied: urllib3<3,>=1.21.1 in /Users/pasindudilshan/miniconda3/envs/medibot/lib/python3.10/site-packages (from requests<3,>=2->langsmith>=0.3.45->langchain-core<1.0.0,>=0.3.66->langchain-groq) (2.5.0)\n"
     ]
    }
   ],
   "source": [
    "!pip install langchain-groq"
   ]
  },
  {
   "cell_type": "code",
   "execution_count": 41,
   "id": "74dd315b",
   "metadata": {},
   "outputs": [],
   "source": [
    "from langchain_groq import ChatGroq\n",
    "\n",
    "chatModel = ChatGroq(\n",
    "    model=\"gemma2-9b-it\",\n",
    "    temperature=0.2\n",
    ")"
   ]
  },
  {
   "cell_type": "code",
   "execution_count": 42,
   "id": "c2fca3ed",
   "metadata": {},
   "outputs": [],
   "source": [
    "from langchain.chains import create_retrieval_chain\n",
    "from langchain.chains.combine_documents import create_stuff_documents_chain\n",
    "from langchain_core.prompts import ChatPromptTemplate"
   ]
  },
  {
   "cell_type": "code",
   "execution_count": 43,
   "id": "ce3ad10d",
   "metadata": {},
   "outputs": [],
   "source": [
    "system_prompt = (\n",
    "\n",
    "    \"\"\"You are a knowledgeable home remedies specialist with extensive experience in traditional and natural healing methods. Your role is to provide safe, practical home remedies for common health conditions.\n",
    "\n",
    "For the condition: **{context}**\n",
    "\n",
    "Please provide:\n",
    "\n",
    "1. **Understanding the Condition**: Brief explanation of {context} and its common symptoms\n",
    "2. **Safe Home Remedies**: List 5-7 evidence-based home remedies including:\n",
    "   - Ingredients needed\n",
    "   - Preparation method\n",
    "   - How to use/apply\n",
    "   - Frequency of use\n",
    "3. **Lifestyle Recommendations**: Diet, rest, and activity suggestions\n",
    "4. **Prevention Tips**: How to prevent recurrence\n",
    "5. **Warning Signs**: When to seek professional medical help immediately\n",
    "\n",
    "**Important Guidelines:**\n",
    "- Only suggest remedies for minor, non-serious conditions\n",
    "- Always emphasize that home remedies complement, not replace, professional medical care\n",
    "- Include safety precautions and potential allergic reactions\n",
    "- Recommend consulting a healthcare provider for persistent or severe symptoms\n",
    "- Use ingredients that are commonly available and safe for general use\n",
    "\n",
    "Format your response in a clear, easy-to-follow structure with practical instructions.\"\"\"\n",
    "\n",
    "\n",
    "    \"{context}\"\n",
    ")\n",
    "\n",
    "\n",
    "prompt = ChatPromptTemplate.from_messages(\n",
    "    [\n",
    "        (\"system\", system_prompt),\n",
    "        (\"human\", \"{input}\"),\n",
    "    ]\n",
    ")"
   ]
  },
  {
   "cell_type": "code",
   "execution_count": 44,
   "id": "2c613935",
   "metadata": {},
   "outputs": [],
   "source": [
    "question_answer_chain = create_stuff_documents_chain(chatModel, prompt)\n",
    "rag_chain = create_retrieval_chain(retriever, question_answer_chain)"
   ]
  },
  {
   "cell_type": "code",
   "execution_count": 46,
   "id": "c43de195",
   "metadata": {},
   "outputs": [
    {
     "name": "stdout",
     "output_type": "stream",
     "text": [
      "It's important to understand that **AIDS (Acquired Immunodeficiency Syndrome)** is a serious and complex medical condition caused by the Human Immunodeficiency Virus (HIV).  HIV attacks the body's immune system, making it difficult to fight off infections and diseases. \n",
      "\n",
      "**There are no home remedies that can cure or effectively treat AIDS.**  \n",
      "\n",
      "While some home remedies may help manage certain symptoms, they cannot address the underlying cause of the disease. \n",
      "\n",
      "**It is crucial to seek immediate medical attention if you suspect you may have been exposed to HIV or are experiencing symptoms of AIDS.**  \n",
      "\n",
      "Here's why home remedies are not a solution for AIDS:\n",
      "\n",
      "* **HIV is a virus:**  Home remedies typically target symptoms, not viruses. Antiretroviral therapy (ART) is the only proven treatment for HIV, which helps suppress the virus and prevent it from progressing to AIDS.\n",
      "* **Immune system damage:** AIDS weakens the immune system, making the body vulnerable to opportunistic infections and cancers. Home remedies cannot rebuild or strengthen a compromised immune system.\n",
      "* **Symptom management is not a cure:** While some home remedies might temporarily relieve symptoms like fatigue or nausea, they do not address the underlying cause of the disease.\n",
      "\n",
      "**Instead of relying on home remedies, focus on the following:**\n",
      "\n",
      "* **Get tested:** If you think you may have been exposed to HIV, get tested as soon as possible. Early diagnosis and treatment are essential.\n",
      "* **Seek medical care:**  A healthcare professional can provide appropriate diagnosis, treatment, and support for HIV and AIDS.\n",
      "* **Adhere to ART:** If you are diagnosed with HIV, it is crucial to take your prescribed ART medications as directed by your doctor.\n",
      "* **Maintain a healthy lifestyle:**  Eating a balanced diet, getting enough rest, and engaging in regular physical activity can help support your overall health and well-being.\n",
      "\n",
      "Remember, AIDS is a serious medical condition that requires professional medical care.  Please consult a doctor for any concerns or questions you may have.\n",
      "\n"
     ]
    }
   ],
   "source": [
    "answer = str(input(\"enter disease: \"))\n",
    "response = rag_chain.invoke({\"input\": answer})\n",
    "print(response[\"answer\"])"
   ]
  },
  {
   "cell_type": "code",
   "execution_count": null,
   "id": "813f98ff",
   "metadata": {},
   "outputs": [],
   "source": []
  }
 ],
 "metadata": {
  "kernelspec": {
   "display_name": "medibot",
   "language": "python",
   "name": "python3"
  },
  "language_info": {
   "codemirror_mode": {
    "name": "ipython",
    "version": 3
   },
   "file_extension": ".py",
   "mimetype": "text/x-python",
   "name": "python",
   "nbconvert_exporter": "python",
   "pygments_lexer": "ipython3",
   "version": "3.10.18"
  }
 },
 "nbformat": 4,
 "nbformat_minor": 5
}
